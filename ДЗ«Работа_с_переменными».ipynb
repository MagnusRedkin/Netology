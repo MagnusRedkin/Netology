{
  "cells": [
    {
      "cell_type": "markdown",
      "metadata": {
        "id": "view-in-github",
        "colab_type": "text"
      },
      "source": [
        "<a href=\"https://colab.research.google.com/github/MagnusRedkin/Netology/blob/main/%D0%94%D0%97%C2%AB%D0%A0%D0%B0%D0%B1%D0%BE%D1%82%D0%B0_%D1%81_%D0%BF%D0%B5%D1%80%D0%B5%D0%BC%D0%B5%D0%BD%D0%BD%D1%8B%D0%BC%D0%B8%C2%BB.ipynb\" target=\"_parent\"><img src=\"https://colab.research.google.com/assets/colab-badge.svg\" alt=\"Open In Colab\"/></a>"
      ]
    },
    {
      "cell_type": "code",
      "execution_count": null,
      "metadata": {
        "id": "2vsEyCovznsR",
        "outputId": "32d093fc-867b-4b24-d04e-6bf04fe886b6"
      },
      "outputs": [
        {
          "name": "stderr",
          "output_type": "stream",
          "text": [
            "/home/user/anaconda3/lib/python3.10/site-packages/scipy/__init__.py:146: UserWarning: A NumPy version >=1.16.5 and <1.23.0 is required for this version of SciPy (detected version 1.24.3\n",
            "  warnings.warn(f\"A NumPy version >={np_minversion} and <{np_maxversion}\"\n"
          ]
        }
      ],
      "source": [
        "import pandas as pd\n",
        "import numpy as np\n",
        "import seaborn as sns\n",
        "\n",
        "from matplotlib import pyplot as plt\n",
        "\n",
        "from sklearn.linear_model import LinearRegression\n",
        "from sklearn.metrics import mean_squared_error\n",
        "from sklearn.metrics import r2_score\n",
        "from sklearn.model_selection import train_test_split\n",
        "from sklearn.datasets import fetch_california_housing"
      ]
    },
    {
      "cell_type": "code",
      "execution_count": null,
      "metadata": {
        "id": "BXJXRtrVycDv",
        "outputId": "fd2ecc35-65b3-4c76-9a37-c38d00516123"
      },
      "outputs": [
        {
          "data": {
            "text/html": [
              "<div>\n",
              "<style scoped>\n",
              "    .dataframe tbody tr th:only-of-type {\n",
              "        vertical-align: middle;\n",
              "    }\n",
              "\n",
              "    .dataframe tbody tr th {\n",
              "        vertical-align: top;\n",
              "    }\n",
              "\n",
              "    .dataframe thead th {\n",
              "        text-align: right;\n",
              "    }\n",
              "</style>\n",
              "<table border=\"1\" class=\"dataframe\">\n",
              "  <thead>\n",
              "    <tr style=\"text-align: right;\">\n",
              "      <th></th>\n",
              "      <th>MedInc</th>\n",
              "      <th>HouseAge</th>\n",
              "      <th>AveRooms</th>\n",
              "      <th>AveBedrms</th>\n",
              "      <th>Population</th>\n",
              "      <th>AveOccup</th>\n",
              "      <th>Latitude</th>\n",
              "      <th>Longitude</th>\n",
              "    </tr>\n",
              "  </thead>\n",
              "  <tbody>\n",
              "    <tr>\n",
              "      <th>0</th>\n",
              "      <td>8.3252</td>\n",
              "      <td>41.0</td>\n",
              "      <td>6.984127</td>\n",
              "      <td>1.023810</td>\n",
              "      <td>322.0</td>\n",
              "      <td>2.555556</td>\n",
              "      <td>37.88</td>\n",
              "      <td>-122.23</td>\n",
              "    </tr>\n",
              "    <tr>\n",
              "      <th>1</th>\n",
              "      <td>8.3014</td>\n",
              "      <td>21.0</td>\n",
              "      <td>6.238137</td>\n",
              "      <td>0.971880</td>\n",
              "      <td>2401.0</td>\n",
              "      <td>2.109842</td>\n",
              "      <td>37.86</td>\n",
              "      <td>-122.22</td>\n",
              "    </tr>\n",
              "    <tr>\n",
              "      <th>2</th>\n",
              "      <td>7.2574</td>\n",
              "      <td>52.0</td>\n",
              "      <td>8.288136</td>\n",
              "      <td>1.073446</td>\n",
              "      <td>496.0</td>\n",
              "      <td>2.802260</td>\n",
              "      <td>37.85</td>\n",
              "      <td>-122.24</td>\n",
              "    </tr>\n",
              "    <tr>\n",
              "      <th>3</th>\n",
              "      <td>5.6431</td>\n",
              "      <td>52.0</td>\n",
              "      <td>5.817352</td>\n",
              "      <td>1.073059</td>\n",
              "      <td>558.0</td>\n",
              "      <td>2.547945</td>\n",
              "      <td>37.85</td>\n",
              "      <td>-122.25</td>\n",
              "    </tr>\n",
              "    <tr>\n",
              "      <th>4</th>\n",
              "      <td>3.8462</td>\n",
              "      <td>52.0</td>\n",
              "      <td>6.281853</td>\n",
              "      <td>1.081081</td>\n",
              "      <td>565.0</td>\n",
              "      <td>2.181467</td>\n",
              "      <td>37.85</td>\n",
              "      <td>-122.25</td>\n",
              "    </tr>\n",
              "  </tbody>\n",
              "</table>\n",
              "</div>"
            ],
            "text/plain": [
              "   MedInc  HouseAge  AveRooms  AveBedrms  Population  AveOccup  Latitude  \\\n",
              "0  8.3252      41.0  6.984127   1.023810       322.0  2.555556     37.88   \n",
              "1  8.3014      21.0  6.238137   0.971880      2401.0  2.109842     37.86   \n",
              "2  7.2574      52.0  8.288136   1.073446       496.0  2.802260     37.85   \n",
              "3  5.6431      52.0  5.817352   1.073059       558.0  2.547945     37.85   \n",
              "4  3.8462      52.0  6.281853   1.081081       565.0  2.181467     37.85   \n",
              "\n",
              "   Longitude  \n",
              "0    -122.23  \n",
              "1    -122.22  \n",
              "2    -122.24  \n",
              "3    -122.25  \n",
              "4    -122.25  "
            ]
          },
          "execution_count": 2,
          "metadata": {},
          "output_type": "execute_result"
        }
      ],
      "source": [
        "data, med = fetch_california_housing(return_X_y=True, as_frame=True)\n",
        "data.head()"
      ]
    },
    {
      "cell_type": "code",
      "execution_count": null,
      "metadata": {
        "id": "WNBiB42MycDw",
        "outputId": "c5638839-f507-4f9a-9d03-ac611411aebe"
      },
      "outputs": [
        {
          "data": {
            "text/plain": [
              "0    4.526\n",
              "1    3.585\n",
              "2    3.521\n",
              "3    3.413\n",
              "4    3.422\n",
              "Name: MedHouseVal, dtype: float64"
            ]
          },
          "execution_count": 3,
          "metadata": {},
          "output_type": "execute_result"
        }
      ],
      "source": [
        "med.head()"
      ]
    },
    {
      "cell_type": "code",
      "execution_count": null,
      "metadata": {
        "id": "A4BgOZ2oycDx",
        "outputId": "c376b964-3265-4c4c-e8d3-20b6357dae15"
      },
      "outputs": [
        {
          "name": "stdout",
          "output_type": "stream",
          "text": [
            "<class 'pandas.core.frame.DataFrame'>\n",
            "RangeIndex: 20640 entries, 0 to 20639\n",
            "Data columns (total 8 columns):\n",
            " #   Column      Non-Null Count  Dtype  \n",
            "---  ------      --------------  -----  \n",
            " 0   MedInc      20640 non-null  float64\n",
            " 1   HouseAge    20640 non-null  float64\n",
            " 2   AveRooms    20640 non-null  float64\n",
            " 3   AveBedrms   20640 non-null  float64\n",
            " 4   Population  20640 non-null  float64\n",
            " 5   AveOccup    20640 non-null  float64\n",
            " 6   Latitude    20640 non-null  float64\n",
            " 7   Longitude   20640 non-null  float64\n",
            "dtypes: float64(8)\n",
            "memory usage: 1.3 MB\n"
          ]
        }
      ],
      "source": [
        "data.info()"
      ]
    },
    {
      "cell_type": "code",
      "execution_count": null,
      "metadata": {
        "id": "GzGWcgABycDx",
        "outputId": "68d917c2-a5d8-4de9-f5d8-07eced3d0ffd"
      },
      "outputs": [
        {
          "name": "stdout",
          "output_type": "stream",
          "text": [
            "<class 'pandas.core.series.Series'>\n",
            "RangeIndex: 20640 entries, 0 to 20639\n",
            "Series name: MedHouseVal\n",
            "Non-Null Count  Dtype  \n",
            "--------------  -----  \n",
            "20640 non-null  float64\n",
            "dtypes: float64(1)\n",
            "memory usage: 161.4 KB\n"
          ]
        }
      ],
      "source": [
        "med.info()"
      ]
    },
    {
      "cell_type": "markdown",
      "metadata": {
        "id": "PHQg6flSycDy"
      },
      "source": [
        "Пропусков нет."
      ]
    },
    {
      "cell_type": "code",
      "execution_count": null,
      "metadata": {
        "id": "y4ioe1BGycDz",
        "outputId": "5d9708aa-7d27-4308-dc67-ace4d13f7843"
      },
      "outputs": [
        {
          "data": {
            "text/html": [
              "<div>\n",
              "<style scoped>\n",
              "    .dataframe tbody tr th:only-of-type {\n",
              "        vertical-align: middle;\n",
              "    }\n",
              "\n",
              "    .dataframe tbody tr th {\n",
              "        vertical-align: top;\n",
              "    }\n",
              "\n",
              "    .dataframe thead th {\n",
              "        text-align: right;\n",
              "    }\n",
              "</style>\n",
              "<table border=\"1\" class=\"dataframe\">\n",
              "  <thead>\n",
              "    <tr style=\"text-align: right;\">\n",
              "      <th></th>\n",
              "      <th>MedInc</th>\n",
              "      <th>HouseAge</th>\n",
              "      <th>AveRooms</th>\n",
              "      <th>AveBedrms</th>\n",
              "      <th>Population</th>\n",
              "      <th>AveOccup</th>\n",
              "      <th>Latitude</th>\n",
              "      <th>Longitude</th>\n",
              "    </tr>\n",
              "  </thead>\n",
              "  <tbody>\n",
              "    <tr>\n",
              "      <th>count</th>\n",
              "      <td>20640.000000</td>\n",
              "      <td>20640.000000</td>\n",
              "      <td>20640.000000</td>\n",
              "      <td>20640.000000</td>\n",
              "      <td>20640.000000</td>\n",
              "      <td>20640.000000</td>\n",
              "      <td>20640.000000</td>\n",
              "      <td>20640.000000</td>\n",
              "    </tr>\n",
              "    <tr>\n",
              "      <th>mean</th>\n",
              "      <td>3.870671</td>\n",
              "      <td>28.639486</td>\n",
              "      <td>5.429000</td>\n",
              "      <td>1.096675</td>\n",
              "      <td>1425.476744</td>\n",
              "      <td>3.070655</td>\n",
              "      <td>35.631861</td>\n",
              "      <td>-119.569704</td>\n",
              "    </tr>\n",
              "    <tr>\n",
              "      <th>std</th>\n",
              "      <td>1.899822</td>\n",
              "      <td>12.585558</td>\n",
              "      <td>2.474173</td>\n",
              "      <td>0.473911</td>\n",
              "      <td>1132.462122</td>\n",
              "      <td>10.386050</td>\n",
              "      <td>2.135952</td>\n",
              "      <td>2.003532</td>\n",
              "    </tr>\n",
              "    <tr>\n",
              "      <th>min</th>\n",
              "      <td>0.499900</td>\n",
              "      <td>1.000000</td>\n",
              "      <td>0.846154</td>\n",
              "      <td>0.333333</td>\n",
              "      <td>3.000000</td>\n",
              "      <td>0.692308</td>\n",
              "      <td>32.540000</td>\n",
              "      <td>-124.350000</td>\n",
              "    </tr>\n",
              "    <tr>\n",
              "      <th>25%</th>\n",
              "      <td>2.563400</td>\n",
              "      <td>18.000000</td>\n",
              "      <td>4.440716</td>\n",
              "      <td>1.006079</td>\n",
              "      <td>787.000000</td>\n",
              "      <td>2.429741</td>\n",
              "      <td>33.930000</td>\n",
              "      <td>-121.800000</td>\n",
              "    </tr>\n",
              "    <tr>\n",
              "      <th>50%</th>\n",
              "      <td>3.534800</td>\n",
              "      <td>29.000000</td>\n",
              "      <td>5.229129</td>\n",
              "      <td>1.048780</td>\n",
              "      <td>1166.000000</td>\n",
              "      <td>2.818116</td>\n",
              "      <td>34.260000</td>\n",
              "      <td>-118.490000</td>\n",
              "    </tr>\n",
              "    <tr>\n",
              "      <th>75%</th>\n",
              "      <td>4.743250</td>\n",
              "      <td>37.000000</td>\n",
              "      <td>6.052381</td>\n",
              "      <td>1.099526</td>\n",
              "      <td>1725.000000</td>\n",
              "      <td>3.282261</td>\n",
              "      <td>37.710000</td>\n",
              "      <td>-118.010000</td>\n",
              "    </tr>\n",
              "    <tr>\n",
              "      <th>max</th>\n",
              "      <td>15.000100</td>\n",
              "      <td>52.000000</td>\n",
              "      <td>141.909091</td>\n",
              "      <td>34.066667</td>\n",
              "      <td>35682.000000</td>\n",
              "      <td>1243.333333</td>\n",
              "      <td>41.950000</td>\n",
              "      <td>-114.310000</td>\n",
              "    </tr>\n",
              "  </tbody>\n",
              "</table>\n",
              "</div>"
            ],
            "text/plain": [
              "             MedInc      HouseAge      AveRooms     AveBedrms    Population  \\\n",
              "count  20640.000000  20640.000000  20640.000000  20640.000000  20640.000000   \n",
              "mean       3.870671     28.639486      5.429000      1.096675   1425.476744   \n",
              "std        1.899822     12.585558      2.474173      0.473911   1132.462122   \n",
              "min        0.499900      1.000000      0.846154      0.333333      3.000000   \n",
              "25%        2.563400     18.000000      4.440716      1.006079    787.000000   \n",
              "50%        3.534800     29.000000      5.229129      1.048780   1166.000000   \n",
              "75%        4.743250     37.000000      6.052381      1.099526   1725.000000   \n",
              "max       15.000100     52.000000    141.909091     34.066667  35682.000000   \n",
              "\n",
              "           AveOccup      Latitude     Longitude  \n",
              "count  20640.000000  20640.000000  20640.000000  \n",
              "mean       3.070655     35.631861   -119.569704  \n",
              "std       10.386050      2.135952      2.003532  \n",
              "min        0.692308     32.540000   -124.350000  \n",
              "25%        2.429741     33.930000   -121.800000  \n",
              "50%        2.818116     34.260000   -118.490000  \n",
              "75%        3.282261     37.710000   -118.010000  \n",
              "max     1243.333333     41.950000   -114.310000  "
            ]
          },
          "execution_count": 6,
          "metadata": {},
          "output_type": "execute_result"
        }
      ],
      "source": [
        "data.describe()"
      ]
    },
    {
      "cell_type": "code",
      "execution_count": null,
      "metadata": {
        "id": "13elg5v3ycDz",
        "outputId": "e81336b6-e26e-4206-9c6e-6b4240294cdb"
      },
      "outputs": [
        {
          "data": {
            "text/plain": [
              "count    20640.000000\n",
              "mean         2.068558\n",
              "std          1.153956\n",
              "min          0.149990\n",
              "25%          1.196000\n",
              "50%          1.797000\n",
              "75%          2.647250\n",
              "max          5.000010\n",
              "Name: MedHouseVal, dtype: float64"
            ]
          },
          "execution_count": 7,
          "metadata": {},
          "output_type": "execute_result"
        }
      ],
      "source": [
        "med.describe()"
      ]
    },
    {
      "cell_type": "code",
      "execution_count": null,
      "metadata": {
        "id": "lAHzmGEXycD0"
      },
      "outputs": [],
      "source": [
        "X_train, X_test, y_train, y_test = train_test_split(data, med, test_size=0.2, random_state=42)"
      ]
    },
    {
      "cell_type": "code",
      "execution_count": null,
      "metadata": {
        "id": "-d3wnmrAycD0"
      },
      "outputs": [],
      "source": [
        "model = LinearRegression()"
      ]
    },
    {
      "cell_type": "code",
      "execution_count": null,
      "metadata": {
        "id": "TD1MTH-yycD0"
      },
      "outputs": [],
      "source": [
        "model.fit(X_train, y_train)\n",
        "pred = model.predict(X_train)\n",
        "pred_test = model.predict(X_test)"
      ]
    },
    {
      "cell_type": "code",
      "execution_count": null,
      "metadata": {
        "id": "CIb5R0lfycD0",
        "outputId": "c537a1ce-ead1-4690-9cb7-a24e15c1961b"
      },
      "outputs": [
        {
          "data": {
            "text/plain": [
              "0.7196757085831575"
            ]
          },
          "execution_count": 11,
          "metadata": {},
          "output_type": "execute_result"
        }
      ],
      "source": [
        "mean_squared_error(y_train, pred, squared = False)"
      ]
    },
    {
      "cell_type": "code",
      "execution_count": null,
      "metadata": {
        "id": "-Ce5G9pjycD1",
        "outputId": "c017ef60-9f11-44d4-dee1-8ba19a2cada9"
      },
      "outputs": [
        {
          "data": {
            "text/plain": [
              "0.7455813830127764"
            ]
          },
          "execution_count": 12,
          "metadata": {},
          "output_type": "execute_result"
        }
      ],
      "source": [
        "mean_squared_error(y_test, pred_test, squared = False)"
      ]
    },
    {
      "cell_type": "markdown",
      "metadata": {
        "id": "qU35R1HwycD1"
      },
      "source": [
        "Тест удаляется от нуля.\\\n",
        "*(где-то проскакивало об отсутсвии реализации RMSE в sklearn. Параметр [\"squared\"](https://scikit-learn.org/stable/modules/generated/sklearn.metrics.mean_squared_error.html#sklearn.metrics.mean_squared_error))*"
      ]
    },
    {
      "cell_type": "code",
      "execution_count": null,
      "metadata": {
        "id": "sfP6DJVEycD1",
        "outputId": "e4851d95-2aee-4247-8d32-1646f7e96f6d"
      },
      "outputs": [
        {
          "data": {
            "text/plain": [
              "0.6125511913966952"
            ]
          },
          "execution_count": 13,
          "metadata": {},
          "output_type": "execute_result"
        }
      ],
      "source": [
        "r2_score(y_train, pred)"
      ]
    },
    {
      "cell_type": "code",
      "execution_count": null,
      "metadata": {
        "id": "LgkZkhx9ycD2",
        "outputId": "b2ec978f-f111-4d0e-fa1b-dbe859e6e61d"
      },
      "outputs": [
        {
          "data": {
            "text/plain": [
              "0.5757877060324508"
            ]
          },
          "execution_count": 14,
          "metadata": {},
          "output_type": "execute_result"
        }
      ],
      "source": [
        "r2_score(y_test, pred_test)"
      ]
    },
    {
      "cell_type": "markdown",
      "metadata": {
        "id": "RMIaOjmsycD2"
      },
      "source": [
        "И от единицы тоже."
      ]
    },
    {
      "cell_type": "code",
      "execution_count": null,
      "metadata": {
        "scrolled": false,
        "id": "rFou9AubycD2",
        "outputId": "c464a0d5-0e71-4e7f-ea9a-b3d1e87e80d2"
      },
      "outputs": [
        {
          "data": {
            "text/plain": [
              "<Axes: >"
            ]
          },
          "execution_count": 15,
          "metadata": {},
          "output_type": "execute_result"
        },
        {
          "data": {
            "image/png": "[encoded data removed]",
            "text/plain": [
              "<Figure size 1200x400 with 1 Axes>"
            ]
          },
          "metadata": {},
          "output_type": "display_data"
        }
      ],
      "source": [
        "med.hist(figsize=(12, 4), bins=30, edgecolor=\"black\")"
      ]
    },
    {
      "cell_type": "markdown",
      "metadata": {
        "id": "YvzzLJ2KycD3"
      },
      "source": [
        "Распределение имеет относительно нормальное но имеет выброс в районе 5."
      ]
    },
    {
      "cell_type": "code",
      "execution_count": null,
      "metadata": {
        "id": "oonbYmrMycD3",
        "outputId": "b7eab7e8-735c-449f-a5e1-220b62ba7157"
      },
      "outputs": [
        {
          "data": {
            "text/plain": [
              "<Axes: >"
            ]
          },
          "metadata": {},
          "output_type": "display_data"
        },
        {
          "data": {
            "image/png": "[encoded data removed]",
            "text/plain": [
              "<Figure size 640x480 with 1 Axes>"
            ]
          },
          "metadata": {},
          "output_type": "display_data"
        }
      ],
      "source": [
        "display(med.plot.box())"
      ]
    },
    {
      "cell_type": "code",
      "execution_count": null,
      "metadata": {
        "id": "efKTt2r3ycD3"
      },
      "outputs": [],
      "source": [
        "data_corr = data.copy(deep=True)\n",
        "data_corr['MedHouseValue'] = med"
      ]
    },
    {
      "cell_type": "code",
      "execution_count": null,
      "metadata": {
        "scrolled": false,
        "id": "GSfZIL6YycD3",
        "outputId": "664fe112-bdd4-49a4-f7ab-12c32ace045e"
      },
      "outputs": [
        {
          "data": {
            "text/plain": [
              "<Axes: >"
            ]
          },
          "execution_count": 18,
          "metadata": {},
          "output_type": "execute_result"
        },
        {
          "data": {
            "image/png": "[encoded data removed]",
            "text/plain": [
              "<Figure size 640x480 with 2 Axes>"
            ]
          },
          "metadata": {},
          "output_type": "display_data"
        }
      ],
      "source": [
        "sns.heatmap(data_corr.corr(), annot = True)"
      ]
    },
    {
      "cell_type": "markdown",
      "metadata": {
        "id": "i-oc-hnlycD3"
      },
      "source": [
        "Здесь корреляция между AveRooms->AveBedrms и Latitude->Longitude, поэтому лучше оставить одну из пары. Наибольшая корреляция между целью и 'MedInc', 'HouseAge', 'AveRooms', 'Latitude'. их и оставим."
      ]
    },
    {
      "cell_type": "code",
      "execution_count": null,
      "metadata": {
        "id": "8MM5exr3ycD3"
      },
      "outputs": [],
      "source": [
        "X_train1 = X_train[['MedInc', 'HouseAge', 'AveRooms', 'Latitude']]\n",
        "X_test1  = X_test[['MedInc', 'HouseAge', 'AveRooms', 'Latitude']]"
      ]
    },
    {
      "cell_type": "code",
      "execution_count": null,
      "metadata": {
        "id": "lB7s2dKaycD4"
      },
      "outputs": [],
      "source": [
        "model1 = LinearRegression()"
      ]
    },
    {
      "cell_type": "code",
      "execution_count": null,
      "metadata": {
        "id": "GDKbPduwycD4"
      },
      "outputs": [],
      "source": [
        "model1.fit(X_train1, y_train)\n",
        "pred1 = model1.predict(X_train1)\n",
        "pred_test1 = model1.predict(X_test1)"
      ]
    },
    {
      "cell_type": "code",
      "execution_count": null,
      "metadata": {
        "id": "ZEftCqOcycD4",
        "outputId": "bf4b3c6f-76f4-4fd7-96e7-f5bb3447177b"
      },
      "outputs": [
        {
          "data": {
            "text/plain": [
              "0.7989089953528047"
            ]
          },
          "execution_count": 22,
          "metadata": {},
          "output_type": "execute_result"
        }
      ],
      "source": [
        "mean_squared_error(y_train, pred1, squared = False)"
      ]
    },
    {
      "cell_type": "code",
      "execution_count": null,
      "metadata": {
        "id": "TG0ZebAaycD4",
        "outputId": "25bb83a3-330c-4365-8a72-5a293a3284ad"
      },
      "outputs": [
        {
          "data": {
            "text/plain": [
              "0.8059451277212133"
            ]
          },
          "execution_count": 23,
          "metadata": {},
          "output_type": "execute_result"
        }
      ],
      "source": [
        "mean_squared_error(y_test, pred_test1, squared = False)"
      ]
    },
    {
      "cell_type": "code",
      "execution_count": null,
      "metadata": {
        "id": "sfovkRCyycD5",
        "outputId": "3fcf1843-c815-46e2-e621-4726a00e91b8"
      },
      "outputs": [
        {
          "data": {
            "text/plain": [
              "0.5225419016956813"
            ]
          },
          "execution_count": 24,
          "metadata": {},
          "output_type": "execute_result"
        }
      ],
      "source": [
        "r2_score(y_train, pred1)"
      ]
    },
    {
      "cell_type": "code",
      "execution_count": null,
      "metadata": {
        "id": "r_JvHY66ycD5",
        "outputId": "aae10f78-28f6-4e03-89ab-d8bfc2ab7714"
      },
      "outputs": [
        {
          "data": {
            "text/plain": [
              "0.5043169272470043"
            ]
          },
          "execution_count": 25,
          "metadata": {},
          "output_type": "execute_result"
        }
      ],
      "source": [
        "r2_score(y_test, pred_test1)"
      ]
    },
    {
      "cell_type": "markdown",
      "metadata": {
        "id": "fG9ZEiLRycD5"
      },
      "source": [
        "Стало немного хуже. Посмотрим что с выбросами, может после них улучшится."
      ]
    },
    {
      "cell_type": "code",
      "execution_count": null,
      "metadata": {
        "id": "4Vv9yux6ycD5"
      },
      "outputs": [],
      "source": [
        "data_corr = data_corr[['MedInc', 'HouseAge', 'AveRooms', 'Latitude', 'MedHouseValue']]"
      ]
    },
    {
      "cell_type": "code",
      "execution_count": null,
      "metadata": {
        "id": "irGsbMWQycD6"
      },
      "outputs": [],
      "source": [
        "Q1 = data_corr.quantile(0.25)\n",
        "Q3 = data_corr.quantile(0.75)\n",
        "\n",
        "IQR = Q3 - Q1"
      ]
    },
    {
      "cell_type": "code",
      "execution_count": null,
      "metadata": {
        "id": "74CoKXvTycD6"
      },
      "outputs": [],
      "source": [
        "out_low = Q1 - 1.5*IQR\n",
        "out_upp = Q3 + 1.5*IQR"
      ]
    },
    {
      "cell_type": "code",
      "execution_count": null,
      "metadata": {
        "scrolled": false,
        "id": "3TMTjSrJycD6",
        "outputId": "dc209c10-80dd-44e7-804b-53dead2db312"
      },
      "outputs": [
        {
          "name": "stdout",
          "output_type": "stream",
          "text": [
            "MedInc\n",
            "0         8.3252\n",
            "1         8.3014\n",
            "131      11.6017\n",
            "134       8.2049\n",
            "135       8.4010\n",
            "          ...   \n",
            "20426    10.0472\n",
            "20427     8.6499\n",
            "20428     8.7288\n",
            "20436    12.5420\n",
            "20503     8.2787\n",
            "Name: MedInc, Length: 681, dtype: float64\n"
          ]
        },
        {
          "data": {
            "text/plain": [
              "<Axes: >"
            ]
          },
          "metadata": {},
          "output_type": "display_data"
        },
        {
          "name": "stdout",
          "output_type": "stream",
          "text": [
            "\n",
            "HouseAge\n",
            "No outliers\n",
            "\n",
            "AveRooms\n",
            "73       1.714286\n",
            "155      8.972868\n",
            "511      8.928358\n",
            "512      9.210227\n",
            "514      9.122715\n",
            "           ...   \n",
            "20408    8.730038\n",
            "20426    9.890756\n",
            "20428    8.715842\n",
            "20436    9.873315\n",
            "20462    8.652174\n",
            "Name: AveRooms, Length: 511, dtype: float64\n"
          ]
        },
        {
          "data": {
            "text/plain": [
              "<Axes: >"
            ]
          },
          "metadata": {},
          "output_type": "display_data"
        },
        {
          "name": "stdout",
          "output_type": "stream",
          "text": [
            "\n",
            "Latitude\n",
            "No outliers\n",
            "\n",
            "MedHouseValue\n",
            "89       5.00001\n",
            "140      4.83300\n",
            "459      5.00001\n",
            "489      4.89600\n",
            "493      5.00001\n",
            "          ...   \n",
            "20422    5.00001\n",
            "20426    5.00001\n",
            "20427    5.00001\n",
            "20436    5.00001\n",
            "20443    5.00001\n",
            "Name: MedHouseValue, Length: 1071, dtype: float64\n"
          ]
        },
        {
          "data": {
            "text/plain": [
              "<Axes: >"
            ]
          },
          "metadata": {},
          "output_type": "display_data"
        },
        {
          "name": "stdout",
          "output_type": "stream",
          "text": [
            "\n"
          ]
        },
        {
          "data": {
            "image/png": "[encoded data removed]",
            "text/plain": [
              "<Figure size 640x480 with 1 Axes>"
            ]
          },
          "metadata": {},
          "output_type": "display_data"
        },
        {
          "data": {
            "image/png": "[encoded data removed]",
            "text/plain": [
              "<Figure size 640x480 with 1 Axes>"
            ]
          },
          "metadata": {},
          "output_type": "display_data"
        },
        {
          "data": {
            "image/png": "[encoded data removed]",
            "text/plain": [
              "<Figure size 640x480 with 1 Axes>"
            ]
          },
          "metadata": {},
          "output_type": "display_data"
        }
      ],
      "source": [
        "for col in data_corr:\n",
        "    val = data_corr[col]\n",
        "    print(col)\n",
        "    out = val[(val < out_low[col]) | (val > out_upp[col])]\n",
        "    if len(out) == 0:\n",
        "        print('No outliers')\n",
        "    else:\n",
        "        print(out)\n",
        "        display(data_corr[[col]].plot.box())\n",
        "    print()"
      ]
    },
    {
      "cell_type": "code",
      "execution_count": null,
      "metadata": {
        "id": "54I2vlHnycD6",
        "outputId": "6ac3dc7a-5f7f-42b3-9524-5fcb5d2d114b"
      },
      "outputs": [
        {
          "data": {
            "text/plain": [
              "(20640, 5)"
            ]
          },
          "execution_count": 30,
          "metadata": {},
          "output_type": "execute_result"
        }
      ],
      "source": [
        "data_corr.shape"
      ]
    },
    {
      "cell_type": "markdown",
      "metadata": {
        "id": "74wCTRokycD7"
      },
      "source": [
        "Удалим выбросы."
      ]
    },
    {
      "cell_type": "code",
      "execution_count": null,
      "metadata": {
        "id": "o0bkB9w3ycD7",
        "outputId": "75b2a5ef-c81a-45be-d56e-6a866b5d452a"
      },
      "outputs": [
        {
          "data": {
            "text/plain": [
              "(18974, 5)"
            ]
          },
          "execution_count": 31,
          "metadata": {},
          "output_type": "execute_result"
        }
      ],
      "source": [
        "data_clean = data_corr[~((data_corr < (out_low)) | (data_corr > (out_upp))).any(axis=1)]\n",
        "data_clean.shape"
      ]
    },
    {
      "cell_type": "markdown",
      "metadata": {
        "id": "tIt4lsTpycD7"
      },
      "source": [
        "Обучим ещё раз."
      ]
    },
    {
      "cell_type": "code",
      "execution_count": null,
      "metadata": {
        "id": "h6biseA9ycEH"
      },
      "outputs": [],
      "source": [
        "target = data_clean['MedHouseValue']"
      ]
    },
    {
      "cell_type": "code",
      "execution_count": null,
      "metadata": {
        "id": "ycuCW6z-ycEH"
      },
      "outputs": [],
      "source": [
        "initial = data_clean[['MedInc', 'HouseAge', 'AveRooms', 'Latitude']]"
      ]
    },
    {
      "cell_type": "code",
      "execution_count": null,
      "metadata": {
        "id": "Re662hlpycEH"
      },
      "outputs": [],
      "source": [
        "X_train, X_test, y_train, y_test = train_test_split(initial, target, test_size=0.2, random_state=42)"
      ]
    },
    {
      "cell_type": "code",
      "execution_count": null,
      "metadata": {
        "id": "oH9Ceo0CycEH"
      },
      "outputs": [],
      "source": [
        "model2 = LinearRegression()\n",
        "model2.fit(X_train, y_train)\n",
        "pred2 = model2.predict(X_train)\n",
        "pred_test2 = model2.predict(X_test)"
      ]
    },
    {
      "cell_type": "code",
      "execution_count": null,
      "metadata": {
        "id": "_tD2dy-GycEH",
        "outputId": "42b0cfba-9f13-4c01-9755-ed8e84a2c606"
      },
      "outputs": [
        {
          "data": {
            "text/plain": [
              "0.6739406785304541"
            ]
          },
          "execution_count": 36,
          "metadata": {},
          "output_type": "execute_result"
        }
      ],
      "source": [
        "mean_squared_error(y_train, pred2, squared = False)"
      ]
    },
    {
      "cell_type": "code",
      "execution_count": null,
      "metadata": {
        "id": "FaNQV-HLycEI",
        "outputId": "0228f893-b46d-419b-ce2d-1c50b32653a7"
      },
      "outputs": [
        {
          "data": {
            "text/plain": [
              "0.6743600186306443"
            ]
          },
          "execution_count": 37,
          "metadata": {},
          "output_type": "execute_result"
        }
      ],
      "source": [
        "mean_squared_error(y_test, pred_test2, squared = False)"
      ]
    },
    {
      "cell_type": "markdown",
      "metadata": {
        "id": "t7ERMTNvycEI"
      },
      "source": [
        "Лучше, чем в предыдущие два раза."
      ]
    },
    {
      "cell_type": "code",
      "execution_count": null,
      "metadata": {
        "id": "7m00nakaycEI",
        "outputId": "ee63a05c-5e51-4516-9c89-dbba79cc7f41"
      },
      "outputs": [
        {
          "data": {
            "text/plain": [
              "0.4796299170391678"
            ]
          },
          "execution_count": 39,
          "metadata": {},
          "output_type": "execute_result"
        }
      ],
      "source": [
        "r2_score(y_train, pred2)"
      ]
    },
    {
      "cell_type": "code",
      "execution_count": null,
      "metadata": {
        "id": "pehyTNLBycEI",
        "outputId": "d6e65305-81d8-4115-908f-c61dad242965"
      },
      "outputs": [
        {
          "data": {
            "text/plain": [
              "0.4738483965815544"
            ]
          },
          "execution_count": 40,
          "metadata": {},
          "output_type": "execute_result"
        }
      ],
      "source": [
        "r2_score(y_test, pred_test2)"
      ]
    },
    {
      "cell_type": "markdown",
      "metadata": {
        "id": "2Jw7ZaghycEI"
      },
      "source": [
        "А здесь хуже, что-то пошло не так. В задании было сказано\\\n",
        "\"a. Удалите выбросы в случае обнаружения.\"\\\n",
        "Видимо нужно было не удалять а действовать другим методом."
      ]
    }
  ],
  "metadata": {
    "colab": {
      "provenance": [],
      "include_colab_link": true
    },
    "kernelspec": {
      "display_name": "Python 3 (ipykernel)",
      "language": "python",
      "name": "python3"
    },
    "language_info": {
      "codemirror_mode": {
        "name": "ipython",
        "version": 3
      },
      "file_extension": ".py",
      "mimetype": "text/x-python",
      "name": "python",
      "nbconvert_exporter": "python",
      "pygments_lexer": "ipython3",
      "version": "3.10.12"
    }
  },
  "nbformat": 4,
  "nbformat_minor": 0
}