{
  "cells": [
    {
      "cell_type": "markdown",
      "metadata": {
        "id": "view-in-github",
        "colab_type": "text"
      },
      "source": [
        "<a href=\"https://colab.research.google.com/github/MagnusRedkin/Netology/blob/main/DZ_%C2%AB%D0%92%D0%B2%D0%B5%D0%B4%D0%B5%D0%BD%D0%B8%D0%B5_%D0%B2_%D1%81%D0%B2%D0%B5%D1%80%D1%82%D0%BE%D1%87%D0%BD%D1%8B%D0%B5_%D0%9D%D0%A1%C2%BB.ipynb\" target=\"_parent\"><img src=\"https://colab.research.google.com/assets/colab-badge.svg\" alt=\"Open In Colab\"/></a>"
      ]
    },
    {
      "cell_type": "markdown",
      "metadata": {
        "id": "cfgvl_JLrwRx"
      },
      "source": [
        "# Подготовка"
      ]
    },
    {
      "cell_type": "code",
      "execution_count": null,
      "metadata": {
        "id": "-txKgaCRmano"
      },
      "outputs": [],
      "source": [
        "# Работа с массивами данных\n",
        "import numpy as np\n",
        "\n",
        "# Функции-утилиты для работы с категориальными данными\n",
        "from tensorflow.keras import utils\n",
        "\n",
        "# Класс для конструирования последовательной модели нейронной сети\n",
        "from tensorflow.keras.models import Sequential, Model\n",
        "\n",
        "# модуль для разбиения данных на обучающую и тестовую выборкиfrom sklearn.model_selection import train_test_split\n",
        "\n",
        "# Основные слои\n",
        "from tensorflow.keras.layers import Input, Dense, Dropout, SpatialDropout1D, BatchNormalization, Embedding, Flatten, Activation\n",
        "from tensorflow.keras.layers import SimpleRNN, GRU, LSTM, Bidirectional, Conv1D, MaxPooling1D, GlobalMaxPooling1D\n",
        "from tensorflow.keras.optimizers import Adam, RMSprop\n",
        "from tensorflow.keras.callbacks import EarlyStopping, ReduceLROnPlateau, ModelCheckpoint\n",
        "\n",
        "# Токенизатор для преобразование текстов в последовательности\n",
        "from tensorflow.keras.preprocessing.text import Tokenizer, text_to_word_sequence\n",
        "\n",
        "# Рисование схемы модели\n",
        "from tensorflow.keras.utils import plot_model\n",
        "\n",
        "# Матрица ошибок классификатора\n",
        "from sklearn.metrics import confusion_matrix, ConfusionMatrixDisplay\n",
        "\n",
        "# Загрузка датасетов из облака google\n",
        "import gdown\n",
        "\n",
        "# Функции операционной системы\n",
        "import os\n",
        "\n",
        "# Работа со временем\n",
        "import time\n",
        "\n",
        "# Регулярные выражения\n",
        "import re\n",
        "\n",
        "# Отрисовка графиков\n",
        "import matplotlib.pyplot as plt\n",
        "\n",
        "# Вывод объектов в ячейке colab\n",
        "from IPython.display import display\n",
        "\n",
        "%matplotlib inline"
      ]
    },
    {
      "cell_type": "code",
      "execution_count": null,
      "metadata": {
        "colab": {
          "base_uri": "https://localhost:8080/"
        },
        "id": "sQmHlwPznUe2",
        "outputId": "2e4b11a9-d5ab-4de4-cb2a-2206e4cc3c88"
      },
      "outputs": [
        {
          "output_type": "stream",
          "name": "stdout",
          "text": [
            "Archive:  writers.zip\n",
            "  inflating: writers/(Клиффорд_Саймак) Обучающая_5 вместе.txt  \n",
            "  inflating: writers/(Клиффорд_Саймак) Тестовая_2 вместе.txt  \n",
            "  inflating: writers/(Макс Фрай) Обучающая_5 вместе.txt  \n",
            "  inflating: writers/(Макс Фрай) Тестовая_2 вместе.txt  \n",
            "  inflating: writers/(О. Генри) Обучающая_50 вместе.txt  \n",
            "  inflating: writers/(О. Генри) Тестовая_20 вместе.txt  \n",
            "  inflating: writers/(Рэй Брэдберри) Обучающая_22 вместе.txt  \n",
            "  inflating: writers/(Рэй Брэдберри) Тестовая_8 вместе.txt  \n",
            "  inflating: writers/(Стругацкие) Обучающая_5 вместе.txt  \n",
            "  inflating: writers/(Стругацкие) Тестовая_2 вместе.txt  \n",
            "  inflating: writers/(Булгаков) Обучающая_5 вместе.txt  \n",
            "  inflating: writers/(Булгаков) Тестовая_2 вместе.txt  \n"
          ]
        }
      ],
      "source": [
        "gdown.download('https://storage.yandexcloud.net/aiueducation/Content/base/l7/writers.zip', None, quiet=True)\n",
        "!unzip -o writers.zip -d writers/"
      ]
    },
    {
      "cell_type": "code",
      "execution_count": null,
      "metadata": {
        "id": "lwQQkh3VsQyj"
      },
      "outputs": [],
      "source": [
        "# Настройка констант для загрузки данных\n",
        "FILE_DIR  = 'writers'                     # Папка с текстовыми файлами\n",
        "SIG_TRAIN = 'обучающая'                   # Признак обучающей выборки в имени файла\n",
        "SIG_TEST  = 'тестовая'                    # Признак тестовой выборки в имени файла"
      ]
    },
    {
      "cell_type": "code",
      "execution_count": null,
      "metadata": {
        "colab": {
          "base_uri": "https://localhost:8080/"
        },
        "id": "xZb5qY7MsWRQ",
        "outputId": "f8579113-a616-4f74-aa8a-a71a836e49ce"
      },
      "outputs": [
        {
          "output_type": "stream",
          "name": "stdout",
          "text": [
            "Добавление класса \"Клиффорд_Саймак\"\n",
            "Добавление файла \"(Клиффорд_Саймак) Обучающая_5 вместе.txt\" в класс \"Клиффорд_Саймак\", обучающая выборка.\n",
            "Добавление файла \"(Клиффорд_Саймак) Тестовая_2 вместе.txt\" в класс \"Клиффорд_Саймак\", тестовая выборка.\n",
            "Добавление класса \"Макс Фрай\"\n",
            "Добавление файла \"(Макс Фрай) Тестовая_2 вместе.txt\" в класс \"Макс Фрай\", тестовая выборка.\n",
            "Добавление класса \"Рэй Брэдберри\"\n",
            "Добавление файла \"(Рэй Брэдберри) Обучающая_22 вместе.txt\" в класс \"Рэй Брэдберри\", обучающая выборка.\n",
            "Добавление класса \"Булгаков\"\n",
            "Добавление файла \"(Булгаков) Тестовая_2 вместе.txt\" в класс \"Булгаков\", тестовая выборка.\n",
            "Добавление файла \"(Рэй Брэдберри) Тестовая_8 вместе.txt\" в класс \"Рэй Брэдберри\", тестовая выборка.\n",
            "Добавление класса \"Стругацкие\"\n",
            "Добавление файла \"(Стругацкие) Тестовая_2 вместе.txt\" в класс \"Стругацкие\", тестовая выборка.\n",
            "Добавление класса \"О. Генри\"\n",
            "Добавление файла \"(О. Генри) Тестовая_20 вместе.txt\" в класс \"О. Генри\", тестовая выборка.\n",
            "Добавление файла \"(О. Генри) Обучающая_50 вместе.txt\" в класс \"О. Генри\", обучающая выборка.\n",
            "Добавление файла \"(Стругацкие) Обучающая_5 вместе.txt\" в класс \"Стругацкие\", обучающая выборка.\n",
            "Добавление файла \"(Булгаков) Обучающая_5 вместе.txt\" в класс \"Булгаков\", обучающая выборка.\n",
            "Добавление файла \"(Макс Фрай) Обучающая_5 вместе.txt\" в класс \"Макс Фрай\", обучающая выборка.\n"
          ]
        }
      ],
      "source": [
        "# Подготовим пустые списки\n",
        "\n",
        "CLASS_LIST = []  # Список классов\n",
        "text_train = []  # Список для обучающей выборки\n",
        "text_test = []   # Список для тестовой выборки\n",
        "\n",
        "# Получим списка файлов в папке\n",
        "file_list = os.listdir(FILE_DIR)\n",
        "\n",
        "for file_name in file_list:\n",
        "    # Выделяем имя класса и типа выборки из имени файла\n",
        "    m = re.match('\\((.+)\\) (\\S+)_', file_name)\n",
        "    # Если выделение получилось, то файл обрабатываем\n",
        "    if m:\n",
        "\n",
        "        # Получим имя класса\n",
        "        class_name = m[1]\n",
        "\n",
        "        # Получим имя выборки\n",
        "        subset_name = m[2].lower()\n",
        "\n",
        "        # Проверим тип выборки\n",
        "        is_train = SIG_TRAIN in subset_name\n",
        "        is_test = SIG_TEST in subset_name\n",
        "\n",
        "        # Если тип выборки обучающая либо тестовая - файл обрабатываем\n",
        "        if is_train or is_test:\n",
        "\n",
        "            # Добавляем новый класс, если его еще нет в списке\n",
        "            if class_name not in CLASS_LIST:\n",
        "                print(f'Добавление класса \"{class_name}\"')\n",
        "                CLASS_LIST.append(class_name)\n",
        "\n",
        "                # Инициализируем соответствующих классу строки текста\n",
        "                text_train.append('')\n",
        "                text_test.append('')\n",
        "\n",
        "            # Найдем индекс класса для добавления содержимого файла в выборку\n",
        "            cls = CLASS_LIST.index(class_name)\n",
        "            print(f'Добавление файла \"{file_name}\" в класс \"{CLASS_LIST[cls]}\", {subset_name} выборка.')\n",
        "\n",
        "            # Откроем файл на чтение\n",
        "            with open(f'{FILE_DIR}/{file_name}', 'r') as f:\n",
        "\n",
        "                # Загрузим содержимого файла в строку\n",
        "                text = f.read()\n",
        "            # Определим выборку, куда будет добавлено содержимое\n",
        "            subset = text_train if is_train else text_test\n",
        "\n",
        "            # Добавим текста к соответствующей выборке класса. Концы строк заменяются на пробел\n",
        "            subset[cls] += ' ' + text.replace('\\n', ' ')"
      ]
    },
    {
      "cell_type": "code",
      "execution_count": null,
      "metadata": {
        "colab": {
          "base_uri": "https://localhost:8080/"
        },
        "id": "Uvz7bf52shrA",
        "outputId": "94798876-b2cc-4fd7-8284-a28a278d16dc"
      },
      "outputs": [
        {
          "output_type": "stream",
          "name": "stdout",
          "text": [
            "['Клиффорд_Саймак', 'Макс Фрай', 'Рэй Брэдберри', 'Булгаков', 'Стругацкие', 'О. Генри']\n"
          ]
        }
      ],
      "source": [
        "print(CLASS_LIST)"
      ]
    },
    {
      "cell_type": "code",
      "execution_count": null,
      "metadata": {
        "colab": {
          "base_uri": "https://localhost:8080/"
        },
        "id": "F1fts08zsazo",
        "outputId": "8b4133f7-e002-4ed8-a7e1-b2dac3e5f9d9"
      },
      "outputs": [
        {
          "output_type": "execute_result",
          "data": {
            "text/plain": [
              "6"
            ]
          },
          "metadata": {},
          "execution_count": 6
        }
      ],
      "source": [
        "# Определим количество классов\n",
        "CLASS_COUNT = len(CLASS_LIST)\n",
        "CLASS_COUNT"
      ]
    },
    {
      "cell_type": "code",
      "execution_count": null,
      "metadata": {
        "colab": {
          "base_uri": "https://localhost:8080/"
        },
        "id": "xBm67AAqsmzo",
        "outputId": "ae4cd629-b5ee-433b-f3fd-21a67c6afda6"
      },
      "outputs": [
        {
          "output_type": "stream",
          "name": "stdout",
          "text": [
            "Класс: Клиффорд_Саймак\n",
            "  train:  ﻿Всё живое...     Когда я выехал из нашего городишка и повернул на шоссе, позади оказался грузовик. Этакая тяжелая громадина с прицепом, и неслась она во весь дух. Шоссе здесь срезает угол городка, и\n",
            "  test :  ﻿Зачарованное паломничество    1  Гоблин со стропил следил за прячущимся монахом, который шпионил за ученым. Гоблин ненавидел монаха и имел для этого все основания. Монах никого не ненавидел и не люб\n",
            "\n",
            "Класс: Макс Фрай\n",
            "  train:  ﻿Власть несбывшегося   – С тех пор как меня угораздило побывать в этой грешной Черхавле, мне ежедневно снится какая-то дичь! – сердито сказал я Джуффину. – Сглазили они меня, что ли? А собственно, по\n",
            "  test :  ﻿Слишком много кошмаров    Когда балансируешь над пропастью на узкой, скользкой от крови доске, ответ на закономерный вопрос: «Как меня сюда занесло?» – вряд ли принесёт практическую пользу. Зато пои\n",
            "\n",
            "Класс: Рэй Брэдберри\n",
            "  train:  ﻿451° по Фаренгейту   ДОНУ КОНГДОНУ С БЛАГОДАРНОСТЬЮ   Если тебе дадут линованную бумагу, пиши поперёк.  Хуан Рамон Хименес   Часть 1  ОЧАГ И САЛАМАНДРА   Жечь было наслаждением. Какое-то особое насл\n",
            "  test :  ﻿Марсианские хроники   МОЕЙ ЖЕНЕ МАРГАРЕТ С ИСКРЕННЕЙ ЛЮБОВЬЮ   «Великое дело – способность удивляться, – сказал философ. – Космические полеты снова сделали всех нас детьми».   Январь 1999  Ракетное \n",
            "\n",
            "Класс: Булгаков\n",
            "  train:  ﻿Белая гвардия   Посвящается[1]  Любови Евгеньевне Белозерской[2]  Пошел мелкий снег и вдруг повалил хло-  пьями. Ветер завыл; сделалась метель.  В одно мгновение темное небо смешалось с  снежным мор\n",
            "  test :  ﻿Дон Кихот ДЕЙСТВУЮЩИЕ ЛИЦА Алонсо Кихано, он же Дон Кихот Ламанчский.  Антония – его племянница.  Ключница Дон Кихота.  Санчо Панса – оруженосец Дон Кихота.  Перо Перес – деревенский священник, лице\n",
            "\n",
            "Класс: Стругацкие\n",
            "  train:  Парень из преисподней     1     Ну и деревня! Сроду я таких деревень не видел и не знал даже, что такие деревни бывают. Дома круглые, бурые, без окон, торчат на сваях, как сторожевые вышки, а под ним\n",
            "  test :  ﻿ОТЕЛЬ «У ПОГИБШЕГО АЛЬПИНИСТА»    ГЛАВА 1     Я остановил машину, вылез и снял черные очки. Все было так, как рассказывал Згут. Отель был двухэтажный, желтый с зеленым, над крыльцом красовалась трау\n",
            "\n",
            "Класс: О. Генри\n",
            "  train:  «Лиса-на-рассвете»   Коралио нежился в полуденном зное, как томная красавица в сурово хранимом гареме. Город лежал у самого моря на полоске наносной земли. Он казался брильянтиком, вкрапленным в ярко\n",
            "  test :  ﻿Багдадская птица   Без всякого сомнения, дух и гений калифа Гаруна аль-Рашида осенил маркграфа Августа-Михаила фон Паульсена Квигга.  Ресторан Квигга находится на Четвертой авеню — на улице, которую\n",
            "\n"
          ]
        }
      ],
      "source": [
        "# Проверим загрузки: выведем начальные отрывки из каждого класса\n",
        "\n",
        "for cls in range(CLASS_COUNT):                   # Запустим цикл по числу классов\n",
        "    print(f'Класс: {CLASS_LIST[cls]}')           # Выведем имя класса\n",
        "    print(f'  train: {text_train[cls][:200]}')   # Выведем фрагмент обучающей выборки\n",
        "    print(f'  test : {text_test[cls][:200]}')    # Выведем фрагмент тестовой выборки\n",
        "    print()"
      ]
    },
    {
      "cell_type": "markdown",
      "metadata": {
        "id": "l0TDhd1rs0dw"
      },
      "source": [
        "# Преобразование текстовых данных в числовые/векторные\n",
        "\n"
      ]
    },
    {
      "cell_type": "code",
      "execution_count": null,
      "metadata": {
        "colab": {
          "base_uri": "https://localhost:8080/"
        },
        "id": "fDZzO8HttoDR",
        "outputId": "5476762c-3b8f-4872-b476-acad82a57a93"
      },
      "outputs": [
        {
          "output_type": "stream",
          "name": "stdout",
          "text": [
            "[('unknown', 1), ('и', 2), ('в', 3), ('не', 4), ('я', 5), ('что', 6), ('на', 7), ('с', 8), ('он', 9), ('а', 10)]\n",
            "Протестируем словарь частотности\n",
            "уточните слово: босиком\n",
            "Интересующее слово имеет индекс:  6417\n",
            "\n",
            "Взглянем на фрагмент обучающего текста:\n",
            "В виде оригинального текста:                ﻿451° по Фаренгейту   ДОНУ КОНГДОНУ С БЛАГОДАРНОСТЬЮ   Если тебе дадут линованную бума\n",
            "Он же в виде последовательности индексов:  [1, 17, 1, 4504, 1, 8, 14571, 42, 74, 6219, 1, 2089, 7867, 1, 1, 1, 1, 797, 1, 2]\n"
          ]
        }
      ],
      "source": [
        "maxWordsCount = 20000 # определяем максимальное количество уникальных слов для обучения\n",
        "tokenizer = Tokenizer(num_words=maxWordsCount,\n",
        "                      filters='0123456789–—!\"#$%&()*+,-./:;<=>?@[\\]^_`{|}~\\t\\n\\xa0–\\ufeff',\n",
        "                      lower = True,\n",
        "                      split=' ', char_level=False, oov_token = 'unknown')\n",
        "tokenizer.fit_on_texts(text_train) # токенизировали текст\n",
        "items = list(tokenizer.word_index.items()) # достали индексы слов\n",
        "print(items[:10])\n",
        "\n",
        "print(\"Протестируем словарь частотности\")\n",
        "print(\"Интересующее слово имеет индекс: \", tokenizer.word_index[input(\"уточните слово: \").lower()]) #протестируем словарь частотности\n",
        "\n",
        "\n",
        "# преобразовываем текст в последовательность индексов согласно частотному словарю\n",
        "trainWordIndexes = tokenizer.texts_to_sequences(text_train) # обучающие тексты в индексы\n",
        "testWordIndexes = tokenizer.texts_to_sequences(text_test)   # проверочные тексты в индексы\n",
        "print(\"\\nВзглянем на фрагмент обучающего текста:\")\n",
        "print(\"В виде оригинального текста:              \", text_train[2] [:87])\n",
        "print(\"Он же в виде последовательности индексов: \", trainWordIndexes[2][:20])"
      ]
    },
    {
      "cell_type": "markdown",
      "metadata": {
        "id": "R9q_IU08zF0m"
      },
      "source": [
        "#Создаем словарь и переводим данные в индексы."
      ]
    },
    {
      "cell_type": "markdown",
      "metadata": {
        "id": "Zo8JCjwyzQA3"
      },
      "source": [
        "Разрезаем текст на вектора. Функция принимает последовательность индексов, размер окна, шаг окна"
      ]
    },
    {
      "cell_type": "code",
      "execution_count": null,
      "metadata": {
        "id": "rfn1BAgOzJC2"
      },
      "outputs": [],
      "source": [
        "def getSetFromIndexes(wordIndexes, xLen, step):\n",
        "  xSample = []\n",
        "  wordsLen = len(wordIndexes)\n",
        "  index = 0\n",
        "\n",
        "  while (index + xLen <= wordsLen):\n",
        "    xSample.append(wordIndexes[index:index+xLen])\n",
        "    index += step\n",
        "\n",
        "  return xSample"
      ]
    },
    {
      "cell_type": "markdown",
      "metadata": {
        "id": "dYlyixP1zpAN"
      },
      "source": [
        "Функции формирования test и train  выборок"
      ]
    },
    {
      "cell_type": "code",
      "execution_count": null,
      "metadata": {
        "id": "AbIipxSmzsml"
      },
      "outputs": [],
      "source": [
        "def createSetsMultiClasses(wordIndexes, xLen, step): # функция принимает последовательность индексов, размер окна, шаг окна\n",
        "\n",
        "  # Для каждого из классов\n",
        "  # Создаём обучающую/проверочную выборку из индексов\n",
        "  nClasses = len(wordIndexes) # задаем количество классов выборки\n",
        "  classesXSamples = []        # здесь будет список размером \"кол-во классов*кол-во окон в тексте*длину окна(например 6 по 1341*1000)\"\n",
        "  for wI in wordIndexes:      # для каждого текста выборки из последовательности индексов\n",
        "    classesXSamples.append(getSetFromIndexes(wI, xLen, step)) # добавляем в список очередной текст индексов, разбитый на \"кол-во окон*длину окна\"\n",
        "\n",
        "  # Формируем один общий xSamples\n",
        "  xSamples = [] # здесь будет список размером \"суммарное кол-во окон во всех текстах*длину окна(например 15779*1000)\"\n",
        "  ySamples = [] # здесь будет список размером \"суммарное кол-во окон во всех текстах*вектор длиной число классов\"\n",
        "\n",
        "  for t in range(nClasses):  # в диапазоне кол-ва классов\n",
        "    xT = classesXSamples[t]  # берем очередной текст вида \"кол-во окон в тексте*длину окна\"(например 1341*1000)\n",
        "    for i in range(len(xT)): # и каждое его окно\n",
        "      xSamples.append(xT[i]) # добавляем в общий список выборки\n",
        "\n",
        "    # Формируем ySamples по номеру класса\n",
        "    currY = utils.to_categorical(t, nClasses) # текущий класс переводится в вектор длиной 6 вида [0.0.0.1.0.0.]\n",
        "    for i in range(len(xT)): # на каждое окно выборки\n",
        "      ySamples.append(currY) # добавляем соответствующий вектор класса\n",
        "\n",
        "  xSamples = np.array(xSamples) # переводим в массив numpy для подачи в нейронку\n",
        "  ySamples = np.array(ySamples) # переводим в массив numpy для подачи в нейронку\n",
        "\n",
        "\n",
        "  return (xSamples, ySamples)   # функция возвращает выборку и соответствующие векторы классов"
      ]
    },
    {
      "cell_type": "markdown",
      "metadata": {
        "id": "uSkp8O5iz4e1"
      },
      "source": [
        "#Создание обучающей выборки"
      ]
    },
    {
      "cell_type": "code",
      "execution_count": null,
      "metadata": {
        "colab": {
          "base_uri": "https://localhost:8080/"
        },
        "id": "860CPMxbz0Gl",
        "outputId": "5d21320a-085e-4e6e-fc4d-35bd981a3b89"
      },
      "outputs": [
        {
          "output_type": "stream",
          "name": "stdout",
          "text": [
            "(17625, 1000)\n",
            "(17625, 6)\n",
            "(6688, 1000)\n",
            "(6688, 6)\n"
          ]
        }
      ],
      "source": [
        "# базовые параметры\n",
        "xLen = 1000 # длина отрезка, по которому анализируем\n",
        "step = 100 # шаг разбиения xLen на вектора\n",
        "\n",
        "# формирование выборок\n",
        "xTrain, yTrain = createSetsMultiClasses(trainWordIndexes, xLen, step) # извлекаем обучающую выборку\n",
        "xTest, yTest = createSetsMultiClasses(testWordIndexes, xLen, step)    # извлекаем тестовую выборку\n",
        "print(xTrain.shape)\n",
        "print(yTrain.shape)\n",
        "print(xTest.shape)\n",
        "print(yTest.shape)\n",
        "# получили обучающий/тестовый набор, достаточный для запуска Embedding,\n",
        "# но для Bag of Words нужно xTrain и xTest представить в виде векторов из 0 и 1"
      ]
    },
    {
      "cell_type": "markdown",
      "metadata": {
        "id": "tgvC82vm0BPm"
      },
      "source": [
        "#Распознавание проверочной выборки\n",
        "Распознавание проверочной выборки (где готовим тестовые выборки для финальной проверки)"
      ]
    },
    {
      "cell_type": "code",
      "execution_count": null,
      "metadata": {
        "id": "2Z8r5pHd0Ia1"
      },
      "outputs": [],
      "source": [
        "def createTestMultiClasses(wordIndexes, xLen, step): # функция принимает последовательность индексов, размер окна, шаг окна\n",
        "\n",
        "  # Для каждого из 6 классов\n",
        "  # Создаём тестовую выборку из индексов\n",
        "  nClasses = len(wordIndexes) # задаем количество классов\n",
        "  xTest6Classes01 = []               # здесь будет список из всех классов,каждый размером \"кол-во окон в тексте * 20000(при maxWordsCount=20000)\"\n",
        "  xTest6Classes = []                 # здесь будет список массивов, каждый размером \"кол-во окон в тексте * длину окна\"(6 по 420*1000)\n",
        "  for wI in wordIndexes:             # для каждого тестового текста из последовательности индексов\n",
        "    sample = (getSetFromIndexes(wI, xLen, step)) # тестовая выборка размером \"кол-во окон*длину окна\"(например 420*1000)\n",
        "    xTest6Classes.append(np.array(sample))       # переводим в массив numpy и добавляем в список\n",
        "    xTest6Classes01.append(tokenizer.sequences_to_matrix(sample)) # трансформируется в Bag of Words в виде \"кол-во окон в тексте * 20000\"\n",
        "  xTest6Classes01 = np.array(xTest6Classes01,dtype='object')                     # и добавляется к нашему списку,\n",
        "\n",
        "  return xTest6Classes01, xTest6Classes # функция вернёт тестовые данные: TestBg 6 классов на n*20000 и xTestEm 6 по n*1000"
      ]
    },
    {
      "cell_type": "markdown",
      "metadata": {
        "id": "8HBGR1-80KoW"
      },
      "source": [
        "Расспознаём тестовую выборку и выводим результаты"
      ]
    },
    {
      "cell_type": "code",
      "execution_count": null,
      "metadata": {
        "id": "F0lyYUm70NIH"
      },
      "outputs": [],
      "source": [
        "def recognizeMultiClass(model, xTest, modelName):\n",
        "  print(\"НЕЙРОННАЯ СЕТЬ: \", modelName)\n",
        "  print()\n",
        "\n",
        "  val = []\n",
        "  pred = []\n",
        "\n",
        "  totalSumRec = []\n",
        "\n",
        "  # Проходим по всем классам\n",
        "  for i in range(CLASS_COUNT):\n",
        "    # Получаем результаты распознавания класса по блокам слов длины xLen\n",
        "    currPred = model.predict(xTest[i])\n",
        "    pred.append(currPred)\n",
        "    # Определяем номер распознанного класса для каждохо блока слов длины xLen\n",
        "    currOut = np.argmax(currPred, axis=1)\n",
        "\n",
        "    # Считаем процент распознавания каждого класса за каждый\n",
        "    # Получам матрицу 6 на 6\n",
        "    evVal = []\n",
        "    sumRec = []\n",
        "    for j in range(CLASS_COUNT):\n",
        "      sumRec.append(0)\n",
        "      for t in range(len(currOut)):\n",
        "        if (currOut[t] == j):\n",
        "          sumRec[j] += 1\n",
        "      evVal.append(sumRec[j] / len(currOut))\n",
        "\n",
        "    totalSumRec.append(sumRec[i])\n",
        "\n",
        "    # Определяем, какой в класс в итоге за какой был распознан\n",
        "    val.append(evVal[i])\n",
        "    recognizedClass = np.argmax(evVal)\n",
        "\n",
        "    # Выводим результаты распознавания по текущему классу\n",
        "    isRecognized = \"распознано НЕ ВЕРНО!\"\n",
        "    if (recognizedClass == i):\n",
        "      isRecognized = \"распознано ВЕРНО!\"\n",
        "    print(CLASS_LIST[i], \" распознано \", int(100*evVal[i]), \"% сеть считает, что это \", CLASS_LIST[recognizedClass], \", \", isRecognized)\n",
        "\n",
        "  # Выводим средний процент распознавания по всем классам вместе\n",
        "  print()\n",
        "  sumVal = 0\n",
        "  sumCount = 0\n",
        "  lenXtest = []\n",
        "  for i in range(CLASS_COUNT):\n",
        "    sumCount += len(xTest[i])\n",
        "    sumVal += totalSumRec[i]\n",
        "  print(\"Средний процент распознавания \", int(100*sumVal/sumCount), \"%\")\n",
        "  print()\n",
        "  return sumVal/sumCount\n",
        "\n",
        "xTest6Classes01, xTest6Classes = createTestMultiClasses(testWordIndexes, xLen, step) # подгоним форму тестовых классов под функцию recognizeMultiClass"
      ]
    },
    {
      "cell_type": "markdown",
      "source": [
        "# LSTM"
      ],
      "metadata": {
        "id": "nW4YzyVfrSn3"
      }
    },
    {
      "cell_type": "code",
      "execution_count": null,
      "metadata": {
        "colab": {
          "base_uri": "https://localhost:8080/",
          "height": 1000
        },
        "outputId": "4fc36bc2-a1cd-4f5b-b6d4-c97b6e6849ae",
        "id": "HKdc5FjaJwU6"
      },
      "outputs": [
        {
          "output_type": "stream",
          "name": "stdout",
          "text": [
            "Epoch 1/100\n",
            "551/551 [==============================] - 692s 1s/step - loss: 0.8943 - accuracy: 0.6592 - val_loss: 1.3874 - val_accuracy: 0.5419\n",
            "Epoch 2/100\n",
            "551/551 [==============================] - 711s 1s/step - loss: 0.0891 - accuracy: 0.9759 - val_loss: 1.7001 - val_accuracy: 0.5997\n",
            "Epoch 3/100\n",
            "551/551 [==============================] - 706s 1s/step - loss: 0.0163 - accuracy: 0.9958 - val_loss: 1.9144 - val_accuracy: 0.6379\n",
            "Epoch 4/100\n",
            "551/551 [==============================] - 706s 1s/step - loss: 0.0103 - accuracy: 0.9973 - val_loss: 2.0545 - val_accuracy: 0.6401\n",
            "Epoch 5/100\n",
            "551/551 [==============================] - 702s 1s/step - loss: 0.0080 - accuracy: 0.9974 - val_loss: 2.1861 - val_accuracy: 0.6181\n",
            "Epoch 6/100\n",
            "551/551 [==============================] - 701s 1s/step - loss: 0.0051 - accuracy: 0.9989 - val_loss: 1.9552 - val_accuracy: 0.6568\n",
            "Epoch 7/100\n",
            "551/551 [==============================] - 710s 1s/step - loss: 0.0052 - accuracy: 0.9985 - val_loss: 2.1742 - val_accuracy: 0.6397\n",
            "Epoch 8/100\n",
            "551/551 [==============================] - 701s 1s/step - loss: 0.0040 - accuracy: 0.9988 - val_loss: 1.8037 - val_accuracy: 0.6583\n",
            "Epoch 9/100\n",
            "551/551 [==============================] - 709s 1s/step - loss: 0.0016 - accuracy: 0.9998 - val_loss: 2.3351 - val_accuracy: 0.6410\n",
            "Epoch 10/100\n",
            "551/551 [==============================] - ETA: 0s - loss: 0.0038 - accuracy: 0.9986Restoring model weights from the end of the best epoch: 8.\n",
            "551/551 [==============================] - 707s 1s/step - loss: 0.0038 - accuracy: 0.9986 - val_loss: 2.1816 - val_accuracy: 0.6277\n",
            "Epoch 10: early stopping\n"
          ]
        },
        {
          "output_type": "display_data",
          "data": {
            "text/plain": [
              "<Figure size 640x480 with 1 Axes>"
            ],
            "image/png": "[encoded data removed]"
          },
          "metadata": {}
        },
        {
          "output_type": "stream",
          "name": "stdout",
          "text": [
            "НЕЙРОННАЯ СЕТЬ:  Embedding + LSTM\n",
            "\n",
            "16/16 [==============================] - 4s 249ms/step\n",
            "Клиффорд_Саймак  распознано  64 % сеть считает, что это  Клиффорд_Саймак ,  распознано ВЕРНО!\n",
            "62/62 [==============================] - 17s 270ms/step\n",
            "Макс Фрай  распознано  70 % сеть считает, что это  Макс Фрай ,  распознано ВЕРНО!\n",
            "42/42 [==============================] - 11s 251ms/step\n",
            "Рэй Брэдберри  распознано  51 % сеть считает, что это  Рэй Брэдберри ,  распознано ВЕРНО!\n",
            "42/42 [==============================] - 12s 283ms/step\n",
            "Булгаков  распознано  43 % сеть считает, что это  Булгаков ,  распознано ВЕРНО!\n",
            "34/34 [==============================] - 9s 253ms/step\n",
            "Стругацкие  распознано  96 % сеть считает, что это  Стругацкие ,  распознано ВЕРНО!\n",
            "17/17 [==============================] - 5s 298ms/step\n",
            "О. Генри  распознано  75 % сеть считает, что это  О. Генри ,  распознано ВЕРНО!\n",
            "\n",
            "Средний процент распознавания  65 %\n",
            "\n",
            "Время обработки: 7123.52c\n"
          ]
        }
      ],
      "source": [
        "cur_time = time.time() # засекаем время\n",
        "\n",
        "nDense = 6\n",
        "nDropout = 0.4\n",
        "epochs = 100\n",
        "nlr = 0.0001\n",
        "nEmbedding = 50\n",
        "\n",
        "input_layer = Input(shape=(xLen, ))\n",
        "LSTM_1 = Embedding(maxWordsCount, nEmbedding, input_length = xLen)(input_layer)\n",
        "LSTM_2 = SpatialDropout1D(nDropout)(LSTM_1)\n",
        "LSTM_3 = LSTM(xLen//10, return_sequences=True)(LSTM_2)\n",
        "LSTM_4 = Flatten()(LSTM_3)\n",
        "LSTM_5 = Dense(nDense, activation='softmax')(LSTM_4)\n",
        "\n",
        "modelLSTM = Model(inputs=input_layer, outputs=LSTM_5)\n",
        "modelLSTM.compile(optimizer=Adam(nlr), loss='categorical_crossentropy', metrics=['accuracy'])\n",
        "\n",
        "# остановки обучения по условию\n",
        "early_stopping = EarlyStopping(monitor = 'val_accuracy', patience = 2, verbose = 1,  restore_best_weights = True)\n",
        "\n",
        "#Обучаем на xTrain\n",
        "history = modelLSTM.fit(xTrain, yTrain, epochs=epochs, verbose = 1,\n",
        "                             callbacks = early_stopping,\n",
        "                             validation_data = (xTest, yTest))\n",
        "\n",
        "\n",
        "plt.plot(history.history['accuracy'], label='Доля верных ответов на обучающем наборе')\n",
        "plt.plot(history.history['val_accuracy'], label='Доля верных ответов на проверочном наборе')\n",
        "plt.xlabel('Эпоха обучения')\n",
        "plt.ylabel('Доля верных ответов')\n",
        "plt.legend()\n",
        "plt.grid()\n",
        "plt.show()\n",
        "\n",
        "#Проверяем результаты работы сети\n",
        "pred = recognizeMultiClass(modelLSTM, xTest6Classes, \"Embedding + LSTM\") #функция покажет какие классы и как распознаны верно\n",
        "\n",
        "print('Время обработки: ', round(time.time() - cur_time, 2), 'c', sep='') # смотрим время\n"
      ]
    },
    {
      "cell_type": "code",
      "source": [
        "plot_model(modelLSTM, dpi=70)"
      ],
      "metadata": {
        "id": "a35fKHht7xqD"
      },
      "execution_count": null,
      "outputs": []
    },
    {
      "cell_type": "code",
      "execution_count": null,
      "metadata": {
        "colab": {
          "base_uri": "https://localhost:8080/",
          "height": 1000
        },
        "outputId": "15e4f2fa-f7e3-45c1-a53c-e43ee20392c5",
        "id": "fs4r2L0Tc_n7"
      },
      "outputs": [
        {
          "output_type": "stream",
          "name": "stdout",
          "text": [
            "Epoch 1/100\n",
            "551/551 [==============================] - 678s 1s/step - loss: 0.9415 - accuracy: 0.6357 - val_loss: 1.5447 - val_accuracy: 0.5052\n",
            "Epoch 2/100\n",
            "551/551 [==============================] - 667s 1s/step - loss: 0.0980 - accuracy: 0.9785 - val_loss: 1.8642 - val_accuracy: 0.5576\n",
            "Epoch 3/100\n",
            "551/551 [==============================] - 627s 1s/step - loss: 0.0187 - accuracy: 0.9958 - val_loss: 2.6610 - val_accuracy: 0.5169\n",
            "Epoch 4/100\n",
            "551/551 [==============================] - 668s 1s/step - loss: 0.0105 - accuracy: 0.9976 - val_loss: 2.4653 - val_accuracy: 0.5697\n",
            "Epoch 5/100\n",
            "551/551 [==============================] - 665s 1s/step - loss: 0.0071 - accuracy: 0.9985 - val_loss: 2.6428 - val_accuracy: 0.5785\n",
            "Epoch 6/100\n",
            "551/551 [==============================] - 668s 1s/step - loss: 0.0077 - accuracy: 0.9981 - val_loss: 2.5509 - val_accuracy: 0.5861\n",
            "Epoch 7/100\n",
            "551/551 [==============================] - 626s 1s/step - loss: 0.0032 - accuracy: 0.9994 - val_loss: 2.8138 - val_accuracy: 0.5748\n",
            "Epoch 8/100\n",
            "551/551 [==============================] - ETA: 0s - loss: 0.0019 - accuracy: 0.9998Restoring model weights from the end of the best epoch: 6.\n",
            "551/551 [==============================] - 674s 1s/step - loss: 0.0019 - accuracy: 0.9998 - val_loss: 3.0710 - val_accuracy: 0.5706\n",
            "Epoch 8: early stopping\n"
          ]
        },
        {
          "output_type": "display_data",
          "data": {
            "text/plain": [
              "<Figure size 640x480 with 1 Axes>"
            ],
            "image/png": "[encoded data removed]"
          },
          "metadata": {}
        },
        {
          "output_type": "stream",
          "name": "stdout",
          "text": [
            "НЕЙРОННАЯ СЕТЬ:  Embedding + GRU\n",
            "\n",
            "16/16 [==============================] - 5s 297ms/step\n",
            "Клиффорд_Саймак  распознано  53 % сеть считает, что это  Клиффорд_Саймак ,  распознано ВЕРНО!\n",
            "62/62 [==============================] - 12s 199ms/step\n",
            "Макс Фрай  распознано  65 % сеть считает, что это  Макс Фрай ,  распознано ВЕРНО!\n",
            "42/42 [==============================] - 10s 231ms/step\n",
            "Рэй Брэдберри  распознано  58 % сеть считает, что это  Рэй Брэдберри ,  распознано ВЕРНО!\n",
            "42/42 [==============================] - 8s 185ms/step\n",
            "Булгаков  распознано  16 % сеть считает, что это  О. Генри ,  распознано НЕ ВЕРНО!\n",
            "34/34 [==============================] - 8s 244ms/step\n",
            "Стругацкие  распознано  92 % сеть считает, что это  Стругацкие ,  распознано ВЕРНО!\n",
            "17/17 [==============================] - 3s 181ms/step\n",
            "О. Генри  распознано  75 % сеть считает, что это  О. Генри ,  распознано ВЕРНО!\n",
            "\n",
            "Средний процент распознавания  58 %\n",
            "\n",
            "Время обработки: 5363.53c\n"
          ]
        }
      ],
      "source": [
        "cur_time = time.time() # засекаем время\n",
        "\n",
        "nDense = 6\n",
        "nDropout = 0.4\n",
        "epochs = 100\n",
        "nlr = 0.0001\n",
        "nEmbedding = 50\n",
        "\n",
        "input_layer = Input(shape=(xLen, ))\n",
        "GRU_1 = Embedding(maxWordsCount, nEmbedding, input_length = xLen)(input_layer)\n",
        "GRU_2 = SpatialDropout1D(nDropout)(GRU_1)\n",
        "GRU_3 = GRU(xLen//10, return_sequences=True)(GRU_2)\n",
        "GRU_4 = Flatten()(GRU_3)\n",
        "GRU_5 = Dense(nDense, activation='softmax')(GRU_4)\n",
        "\n",
        "modelGRU = Model(inputs=input_layer, outputs=GRU_5)\n",
        "modelGRU.compile(optimizer=Adam(nlr), loss='categorical_crossentropy', metrics=['accuracy'])\n",
        "\n",
        "# остановки обучения по условию\n",
        "early_stopping = EarlyStopping(monitor = 'val_accuracy', patience = 2, verbose = 1,  restore_best_weights = True)\n",
        "\n",
        "#Обучаем на xTrain\n",
        "history = modelGRU.fit(xTrain, yTrain, epochs=epochs, verbose = 1,\n",
        "                             callbacks = early_stopping,\n",
        "                             validation_data = (xTest, yTest))\n",
        "\n",
        "\n",
        "plt.plot(history.history['accuracy'], label='Доля верных ответов на обучающем наборе')\n",
        "plt.plot(history.history['val_accuracy'], label='Доля верных ответов на проверочном наборе')\n",
        "plt.xlabel('Эпоха обучения')\n",
        "plt.ylabel('Доля верных ответов')\n",
        "plt.legend()\n",
        "plt.grid()\n",
        "plt.show()\n",
        "\n",
        "#Проверяем результаты работы сети\n",
        "pred = recognizeMultiClass(modelGRU, xTest6Classes, \"Embedding + GRU\") #функция покажет какие классы и как распознаны верно\n",
        "\n",
        "print('Время обработки: ', round(time.time() - cur_time, 2), 'c', sep='') # смотрим время\n"
      ]
    },
    {
      "cell_type": "code",
      "source": [
        "plot_model(modelGRU, dpi=70)"
      ],
      "metadata": {
        "colab": {
          "base_uri": "https://localhost:8080/",
          "height": 416
        },
        "id": "HJiOlmaQ724g",
        "outputId": "ec5a9077-d21f-4371-f972-c63a9ab4c012"
      },
      "execution_count": null,
      "outputs": [
        {
          "output_type": "execute_result",
          "data": {
            "image/png": "[encoded data removed]",
            "text/plain": [
              "<IPython.core.display.Image object>"
            ]
          },
          "metadata": {},
          "execution_count": 16
        }
      ]
    },
    {
      "cell_type": "markdown",
      "source": [
        "  Результаты работы алгоритмов LSTM И GRU хуже чем просто Embedding.\n",
        "  Слишком большое время работы, чтобы экспериментировать с параметрами."
      ],
      "metadata": {
        "id": "VYoLUCAhr8hj"
      }
    }
  ],
  "metadata": {
    "colab": {
      "provenance": [],
      "include_colab_link": true
    },
    "kernelspec": {
      "display_name": "Python 3",
      "name": "python3"
    },
    "language_info": {
      "name": "python"
    }
  },
  "nbformat": 4,
  "nbformat_minor": 0
}