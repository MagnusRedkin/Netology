{
  "cells": [
    {
      "cell_type": "markdown",
      "metadata": {
        "id": "view-in-github",
        "colab_type": "text"
      },
      "source": [
        "<a href=\"https://colab.research.google.com/github/MagnusRedkin/Netology/blob/main/DZ%C2%AB%D0%91%D0%B0%D0%B7%D0%BE%D0%B2%D1%8B%D0%B5_%D0%BF%D0%BE%D0%BD%D1%8F%D1%82%D0%B8%D1%8F_%D1%81%D1%82%D0%B0%D1%82%D0%B8%D1%81%D1%82%D0%B8%D0%BA%D0%B8%C2%BB.ipynb\" target=\"_parent\"><img src=\"https://colab.research.google.com/assets/colab-badge.svg\" alt=\"Open In Colab\"/></a>"
      ]
    },
    {
      "cell_type": "markdown",
      "id": "07262b59",
      "metadata": {
        "id": "07262b59"
      },
      "source": [
        "# Задание\n",
        "Будем осуществлять работу с непростым набором данных о состоянии здоровья лошадей, испытывающих кишечные колики. Цель – максимально корректно заполнить пропуски.\n",
        "### Задание 1. Загрузка данных\n",
        "Изучить представленный набор данных на основе описания его столбцов, загрузить его и оставить 8 столбцов для дальнейшего изучения: surgery?, Age, rectal temperature, pulse, respiratory rate, temperature of extremities, pain, outcome."
      ]
    },
    {
      "cell_type": "code",
      "execution_count": null,
      "id": "bff42ae0",
      "metadata": {
        "id": "bff42ae0"
      },
      "outputs": [],
      "source": [
        "import numpy as np\n",
        "import pandas as pd"
      ]
    },
    {
      "cell_type": "code",
      "execution_count": null,
      "id": "7b8828b7",
      "metadata": {
        "id": "7b8828b7"
      },
      "outputs": [],
      "source": [
        "horse_data = pd.read_csv(\n",
        "    \"https://raw.githubusercontent.com/obulygin/pyda_homeworks/master/statistics_basics/horse_data.csv\",\n",
        "    header = None,\n",
        "    na_values = '?')"
      ]
    },
    {
      "cell_type": "code",
      "execution_count": null,
      "id": "fac947f9",
      "metadata": {
        "id": "fac947f9",
        "outputId": "896dba2e-3079-4b51-f048-0eee61b6d86d"
      },
      "outputs": [
        {
          "data": {
            "text/html": [
              "<div>\n",
              "<style scoped>\n",
              "    .dataframe tbody tr th:only-of-type {\n",
              "        vertical-align: middle;\n",
              "    }\n",
              "\n",
              "    .dataframe tbody tr th {\n",
              "        vertical-align: top;\n",
              "    }\n",
              "\n",
              "    .dataframe thead th {\n",
              "        text-align: right;\n",
              "    }\n",
              "</style>\n",
              "<table border=\"1\" class=\"dataframe\">\n",
              "  <thead>\n",
              "    <tr style=\"text-align: right;\">\n",
              "      <th></th>\n",
              "      <th>0</th>\n",
              "      <th>1</th>\n",
              "      <th>2</th>\n",
              "      <th>3</th>\n",
              "      <th>4</th>\n",
              "      <th>5</th>\n",
              "      <th>6</th>\n",
              "      <th>7</th>\n",
              "      <th>8</th>\n",
              "      <th>9</th>\n",
              "      <th>...</th>\n",
              "      <th>18</th>\n",
              "      <th>19</th>\n",
              "      <th>20</th>\n",
              "      <th>21</th>\n",
              "      <th>22</th>\n",
              "      <th>23</th>\n",
              "      <th>24</th>\n",
              "      <th>25</th>\n",
              "      <th>26</th>\n",
              "      <th>27</th>\n",
              "    </tr>\n",
              "  </thead>\n",
              "  <tbody>\n",
              "    <tr>\n",
              "      <th>0</th>\n",
              "      <td>2.0</td>\n",
              "      <td>1</td>\n",
              "      <td>530101</td>\n",
              "      <td>38.5</td>\n",
              "      <td>66.0</td>\n",
              "      <td>28.0</td>\n",
              "      <td>3.0</td>\n",
              "      <td>3.0</td>\n",
              "      <td>NaN</td>\n",
              "      <td>2.0</td>\n",
              "      <td>...</td>\n",
              "      <td>45.0</td>\n",
              "      <td>8.4</td>\n",
              "      <td>NaN</td>\n",
              "      <td>NaN</td>\n",
              "      <td>2.0</td>\n",
              "      <td>2</td>\n",
              "      <td>11300</td>\n",
              "      <td>0</td>\n",
              "      <td>0</td>\n",
              "      <td>2</td>\n",
              "    </tr>\n",
              "    <tr>\n",
              "      <th>1</th>\n",
              "      <td>1.0</td>\n",
              "      <td>1</td>\n",
              "      <td>534817</td>\n",
              "      <td>39.2</td>\n",
              "      <td>88.0</td>\n",
              "      <td>20.0</td>\n",
              "      <td>NaN</td>\n",
              "      <td>NaN</td>\n",
              "      <td>4.0</td>\n",
              "      <td>1.0</td>\n",
              "      <td>...</td>\n",
              "      <td>50.0</td>\n",
              "      <td>85.0</td>\n",
              "      <td>2.0</td>\n",
              "      <td>2.0</td>\n",
              "      <td>3.0</td>\n",
              "      <td>2</td>\n",
              "      <td>2208</td>\n",
              "      <td>0</td>\n",
              "      <td>0</td>\n",
              "      <td>2</td>\n",
              "    </tr>\n",
              "    <tr>\n",
              "      <th>2</th>\n",
              "      <td>2.0</td>\n",
              "      <td>1</td>\n",
              "      <td>530334</td>\n",
              "      <td>38.3</td>\n",
              "      <td>40.0</td>\n",
              "      <td>24.0</td>\n",
              "      <td>1.0</td>\n",
              "      <td>1.0</td>\n",
              "      <td>3.0</td>\n",
              "      <td>1.0</td>\n",
              "      <td>...</td>\n",
              "      <td>33.0</td>\n",
              "      <td>6.7</td>\n",
              "      <td>NaN</td>\n",
              "      <td>NaN</td>\n",
              "      <td>1.0</td>\n",
              "      <td>2</td>\n",
              "      <td>0</td>\n",
              "      <td>0</td>\n",
              "      <td>0</td>\n",
              "      <td>1</td>\n",
              "    </tr>\n",
              "    <tr>\n",
              "      <th>3</th>\n",
              "      <td>1.0</td>\n",
              "      <td>9</td>\n",
              "      <td>5290409</td>\n",
              "      <td>39.1</td>\n",
              "      <td>164.0</td>\n",
              "      <td>84.0</td>\n",
              "      <td>4.0</td>\n",
              "      <td>1.0</td>\n",
              "      <td>6.0</td>\n",
              "      <td>2.0</td>\n",
              "      <td>...</td>\n",
              "      <td>48.0</td>\n",
              "      <td>7.2</td>\n",
              "      <td>3.0</td>\n",
              "      <td>5.3</td>\n",
              "      <td>2.0</td>\n",
              "      <td>1</td>\n",
              "      <td>2208</td>\n",
              "      <td>0</td>\n",
              "      <td>0</td>\n",
              "      <td>1</td>\n",
              "    </tr>\n",
              "    <tr>\n",
              "      <th>4</th>\n",
              "      <td>2.0</td>\n",
              "      <td>1</td>\n",
              "      <td>530255</td>\n",
              "      <td>37.3</td>\n",
              "      <td>104.0</td>\n",
              "      <td>35.0</td>\n",
              "      <td>NaN</td>\n",
              "      <td>NaN</td>\n",
              "      <td>6.0</td>\n",
              "      <td>2.0</td>\n",
              "      <td>...</td>\n",
              "      <td>74.0</td>\n",
              "      <td>7.4</td>\n",
              "      <td>NaN</td>\n",
              "      <td>NaN</td>\n",
              "      <td>2.0</td>\n",
              "      <td>2</td>\n",
              "      <td>4300</td>\n",
              "      <td>0</td>\n",
              "      <td>0</td>\n",
              "      <td>2</td>\n",
              "    </tr>\n",
              "  </tbody>\n",
              "</table>\n",
              "<p>5 rows × 28 columns</p>\n",
              "</div>"
            ],
            "text/plain": [
              "    0   1        2     3      4     5    6    7    8    9   ...    18    19  \\\n",
              "0  2.0   1   530101  38.5   66.0  28.0  3.0  3.0  NaN  2.0  ...  45.0   8.4   \n",
              "1  1.0   1   534817  39.2   88.0  20.0  NaN  NaN  4.0  1.0  ...  50.0  85.0   \n",
              "2  2.0   1   530334  38.3   40.0  24.0  1.0  1.0  3.0  1.0  ...  33.0   6.7   \n",
              "3  1.0   9  5290409  39.1  164.0  84.0  4.0  1.0  6.0  2.0  ...  48.0   7.2   \n",
              "4  2.0   1   530255  37.3  104.0  35.0  NaN  NaN  6.0  2.0  ...  74.0   7.4   \n",
              "\n",
              "    20   21   22  23     24  25  26  27  \n",
              "0  NaN  NaN  2.0   2  11300   0   0   2  \n",
              "1  2.0  2.0  3.0   2   2208   0   0   2  \n",
              "2  NaN  NaN  1.0   2      0   0   0   1  \n",
              "3  3.0  5.3  2.0   1   2208   0   0   1  \n",
              "4  NaN  NaN  2.0   2   4300   0   0   2  \n",
              "\n",
              "[5 rows x 28 columns]"
            ]
          },
          "execution_count": 3,
          "metadata": {},
          "output_type": "execute_result"
        }
      ],
      "source": [
        "horse_data.head()"
      ]
    },
    {
      "cell_type": "code",
      "execution_count": null,
      "id": "9edd8f9f",
      "metadata": {
        "id": "9edd8f9f"
      },
      "outputs": [],
      "source": [
        "columns = ['surgery?', 'age', 'rectal temperature', 'pulse', 'respiratory rate',\n",
        "           'temperature of extremities', 'pain', 'outcome']"
      ]
    },
    {
      "cell_type": "code",
      "execution_count": null,
      "id": "d564d99e",
      "metadata": {
        "id": "d564d99e",
        "outputId": "e9fb8354-f992-4932-da86-c1d7753617e5"
      },
      "outputs": [
        {
          "data": {
            "text/html": [
              "<div>\n",
              "<style scoped>\n",
              "    .dataframe tbody tr th:only-of-type {\n",
              "        vertical-align: middle;\n",
              "    }\n",
              "\n",
              "    .dataframe tbody tr th {\n",
              "        vertical-align: top;\n",
              "    }\n",
              "\n",
              "    .dataframe thead th {\n",
              "        text-align: right;\n",
              "    }\n",
              "</style>\n",
              "<table border=\"1\" class=\"dataframe\">\n",
              "  <thead>\n",
              "    <tr style=\"text-align: right;\">\n",
              "      <th></th>\n",
              "      <th>surgery?</th>\n",
              "      <th>age</th>\n",
              "      <th>rectal temperature</th>\n",
              "      <th>pulse</th>\n",
              "      <th>respiratory rate</th>\n",
              "      <th>temperature of extremities</th>\n",
              "      <th>pain</th>\n",
              "      <th>outcome</th>\n",
              "    </tr>\n",
              "  </thead>\n",
              "  <tbody>\n",
              "    <tr>\n",
              "      <th>0</th>\n",
              "      <td>2.0</td>\n",
              "      <td>1</td>\n",
              "      <td>38.5</td>\n",
              "      <td>66.0</td>\n",
              "      <td>28.0</td>\n",
              "      <td>3.0</td>\n",
              "      <td>5.0</td>\n",
              "      <td>2.0</td>\n",
              "    </tr>\n",
              "    <tr>\n",
              "      <th>1</th>\n",
              "      <td>1.0</td>\n",
              "      <td>1</td>\n",
              "      <td>39.2</td>\n",
              "      <td>88.0</td>\n",
              "      <td>20.0</td>\n",
              "      <td>NaN</td>\n",
              "      <td>3.0</td>\n",
              "      <td>3.0</td>\n",
              "    </tr>\n",
              "    <tr>\n",
              "      <th>2</th>\n",
              "      <td>2.0</td>\n",
              "      <td>1</td>\n",
              "      <td>38.3</td>\n",
              "      <td>40.0</td>\n",
              "      <td>24.0</td>\n",
              "      <td>1.0</td>\n",
              "      <td>3.0</td>\n",
              "      <td>1.0</td>\n",
              "    </tr>\n",
              "    <tr>\n",
              "      <th>3</th>\n",
              "      <td>1.0</td>\n",
              "      <td>9</td>\n",
              "      <td>39.1</td>\n",
              "      <td>164.0</td>\n",
              "      <td>84.0</td>\n",
              "      <td>4.0</td>\n",
              "      <td>2.0</td>\n",
              "      <td>2.0</td>\n",
              "    </tr>\n",
              "    <tr>\n",
              "      <th>4</th>\n",
              "      <td>2.0</td>\n",
              "      <td>1</td>\n",
              "      <td>37.3</td>\n",
              "      <td>104.0</td>\n",
              "      <td>35.0</td>\n",
              "      <td>NaN</td>\n",
              "      <td>NaN</td>\n",
              "      <td>2.0</td>\n",
              "    </tr>\n",
              "  </tbody>\n",
              "</table>\n",
              "</div>"
            ],
            "text/plain": [
              "   surgery?  age  rectal temperature  pulse  respiratory rate  \\\n",
              "0       2.0    1                38.5   66.0              28.0   \n",
              "1       1.0    1                39.2   88.0              20.0   \n",
              "2       2.0    1                38.3   40.0              24.0   \n",
              "3       1.0    9                39.1  164.0              84.0   \n",
              "4       2.0    1                37.3  104.0              35.0   \n",
              "\n",
              "   temperature of extremities  pain  outcome  \n",
              "0                         3.0   5.0      2.0  \n",
              "1                         NaN   3.0      3.0  \n",
              "2                         1.0   3.0      1.0  \n",
              "3                         4.0   2.0      2.0  \n",
              "4                         NaN   NaN      2.0  "
            ]
          },
          "execution_count": 5,
          "metadata": {},
          "output_type": "execute_result"
        }
      ],
      "source": [
        "horse_data = horse_data[[0, 1, 3, 4, 5, 6, 10, 22]]\n",
        "horse_data.columns = columns\n",
        "horse_data.head()"
      ]
    },
    {
      "cell_type": "markdown",
      "id": "34961f13",
      "metadata": {
        "id": "34961f13"
      },
      "source": [
        "### Задание 2. Первичное изучение данных\n",
        "Проанализировать значения по столбцам, рассчитать базовые статистики, найти выбросы."
      ]
    },
    {
      "cell_type": "code",
      "execution_count": null,
      "id": "1a0fbd9e",
      "metadata": {
        "id": "1a0fbd9e",
        "outputId": "32632656-3fc6-45ec-f6df-b180e5677d7a"
      },
      "outputs": [
        {
          "data": {
            "text/html": [
              "<div>\n",
              "<style scoped>\n",
              "    .dataframe tbody tr th:only-of-type {\n",
              "        vertical-align: middle;\n",
              "    }\n",
              "\n",
              "    .dataframe tbody tr th {\n",
              "        vertical-align: top;\n",
              "    }\n",
              "\n",
              "    .dataframe thead th {\n",
              "        text-align: right;\n",
              "    }\n",
              "</style>\n",
              "<table border=\"1\" class=\"dataframe\">\n",
              "  <thead>\n",
              "    <tr style=\"text-align: right;\">\n",
              "      <th></th>\n",
              "      <th>surgery?</th>\n",
              "      <th>age</th>\n",
              "      <th>rectal temperature</th>\n",
              "      <th>pulse</th>\n",
              "      <th>respiratory rate</th>\n",
              "      <th>temperature of extremities</th>\n",
              "      <th>pain</th>\n",
              "      <th>outcome</th>\n",
              "    </tr>\n",
              "  </thead>\n",
              "  <tbody>\n",
              "    <tr>\n",
              "      <th>count</th>\n",
              "      <td>299.000000</td>\n",
              "      <td>300.000000</td>\n",
              "      <td>240.000000</td>\n",
              "      <td>276.000000</td>\n",
              "      <td>242.000000</td>\n",
              "      <td>244.000000</td>\n",
              "      <td>245.00000</td>\n",
              "      <td>299.000000</td>\n",
              "    </tr>\n",
              "    <tr>\n",
              "      <th>mean</th>\n",
              "      <td>1.397993</td>\n",
              "      <td>1.640000</td>\n",
              "      <td>38.167917</td>\n",
              "      <td>71.913043</td>\n",
              "      <td>30.417355</td>\n",
              "      <td>2.348361</td>\n",
              "      <td>2.95102</td>\n",
              "      <td>1.551839</td>\n",
              "    </tr>\n",
              "    <tr>\n",
              "      <th>std</th>\n",
              "      <td>0.490305</td>\n",
              "      <td>2.173972</td>\n",
              "      <td>0.732289</td>\n",
              "      <td>28.630557</td>\n",
              "      <td>17.642231</td>\n",
              "      <td>1.045054</td>\n",
              "      <td>1.30794</td>\n",
              "      <td>0.737187</td>\n",
              "    </tr>\n",
              "    <tr>\n",
              "      <th>min</th>\n",
              "      <td>1.000000</td>\n",
              "      <td>1.000000</td>\n",
              "      <td>35.400000</td>\n",
              "      <td>30.000000</td>\n",
              "      <td>8.000000</td>\n",
              "      <td>1.000000</td>\n",
              "      <td>1.00000</td>\n",
              "      <td>1.000000</td>\n",
              "    </tr>\n",
              "    <tr>\n",
              "      <th>25%</th>\n",
              "      <td>1.000000</td>\n",
              "      <td>1.000000</td>\n",
              "      <td>37.800000</td>\n",
              "      <td>48.000000</td>\n",
              "      <td>18.500000</td>\n",
              "      <td>1.000000</td>\n",
              "      <td>2.00000</td>\n",
              "      <td>1.000000</td>\n",
              "    </tr>\n",
              "    <tr>\n",
              "      <th>50%</th>\n",
              "      <td>1.000000</td>\n",
              "      <td>1.000000</td>\n",
              "      <td>38.200000</td>\n",
              "      <td>64.000000</td>\n",
              "      <td>24.500000</td>\n",
              "      <td>3.000000</td>\n",
              "      <td>3.00000</td>\n",
              "      <td>1.000000</td>\n",
              "    </tr>\n",
              "    <tr>\n",
              "      <th>75%</th>\n",
              "      <td>2.000000</td>\n",
              "      <td>1.000000</td>\n",
              "      <td>38.500000</td>\n",
              "      <td>88.000000</td>\n",
              "      <td>36.000000</td>\n",
              "      <td>3.000000</td>\n",
              "      <td>4.00000</td>\n",
              "      <td>2.000000</td>\n",
              "    </tr>\n",
              "    <tr>\n",
              "      <th>max</th>\n",
              "      <td>2.000000</td>\n",
              "      <td>9.000000</td>\n",
              "      <td>40.800000</td>\n",
              "      <td>184.000000</td>\n",
              "      <td>96.000000</td>\n",
              "      <td>4.000000</td>\n",
              "      <td>5.00000</td>\n",
              "      <td>3.000000</td>\n",
              "    </tr>\n",
              "  </tbody>\n",
              "</table>\n",
              "</div>"
            ],
            "text/plain": [
              "         surgery?         age  rectal temperature       pulse  \\\n",
              "count  299.000000  300.000000          240.000000  276.000000   \n",
              "mean     1.397993    1.640000           38.167917   71.913043   \n",
              "std      0.490305    2.173972            0.732289   28.630557   \n",
              "min      1.000000    1.000000           35.400000   30.000000   \n",
              "25%      1.000000    1.000000           37.800000   48.000000   \n",
              "50%      1.000000    1.000000           38.200000   64.000000   \n",
              "75%      2.000000    1.000000           38.500000   88.000000   \n",
              "max      2.000000    9.000000           40.800000  184.000000   \n",
              "\n",
              "       respiratory rate  temperature of extremities       pain     outcome  \n",
              "count        242.000000                  244.000000  245.00000  299.000000  \n",
              "mean          30.417355                    2.348361    2.95102    1.551839  \n",
              "std           17.642231                    1.045054    1.30794    0.737187  \n",
              "min            8.000000                    1.000000    1.00000    1.000000  \n",
              "25%           18.500000                    1.000000    2.00000    1.000000  \n",
              "50%           24.500000                    3.000000    3.00000    1.000000  \n",
              "75%           36.000000                    3.000000    4.00000    2.000000  \n",
              "max           96.000000                    4.000000    5.00000    3.000000  "
            ]
          },
          "execution_count": 6,
          "metadata": {},
          "output_type": "execute_result"
        }
      ],
      "source": [
        "horse_data.describe()"
      ]
    },
    {
      "cell_type": "code",
      "execution_count": null,
      "id": "ae9d3d65",
      "metadata": {
        "id": "ae9d3d65"
      },
      "outputs": [],
      "source": [
        "Q1 = horse_data.quantile(0.25)\n",
        "Q3 = horse_data.quantile(0.75)\n",
        "\n",
        "IQR = Q3 - Q1"
      ]
    },
    {
      "cell_type": "code",
      "execution_count": null,
      "id": "afde4bf2",
      "metadata": {
        "id": "afde4bf2"
      },
      "outputs": [],
      "source": [
        "out_low = Q1 - 1.5*IQR\n",
        "out_upp = Q3 + 1.5*IQR"
      ]
    },
    {
      "cell_type": "code",
      "execution_count": null,
      "id": "d45beebb",
      "metadata": {
        "scrolled": false,
        "id": "d45beebb",
        "outputId": "f72b1b30-66de-4bfe-e401-2f716bab1eb9"
      },
      "outputs": [
        {
          "name": "stdout",
          "output_type": "stream",
          "text": [
            "surgery?\n",
            "No outliers\n",
            "\n",
            "age\n",
            "3      9\n",
            "9      9\n",
            "13     9\n",
            "16     9\n",
            "23     9\n",
            "39     9\n",
            "41     9\n",
            "55     9\n",
            "74     9\n",
            "75     9\n",
            "82     9\n",
            "103    9\n",
            "109    9\n",
            "135    9\n",
            "191    9\n",
            "212    9\n",
            "227    9\n",
            "229    9\n",
            "244    9\n",
            "252    9\n",
            "255    9\n",
            "262    9\n",
            "275    9\n",
            "287    9\n",
            "Name: age, dtype: int64\n"
          ]
        },
        {
          "data": {
            "text/plain": [
              "<Axes: >"
            ]
          },
          "metadata": {},
          "output_type": "display_data"
        },
        {
          "name": "stdout",
          "output_type": "stream",
          "text": [
            "\n",
            "rectal temperature\n",
            "20     39.9\n",
            "44     35.4\n",
            "54     40.3\n",
            "75     39.7\n",
            "80     36.4\n",
            "91     40.3\n",
            "99     39.6\n",
            "118    36.5\n",
            "141    36.0\n",
            "238    36.1\n",
            "251    36.6\n",
            "259    40.8\n",
            "281    40.0\n",
            "298    36.5\n",
            "Name: rectal temperature, dtype: float64\n"
          ]
        },
        {
          "data": {
            "text/plain": [
              "<Axes: >"
            ]
          },
          "metadata": {},
          "output_type": "display_data"
        },
        {
          "name": "stdout",
          "output_type": "stream",
          "text": [
            "\n",
            "pulse\n",
            "3      164.0\n",
            "41     150.0\n",
            "55     160.0\n",
            "255    184.0\n",
            "275    150.0\n",
            "Name: pulse, dtype: float64\n"
          ]
        },
        {
          "data": {
            "text/plain": [
              "<Axes: >"
            ]
          },
          "metadata": {},
          "output_type": "display_data"
        },
        {
          "name": "stdout",
          "output_type": "stream",
          "text": [
            "\n",
            "respiratory rate\n",
            "3      84.0\n",
            "39     96.0\n",
            "41     72.0\n",
            "82     80.0\n",
            "84     80.0\n",
            "103    68.0\n",
            "106    96.0\n",
            "120    66.0\n",
            "125    68.0\n",
            "186    90.0\n",
            "208    80.0\n",
            "229    70.0\n",
            "244    88.0\n",
            "255    84.0\n",
            "265    68.0\n",
            "269    90.0\n",
            "295    70.0\n",
            "Name: respiratory rate, dtype: float64\n"
          ]
        },
        {
          "data": {
            "text/plain": [
              "<Axes: >"
            ]
          },
          "metadata": {},
          "output_type": "display_data"
        },
        {
          "name": "stdout",
          "output_type": "stream",
          "text": [
            "\n",
            "temperature of extremities\n",
            "No outliers\n",
            "\n",
            "pain\n",
            "No outliers\n",
            "\n",
            "outcome\n",
            "No outliers\n",
            "\n"
          ]
        },
        {
          "data": {
            "image/png": "[encoded data removed]",
            "text/plain": [
              "<Figure size 640x480 with 1 Axes>"
            ]
          },
          "metadata": {},
          "output_type": "display_data"
        },
        {
          "data": {
            "image/png": "[encoded data removed]",
            "text/plain": [
              "<Figure size 640x480 with 1 Axes>"
            ]
          },
          "metadata": {},
          "output_type": "display_data"
        },
        {
          "data": {
            "image/png": "[encoded data removed]",
            "text/plain": [
              "<Figure size 640x480 with 1 Axes>"
            ]
          },
          "metadata": {},
          "output_type": "display_data"
        },
        {
          "data": {
            "image/png": "[encoded data removed]",
            "text/plain": [
              "<Figure size 640x480 with 1 Axes>"
            ]
          },
          "metadata": {},
          "output_type": "display_data"
        }
      ],
      "source": [
        "for col in horse_data:\n",
        "    val = horse_data[col]\n",
        "    print(col)\n",
        "    out = val[(val < out_low[col]) | (val > out_upp[col])]\n",
        "    if len(out) == 0:\n",
        "        print('No outliers')\n",
        "    else:\n",
        "        print(out)\n",
        "        display(horse_data[[col]].plot.box())\n",
        "    print()"
      ]
    },
    {
      "cell_type": "markdown",
      "id": "7f54683a",
      "metadata": {
        "id": "7f54683a"
      },
      "source": [
        "### Задание 3. Работа с пропусками\n",
        "Рассчитать количество пропусков для всех выбранных столбцов. Принять и обосновать решение о методе заполнения пропусков по каждому столбцу на основе рассчитанных статистик и возможной взаимосвязи значений в них. Сформировать датафрейм, в котором пропуски будут отсутствовать."
      ]
    },
    {
      "cell_type": "code",
      "execution_count": null,
      "id": "06a81c25",
      "metadata": {
        "id": "06a81c25",
        "outputId": "8fc3cf84-8545-481e-b71f-18b5e564be3f"
      },
      "outputs": [
        {
          "data": {
            "text/plain": [
              "surgery?                       1\n",
              "age                            0\n",
              "rectal temperature            60\n",
              "pulse                         24\n",
              "respiratory rate              58\n",
              "temperature of extremities    56\n",
              "pain                          55\n",
              "outcome                        1\n",
              "dtype: int64"
            ]
          },
          "execution_count": 10,
          "metadata": {},
          "output_type": "execute_result"
        }
      ],
      "source": [
        "horse_data.isna().sum(axis=0)"
      ]
    },
    {
      "cell_type": "code",
      "execution_count": null,
      "id": "aff4c944",
      "metadata": {
        "id": "aff4c944",
        "outputId": "a48e8b69-9994-4669-8ef8-bcbd3e1c43a8"
      },
      "outputs": [
        {
          "data": {
            "text/html": [
              "<div>\n",
              "<style scoped>\n",
              "    .dataframe tbody tr th:only-of-type {\n",
              "        vertical-align: middle;\n",
              "    }\n",
              "\n",
              "    .dataframe tbody tr th {\n",
              "        vertical-align: top;\n",
              "    }\n",
              "\n",
              "    .dataframe thead th {\n",
              "        text-align: right;\n",
              "    }\n",
              "</style>\n",
              "<table border=\"1\" class=\"dataframe\">\n",
              "  <thead>\n",
              "    <tr style=\"text-align: right;\">\n",
              "      <th></th>\n",
              "      <th>surgery?</th>\n",
              "      <th>age</th>\n",
              "      <th>rectal temperature</th>\n",
              "      <th>pulse</th>\n",
              "      <th>respiratory rate</th>\n",
              "      <th>temperature of extremities</th>\n",
              "      <th>pain</th>\n",
              "      <th>outcome</th>\n",
              "    </tr>\n",
              "  </thead>\n",
              "  <tbody>\n",
              "    <tr>\n",
              "      <th>132</th>\n",
              "      <td>NaN</td>\n",
              "      <td>1</td>\n",
              "      <td>38.0</td>\n",
              "      <td>48.0</td>\n",
              "      <td>20.0</td>\n",
              "      <td>3.0</td>\n",
              "      <td>4.0</td>\n",
              "      <td>NaN</td>\n",
              "    </tr>\n",
              "  </tbody>\n",
              "</table>\n",
              "</div>"
            ],
            "text/plain": [
              "     surgery?  age  rectal temperature  pulse  respiratory rate  \\\n",
              "132       NaN    1                38.0   48.0              20.0   \n",
              "\n",
              "     temperature of extremities  pain  outcome  \n",
              "132                         3.0   4.0      NaN  "
            ]
          },
          "execution_count": 11,
          "metadata": {},
          "output_type": "execute_result"
        }
      ],
      "source": [
        "horse_data[horse_data.outcome.isna()]"
      ]
    },
    {
      "cell_type": "markdown",
      "id": "2728f48c",
      "metadata": {
        "id": "2728f48c"
      },
      "source": [
        "Два пустых реквизита в строке, поэтому просто её удалим."
      ]
    },
    {
      "cell_type": "code",
      "execution_count": null,
      "id": "c4a57fd7",
      "metadata": {
        "id": "c4a57fd7",
        "outputId": "9d072bf6-6b4b-4164-a485-003413b02e7a"
      },
      "outputs": [
        {
          "data": {
            "text/plain": [
              "surgery?                       0\n",
              "age                            0\n",
              "rectal temperature            60\n",
              "pulse                         24\n",
              "respiratory rate              58\n",
              "temperature of extremities    56\n",
              "pain                          55\n",
              "outcome                        0\n",
              "dtype: int64"
            ]
          },
          "execution_count": 12,
          "metadata": {},
          "output_type": "execute_result"
        }
      ],
      "source": [
        "horse_data.dropna(subset = ['surgery?','outcome'], inplace = True)\n",
        "horse_data.isna().sum(axis=0)"
      ]
    },
    {
      "cell_type": "markdown",
      "id": "33298116",
      "metadata": {
        "id": "33298116"
      },
      "source": [
        "pain категориальная, СКО особого смысла не имеет, поэтому заполним модой."
      ]
    },
    {
      "cell_type": "code",
      "execution_count": null,
      "id": "9988d0f5",
      "metadata": {
        "id": "9988d0f5",
        "outputId": "869ced88-78e1-47e6-f6eb-2afeb55f01c5"
      },
      "outputs": [
        {
          "data": {
            "text/plain": [
              "surgery?                       0\n",
              "age                            0\n",
              "rectal temperature            60\n",
              "pulse                         24\n",
              "respiratory rate              58\n",
              "temperature of extremities    56\n",
              "pain                           0\n",
              "outcome                        0\n",
              "dtype: int64"
            ]
          },
          "execution_count": 13,
          "metadata": {},
          "output_type": "execute_result"
        }
      ],
      "source": [
        "horse_data.pain = horse_data.pain.fillna(horse_data.pain.mode().squeeze())\n",
        "horse_data.isna().sum(axis=0)"
      ]
    },
    {
      "cell_type": "markdown",
      "id": "0136bb8c",
      "metadata": {
        "id": "0136bb8c"
      },
      "source": [
        "Для pulse, поскольку там там были выбросы возьмём медиану."
      ]
    },
    {
      "cell_type": "code",
      "execution_count": null,
      "id": "8f90b9ce",
      "metadata": {
        "id": "8f90b9ce",
        "outputId": "1d39a28e-d968-4bc4-b436-c2eb659c9b73"
      },
      "outputs": [
        {
          "data": {
            "text/plain": [
              "<Axes: ylabel='Frequency'>"
            ]
          },
          "execution_count": 14,
          "metadata": {},
          "output_type": "execute_result"
        },
        {
          "data": {
            "image/png": "[encoded data removed]",
            "text/plain": [
              "<Figure size 640x480 with 1 Axes>"
            ]
          },
          "metadata": {},
          "output_type": "display_data"
        }
      ],
      "source": [
        "horse_data.pulse.plot.hist(bins=30)"
      ]
    },
    {
      "cell_type": "code",
      "execution_count": null,
      "id": "e55d27bd",
      "metadata": {
        "scrolled": false,
        "id": "e55d27bd",
        "outputId": "02c56ea2-5e75-4250-b94a-4bc3ca9e4270"
      },
      "outputs": [
        {
          "data": {
            "text/plain": [
              "surgery?                       0\n",
              "age                            0\n",
              "rectal temperature            60\n",
              "pulse                          0\n",
              "respiratory rate              58\n",
              "temperature of extremities    56\n",
              "pain                           0\n",
              "outcome                        0\n",
              "dtype: int64"
            ]
          },
          "execution_count": 15,
          "metadata": {},
          "output_type": "execute_result"
        },
        {
          "data": {
            "image/png": "[encoded data removed]",
            "text/plain": [
              "<Figure size 640x480 with 1 Axes>"
            ]
          },
          "metadata": {},
          "output_type": "display_data"
        }
      ],
      "source": [
        "horse_data.pulse = horse_data.pulse.fillna(horse_data.pulse.median())\n",
        "horse_data.pulse.plot.hist(bins=30)\n",
        "horse_data.isna().sum(axis=0)"
      ]
    },
    {
      "cell_type": "markdown",
      "id": "6d0f1649",
      "metadata": {
        "id": "6d0f1649"
      },
      "source": []
    },
    {
      "cell_type": "code",
      "execution_count": null,
      "id": "d98eb0c0",
      "metadata": {
        "id": "d98eb0c0",
        "outputId": "992ba26c-6355-4769-c25d-3c08250acd56"
      },
      "outputs": [
        {
          "name": "stderr",
          "output_type": "stream",
          "text": [
            "/tmp/ipykernel_10411/1190014767.py:1: FutureWarning: Indexing with multiple keys (implicitly converted to a tuple of keys) will be deprecated, use a list instead.\n",
            "  horse_data.groupby('surgery?')['respiratory rate', 'pulse', 'temperature of extremities'].median()\n"
          ]
        },
        {
          "data": {
            "text/html": [
              "<div>\n",
              "<style scoped>\n",
              "    .dataframe tbody tr th:only-of-type {\n",
              "        vertical-align: middle;\n",
              "    }\n",
              "\n",
              "    .dataframe tbody tr th {\n",
              "        vertical-align: top;\n",
              "    }\n",
              "\n",
              "    .dataframe thead th {\n",
              "        text-align: right;\n",
              "    }\n",
              "</style>\n",
              "<table border=\"1\" class=\"dataframe\">\n",
              "  <thead>\n",
              "    <tr style=\"text-align: right;\">\n",
              "      <th></th>\n",
              "      <th>respiratory rate</th>\n",
              "      <th>pulse</th>\n",
              "      <th>temperature of extremities</th>\n",
              "    </tr>\n",
              "    <tr>\n",
              "      <th>surgery?</th>\n",
              "      <th></th>\n",
              "      <th></th>\n",
              "      <th></th>\n",
              "    </tr>\n",
              "  </thead>\n",
              "  <tbody>\n",
              "    <tr>\n",
              "      <th>1.0</th>\n",
              "      <td>28.0</td>\n",
              "      <td>66.0</td>\n",
              "      <td>3.0</td>\n",
              "    </tr>\n",
              "    <tr>\n",
              "      <th>2.0</th>\n",
              "      <td>24.0</td>\n",
              "      <td>56.0</td>\n",
              "      <td>2.0</td>\n",
              "    </tr>\n",
              "  </tbody>\n",
              "</table>\n",
              "</div>"
            ],
            "text/plain": [
              "          respiratory rate  pulse  temperature of extremities\n",
              "surgery?                                                     \n",
              "1.0                   28.0   66.0                         3.0\n",
              "2.0                   24.0   56.0                         2.0"
            ]
          },
          "execution_count": 16,
          "metadata": {},
          "output_type": "execute_result"
        }
      ],
      "source": [
        "horse_data.groupby('surgery?')['respiratory rate', 'pulse', 'temperature of extremities'].median()"
      ]
    },
    {
      "cell_type": "code",
      "execution_count": null,
      "id": "9d9ac885",
      "metadata": {
        "id": "9d9ac885"
      },
      "outputs": [],
      "source": [
        "rate_med = horse_data.groupby('surgery?')['respiratory rate'].median()\n",
        "for s, med in rate_med.items():\n",
        "    horse_data.loc[(horse_data['surgery?'] == s) &\n",
        "                   horse_data['respiratory rate'].isna(), 'respiratory rate'] = med\n",
        "\n",
        "rate_med = horse_data.groupby('surgery?')['rectal temperature'].median()\n",
        "for s, med in rate_med.items():\n",
        "    horse_data.loc[(horse_data['surgery?'] == s) &\n",
        "                   horse_data['rectal temperature'].isna(), 'rectal temperature'] = med\n",
        "\n",
        "rate_med = horse_data.groupby('surgery?')['temperature of extremities'].median()\n",
        "for s, med in rate_med.items():\n",
        "    horse_data.loc[(horse_data['surgery?'] == s) &\n",
        "                   horse_data['temperature of extremities'].isna(), 'temperature of extremities'] = med"
      ]
    },
    {
      "cell_type": "code",
      "execution_count": null,
      "id": "92ee3602",
      "metadata": {
        "id": "92ee3602",
        "outputId": "97de650a-555f-4858-8386-c6f2295c4b08"
      },
      "outputs": [
        {
          "data": {
            "text/plain": [
              "surgery?                      0\n",
              "age                           0\n",
              "rectal temperature            0\n",
              "pulse                         0\n",
              "respiratory rate              0\n",
              "temperature of extremities    0\n",
              "pain                          0\n",
              "outcome                       0\n",
              "dtype: int64"
            ]
          },
          "execution_count": 18,
          "metadata": {},
          "output_type": "execute_result"
        }
      ],
      "source": [
        "horse_data.isna().sum(axis=0)"
      ]
    }
  ],
  "metadata": {
    "celltoolbar": "Отсутствует",
    "kernelspec": {
      "display_name": "Python 3 (ipykernel)",
      "language": "python",
      "name": "python3"
    },
    "language_info": {
      "codemirror_mode": {
        "name": "ipython",
        "version": 3
      },
      "file_extension": ".py",
      "mimetype": "text/x-python",
      "name": "python",
      "nbconvert_exporter": "python",
      "pygments_lexer": "ipython3",
      "version": "3.10.12"
    },
    "colab": {
      "provenance": [],
      "include_colab_link": true
    }
  },
  "nbformat": 4,
  "nbformat_minor": 5
}