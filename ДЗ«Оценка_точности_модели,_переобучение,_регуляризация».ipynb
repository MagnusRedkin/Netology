{
  "cells": [
    {
      "cell_type": "markdown",
      "metadata": {
        "id": "view-in-github",
        "colab_type": "text"
      },
      "source": [
        "<a href=\"https://colab.research.google.com/github/MagnusRedkin/Netology/blob/main/%D0%94%D0%97%C2%AB%D0%9E%D1%86%D0%B5%D0%BD%D0%BA%D0%B0_%D1%82%D0%BE%D1%87%D0%BD%D0%BE%D1%81%D1%82%D0%B8_%D0%BC%D0%BE%D0%B4%D0%B5%D0%BB%D0%B8%2C_%D0%BF%D0%B5%D1%80%D0%B5%D0%BE%D0%B1%D1%83%D1%87%D0%B5%D0%BD%D0%B8%D0%B5%2C_%D1%80%D0%B5%D0%B3%D1%83%D0%BB%D1%8F%D1%80%D0%B8%D0%B7%D0%B0%D1%86%D0%B8%D1%8F%C2%BB.ipynb\" target=\"_parent\"><img src=\"https://colab.research.google.com/assets/colab-badge.svg\" alt=\"Open In Colab\"/></a>"
      ]
    },
    {
      "cell_type": "markdown",
      "id": "427b8d00",
      "metadata": {
        "id": "427b8d00"
      },
      "source": [
        "## Задание:\n",
        "Решить задачу классификации при помощи обучения модели логистической регрессии. Качество модели оценивается путем подсчета метрик TPR, FPR и построения графиков ROC-кривой, Precision-Recall. Данные для обучения модели хранятся в файле athletes.csv, который можно найти в материалах к занятию.\n",
        "## Этапы работы:\n",
        "1. Преобразуйте данные:\n",
        "    * проверьте наличие пропущенных значений. Преобразуйте/удалите пропуски по необходимости;\n",
        "    * закодируйте категориальные переменные числовыми значениями по необходимости.\n",
        "2. Разделите выборку на обучающее (80% данных) и тестовое (20% данных) подмножества.\n",
        "3. Постройте ROC-кривую с помощью функции sklearn.metrics. roc_curve.\n",
        "4. Вычислите значение ROC-AUC метрики с помощью функции sklearn.metrics.roc_auc_score.\n",
        "5. Реализуйте подсчет метрик TPR, FPR «вручную», без использования готовых функций из библиотеки sklearn.\n",
        "6. Постройте ROC-кривую с помощью вычисленных в п. 5 метрик: объедините графики из п. 3 и п. 6 в один. Сравните, сделайте вывод.\n",
        "7. Постройте график Precision-Recall, используя метрики, посчитанные в п. 5.\n",
        "8. *Вычислите значение ROC-AUC метрики, используя метрики, посчитанные в п. 5.\n",
        "9. **Сформулируйте выводы по проделанной работе:**\n",
        "    * как по полученным графикам сделать вывод о качестве модели? Как вы оцениваете обученную модель исходя из подсчитанных метрик?\n",
        "    * может ли ROC-кривая проходить ниже диагонали?"
      ]
    },
    {
      "cell_type": "code",
      "execution_count": null,
      "id": "3e79410c",
      "metadata": {
        "id": "3e79410c"
      },
      "outputs": [],
      "source": [
        "import pandas as pd\n",
        "import numpy as np\n",
        "from matplotlib import pyplot as plt\n",
        "from sklearn.linear_model import LogisticRegression\n",
        "from sklearn.model_selection import train_test_split\n",
        "from sklearn.preprocessing import LabelEncoder\n",
        "from sklearn.metrics import roc_curve\n",
        "from sklearn.metrics import roc_auc_score\n",
        "from sklearn.metrics import precision_recall_curve\n",
        "from sklearn.metrics import auc"
      ]
    },
    {
      "cell_type": "code",
      "execution_count": null,
      "id": "3795aac0",
      "metadata": {
        "id": "3795aac0",
        "outputId": "5a60c685-af84-485f-fd2b-3840124397e6"
      },
      "outputs": [
        {
          "data": {
            "text/html": [
              "<div>\n",
              "<style scoped>\n",
              "    .dataframe tbody tr th:only-of-type {\n",
              "        vertical-align: middle;\n",
              "    }\n",
              "\n",
              "    .dataframe tbody tr th {\n",
              "        vertical-align: top;\n",
              "    }\n",
              "\n",
              "    .dataframe thead th {\n",
              "        text-align: right;\n",
              "    }\n",
              "</style>\n",
              "<table border=\"1\" class=\"dataframe\">\n",
              "  <thead>\n",
              "    <tr style=\"text-align: right;\">\n",
              "      <th></th>\n",
              "      <th>id</th>\n",
              "      <th>name</th>\n",
              "      <th>nationality</th>\n",
              "      <th>sex</th>\n",
              "      <th>dob</th>\n",
              "      <th>height</th>\n",
              "      <th>weight</th>\n",
              "      <th>sport</th>\n",
              "      <th>gold</th>\n",
              "      <th>silver</th>\n",
              "      <th>bronze</th>\n",
              "    </tr>\n",
              "  </thead>\n",
              "  <tbody>\n",
              "    <tr>\n",
              "      <th>0</th>\n",
              "      <td>736041664</td>\n",
              "      <td>A Jesus Garcia</td>\n",
              "      <td>ESP</td>\n",
              "      <td>male</td>\n",
              "      <td>10/17/69</td>\n",
              "      <td>1.72</td>\n",
              "      <td>64.0</td>\n",
              "      <td>athletics</td>\n",
              "      <td>0</td>\n",
              "      <td>0</td>\n",
              "      <td>0</td>\n",
              "    </tr>\n",
              "    <tr>\n",
              "      <th>1</th>\n",
              "      <td>532037425</td>\n",
              "      <td>A Lam Shin</td>\n",
              "      <td>KOR</td>\n",
              "      <td>female</td>\n",
              "      <td>9/23/86</td>\n",
              "      <td>1.68</td>\n",
              "      <td>56.0</td>\n",
              "      <td>fencing</td>\n",
              "      <td>0</td>\n",
              "      <td>0</td>\n",
              "      <td>0</td>\n",
              "    </tr>\n",
              "    <tr>\n",
              "      <th>2</th>\n",
              "      <td>435962603</td>\n",
              "      <td>Aaron Brown</td>\n",
              "      <td>CAN</td>\n",
              "      <td>male</td>\n",
              "      <td>5/27/92</td>\n",
              "      <td>1.98</td>\n",
              "      <td>79.0</td>\n",
              "      <td>athletics</td>\n",
              "      <td>0</td>\n",
              "      <td>0</td>\n",
              "      <td>1</td>\n",
              "    </tr>\n",
              "    <tr>\n",
              "      <th>3</th>\n",
              "      <td>521041435</td>\n",
              "      <td>Aaron Cook</td>\n",
              "      <td>MDA</td>\n",
              "      <td>male</td>\n",
              "      <td>1/2/91</td>\n",
              "      <td>1.83</td>\n",
              "      <td>80.0</td>\n",
              "      <td>taekwondo</td>\n",
              "      <td>0</td>\n",
              "      <td>0</td>\n",
              "      <td>0</td>\n",
              "    </tr>\n",
              "    <tr>\n",
              "      <th>4</th>\n",
              "      <td>33922579</td>\n",
              "      <td>Aaron Gate</td>\n",
              "      <td>NZL</td>\n",
              "      <td>male</td>\n",
              "      <td>11/26/90</td>\n",
              "      <td>1.81</td>\n",
              "      <td>71.0</td>\n",
              "      <td>cycling</td>\n",
              "      <td>0</td>\n",
              "      <td>0</td>\n",
              "      <td>0</td>\n",
              "    </tr>\n",
              "  </tbody>\n",
              "</table>\n",
              "</div>"
            ],
            "text/plain": [
              "          id            name nationality     sex       dob  height  weight  \\\n",
              "0  736041664  A Jesus Garcia         ESP    male  10/17/69    1.72    64.0   \n",
              "1  532037425      A Lam Shin         KOR  female   9/23/86    1.68    56.0   \n",
              "2  435962603     Aaron Brown         CAN    male   5/27/92    1.98    79.0   \n",
              "3  521041435      Aaron Cook         MDA    male    1/2/91    1.83    80.0   \n",
              "4   33922579      Aaron Gate         NZL    male  11/26/90    1.81    71.0   \n",
              "\n",
              "       sport  gold  silver  bronze  \n",
              "0  athletics     0       0       0  \n",
              "1    fencing     0       0       0  \n",
              "2  athletics     0       0       1  \n",
              "3  taekwondo     0       0       0  \n",
              "4    cycling     0       0       0  "
            ]
          },
          "execution_count": 34,
          "metadata": {},
          "output_type": "execute_result"
        }
      ],
      "source": [
        "data = pd.read_csv('https://raw.githubusercontent.com/MagnusRedkin/Netology/main/athletes.csv')\n",
        "data.head()"
      ]
    },
    {
      "cell_type": "code",
      "execution_count": null,
      "id": "562200eb",
      "metadata": {
        "id": "562200eb",
        "outputId": "082bb9b0-57b2-4fed-8042-caab7aee2e01"
      },
      "outputs": [
        {
          "data": {
            "text/plain": [
              "id               0\n",
              "name             0\n",
              "nationality      0\n",
              "sex              0\n",
              "dob              1\n",
              "height         330\n",
              "weight         659\n",
              "sport            0\n",
              "gold             0\n",
              "silver           0\n",
              "bronze           0\n",
              "dtype: int64"
            ]
          },
          "execution_count": 3,
          "metadata": {},
          "output_type": "execute_result"
        }
      ],
      "source": [
        "data.isna().sum()"
      ]
    },
    {
      "cell_type": "markdown",
      "id": "edb3b75c",
      "metadata": {
        "id": "edb3b75c"
      },
      "source": [
        "**Удаляем пропуски.**"
      ]
    },
    {
      "cell_type": "code",
      "execution_count": null,
      "id": "8c7c0a41",
      "metadata": {
        "id": "8c7c0a41"
      },
      "outputs": [],
      "source": [
        "data = data[ pd.isnull( data['height'] ) == 0 ]\n",
        "data = data[ pd.isnull( data['weight'] ) == 0 ]"
      ]
    },
    {
      "cell_type": "markdown",
      "id": "33559127",
      "metadata": {
        "id": "33559127"
      },
      "source": [
        "**Кодируем категориальные переменные числовыми значениями, удаляем ненужные**"
      ]
    },
    {
      "cell_type": "code",
      "execution_count": null,
      "id": "332d000e",
      "metadata": {
        "id": "332d000e",
        "outputId": "9fc5e649-4e2e-46ed-9a5d-c2d051346b5b"
      },
      "outputs": [
        {
          "data": {
            "text/html": [
              "<div>\n",
              "<style scoped>\n",
              "    .dataframe tbody tr th:only-of-type {\n",
              "        vertical-align: middle;\n",
              "    }\n",
              "\n",
              "    .dataframe tbody tr th {\n",
              "        vertical-align: top;\n",
              "    }\n",
              "\n",
              "    .dataframe thead th {\n",
              "        text-align: right;\n",
              "    }\n",
              "</style>\n",
              "<table border=\"1\" class=\"dataframe\">\n",
              "  <thead>\n",
              "    <tr style=\"text-align: right;\">\n",
              "      <th></th>\n",
              "      <th>height</th>\n",
              "      <th>weight</th>\n",
              "      <th>gold</th>\n",
              "      <th>silver</th>\n",
              "      <th>bronze</th>\n",
              "      <th>nationality_ALB</th>\n",
              "      <th>nationality_ALG</th>\n",
              "      <th>nationality_AND</th>\n",
              "      <th>nationality_ANG</th>\n",
              "      <th>nationality_ANT</th>\n",
              "      <th>...</th>\n",
              "      <th>sport_rugby sevens</th>\n",
              "      <th>sport_sailing</th>\n",
              "      <th>sport_shooting</th>\n",
              "      <th>sport_table tennis</th>\n",
              "      <th>sport_taekwondo</th>\n",
              "      <th>sport_tennis</th>\n",
              "      <th>sport_triathlon</th>\n",
              "      <th>sport_volleyball</th>\n",
              "      <th>sport_weightlifting</th>\n",
              "      <th>sport_wrestling</th>\n",
              "    </tr>\n",
              "  </thead>\n",
              "  <tbody>\n",
              "    <tr>\n",
              "      <th>0</th>\n",
              "      <td>1.72</td>\n",
              "      <td>64.0</td>\n",
              "      <td>0</td>\n",
              "      <td>0</td>\n",
              "      <td>0</td>\n",
              "      <td>0</td>\n",
              "      <td>0</td>\n",
              "      <td>0</td>\n",
              "      <td>0</td>\n",
              "      <td>0</td>\n",
              "      <td>...</td>\n",
              "      <td>0</td>\n",
              "      <td>0</td>\n",
              "      <td>0</td>\n",
              "      <td>0</td>\n",
              "      <td>0</td>\n",
              "      <td>0</td>\n",
              "      <td>0</td>\n",
              "      <td>0</td>\n",
              "      <td>0</td>\n",
              "      <td>0</td>\n",
              "    </tr>\n",
              "    <tr>\n",
              "      <th>1</th>\n",
              "      <td>1.68</td>\n",
              "      <td>56.0</td>\n",
              "      <td>0</td>\n",
              "      <td>0</td>\n",
              "      <td>0</td>\n",
              "      <td>0</td>\n",
              "      <td>0</td>\n",
              "      <td>0</td>\n",
              "      <td>0</td>\n",
              "      <td>0</td>\n",
              "      <td>...</td>\n",
              "      <td>0</td>\n",
              "      <td>0</td>\n",
              "      <td>0</td>\n",
              "      <td>0</td>\n",
              "      <td>0</td>\n",
              "      <td>0</td>\n",
              "      <td>0</td>\n",
              "      <td>0</td>\n",
              "      <td>0</td>\n",
              "      <td>0</td>\n",
              "    </tr>\n",
              "    <tr>\n",
              "      <th>2</th>\n",
              "      <td>1.98</td>\n",
              "      <td>79.0</td>\n",
              "      <td>0</td>\n",
              "      <td>0</td>\n",
              "      <td>1</td>\n",
              "      <td>0</td>\n",
              "      <td>0</td>\n",
              "      <td>0</td>\n",
              "      <td>0</td>\n",
              "      <td>0</td>\n",
              "      <td>...</td>\n",
              "      <td>0</td>\n",
              "      <td>0</td>\n",
              "      <td>0</td>\n",
              "      <td>0</td>\n",
              "      <td>0</td>\n",
              "      <td>0</td>\n",
              "      <td>0</td>\n",
              "      <td>0</td>\n",
              "      <td>0</td>\n",
              "      <td>0</td>\n",
              "    </tr>\n",
              "    <tr>\n",
              "      <th>3</th>\n",
              "      <td>1.83</td>\n",
              "      <td>80.0</td>\n",
              "      <td>0</td>\n",
              "      <td>0</td>\n",
              "      <td>0</td>\n",
              "      <td>0</td>\n",
              "      <td>0</td>\n",
              "      <td>0</td>\n",
              "      <td>0</td>\n",
              "      <td>0</td>\n",
              "      <td>...</td>\n",
              "      <td>0</td>\n",
              "      <td>0</td>\n",
              "      <td>0</td>\n",
              "      <td>0</td>\n",
              "      <td>1</td>\n",
              "      <td>0</td>\n",
              "      <td>0</td>\n",
              "      <td>0</td>\n",
              "      <td>0</td>\n",
              "      <td>0</td>\n",
              "    </tr>\n",
              "    <tr>\n",
              "      <th>4</th>\n",
              "      <td>1.81</td>\n",
              "      <td>71.0</td>\n",
              "      <td>0</td>\n",
              "      <td>0</td>\n",
              "      <td>0</td>\n",
              "      <td>0</td>\n",
              "      <td>0</td>\n",
              "      <td>0</td>\n",
              "      <td>0</td>\n",
              "      <td>0</td>\n",
              "      <td>...</td>\n",
              "      <td>0</td>\n",
              "      <td>0</td>\n",
              "      <td>0</td>\n",
              "      <td>0</td>\n",
              "      <td>0</td>\n",
              "      <td>0</td>\n",
              "      <td>0</td>\n",
              "      <td>0</td>\n",
              "      <td>0</td>\n",
              "      <td>0</td>\n",
              "    </tr>\n",
              "  </tbody>\n",
              "</table>\n",
              "<p>5 rows × 230 columns</p>\n",
              "</div>"
            ],
            "text/plain": [
              "   height  weight  gold  silver  bronze  nationality_ALB  nationality_ALG  \\\n",
              "0    1.72    64.0     0       0       0                0                0   \n",
              "1    1.68    56.0     0       0       0                0                0   \n",
              "2    1.98    79.0     0       0       1                0                0   \n",
              "3    1.83    80.0     0       0       0                0                0   \n",
              "4    1.81    71.0     0       0       0                0                0   \n",
              "\n",
              "   nationality_AND  nationality_ANG  nationality_ANT  ...  sport_rugby sevens  \\\n",
              "0                0                0                0  ...                   0   \n",
              "1                0                0                0  ...                   0   \n",
              "2                0                0                0  ...                   0   \n",
              "3                0                0                0  ...                   0   \n",
              "4                0                0                0  ...                   0   \n",
              "\n",
              "   sport_sailing  sport_shooting  sport_table tennis  sport_taekwondo  \\\n",
              "0              0               0                   0                0   \n",
              "1              0               0                   0                0   \n",
              "2              0               0                   0                0   \n",
              "3              0               0                   0                1   \n",
              "4              0               0                   0                0   \n",
              "\n",
              "   sport_tennis  sport_triathlon  sport_volleyball  sport_weightlifting  \\\n",
              "0             0                0                 0                    0   \n",
              "1             0                0                 0                    0   \n",
              "2             0                0                 0                    0   \n",
              "3             0                0                 0                    0   \n",
              "4             0                0                 0                    0   \n",
              "\n",
              "   sport_wrestling  \n",
              "0                0  \n",
              "1                0  \n",
              "2                0  \n",
              "3                0  \n",
              "4                0  \n",
              "\n",
              "[5 rows x 230 columns]"
            ]
          },
          "execution_count": 5,
          "metadata": {},
          "output_type": "execute_result"
        }
      ],
      "source": [
        "X = pd.get_dummies(data, columns=['nationality', 'sport'], drop_first=True)\n",
        "X.drop(columns = ['sex', 'id', 'name', 'dob'],axis = 1, inplace=True)\n",
        "X.head()"
      ]
    },
    {
      "cell_type": "code",
      "execution_count": null,
      "id": "3bc5a4c8",
      "metadata": {
        "id": "3bc5a4c8",
        "outputId": "9f08d32f-ccfb-4d4a-93ce-f9fd1ce4bb31"
      },
      "outputs": [
        {
          "data": {
            "text/plain": [
              "LabelEncoder()"
            ]
          },
          "execution_count": 6,
          "metadata": {},
          "output_type": "execute_result"
        }
      ],
      "source": [
        "le = LabelEncoder()\n",
        "le.fit(data['sex'])"
      ]
    },
    {
      "cell_type": "code",
      "execution_count": null,
      "id": "ee12df7f",
      "metadata": {
        "id": "ee12df7f",
        "outputId": "f5b5016b-d61a-4c69-c8d0-b9e2d1975a2b"
      },
      "outputs": [
        {
          "data": {
            "text/plain": [
              "0    1\n",
              "1    0\n",
              "2    1\n",
              "3    1\n",
              "4    1\n",
              "dtype: int32"
            ]
          },
          "execution_count": 7,
          "metadata": {},
          "output_type": "execute_result"
        }
      ],
      "source": [
        "Y = pd.Series(data=le.transform(data['sex']))\n",
        "Y.head()"
      ]
    },
    {
      "cell_type": "markdown",
      "id": "9b680a89",
      "metadata": {
        "id": "9b680a89"
      },
      "source": [
        "**Обучаем модель**"
      ]
    },
    {
      "cell_type": "code",
      "execution_count": null,
      "id": "cf5beb4f",
      "metadata": {
        "id": "cf5beb4f"
      },
      "outputs": [],
      "source": [
        "X_train, X_test, Y_train, Y_test = train_test_split(X, Y, test_size=0.2, random_state=21)"
      ]
    },
    {
      "cell_type": "code",
      "execution_count": null,
      "id": "0d43ed08",
      "metadata": {
        "id": "0d43ed08"
      },
      "outputs": [],
      "source": [
        "model = LogisticRegression(max_iter=1000)"
      ]
    },
    {
      "cell_type": "code",
      "execution_count": null,
      "id": "78c370d8",
      "metadata": {
        "id": "78c370d8",
        "outputId": "6c45346b-7d26-4381-d083-91a0390b5b96"
      },
      "outputs": [
        {
          "data": {
            "text/plain": [
              "LogisticRegression(max_iter=1000)"
            ]
          },
          "execution_count": 10,
          "metadata": {},
          "output_type": "execute_result"
        }
      ],
      "source": [
        "model.fit(X_train, Y_train)"
      ]
    },
    {
      "cell_type": "code",
      "execution_count": null,
      "id": "51731e7a",
      "metadata": {
        "id": "51731e7a"
      },
      "outputs": [],
      "source": [
        "predictions = model.predict_proba(X_test)"
      ]
    },
    {
      "cell_type": "code",
      "execution_count": null,
      "id": "92a23dae",
      "metadata": {
        "id": "92a23dae",
        "outputId": "f7fcd199-6423-4d5d-e7a1-74e4fd854c03"
      },
      "outputs": [
        {
          "data": {
            "text/plain": [
              "0.8427354363343311"
            ]
          },
          "execution_count": 12,
          "metadata": {},
          "output_type": "execute_result"
        }
      ],
      "source": [
        "model.score(X_train, Y_train)"
      ]
    },
    {
      "cell_type": "code",
      "execution_count": null,
      "id": "4fc07638",
      "metadata": {
        "id": "4fc07638",
        "outputId": "0cd610aa-8b30-47c6-e870-c98c39a7cfdb"
      },
      "outputs": [
        {
          "data": {
            "text/plain": [
              "0.8370165745856354"
            ]
          },
          "execution_count": 13,
          "metadata": {},
          "output_type": "execute_result"
        }
      ],
      "source": [
        "model.score(X_test, Y_test)"
      ]
    },
    {
      "cell_type": "markdown",
      "id": "121b7aed",
      "metadata": {
        "id": "121b7aed"
      },
      "source": [
        "**Модель обучилась неплохо (на первый взгляд).\n",
        "строим ROC-кривую с помощью функции sklearn.metrics.roc_curve**"
      ]
    },
    {
      "cell_type": "code",
      "execution_count": null,
      "id": "e6c15121",
      "metadata": {
        "id": "e6c15121"
      },
      "outputs": [],
      "source": [
        "fpr, tpr, thres = roc_curve( Y_test, predictions[:, 1])"
      ]
    },
    {
      "cell_type": "code",
      "execution_count": null,
      "id": "0aaaa748",
      "metadata": {
        "id": "0aaaa748",
        "outputId": "49a806d3-5a9d-42ce-8c8d-593e4f76747c"
      },
      "outputs": [
        {
          "data": {
            "image/png": "[encoded data removed]",
            "text/plain": [
              "<Figure size 640x480 with 1 Axes>"
            ]
          },
          "metadata": {},
          "output_type": "display_data"
        }
      ],
      "source": [
        "plt.title('ROC-кривая')\n",
        "plt.plot(fpr, tpr)\n",
        "plt.plot([0,1], [0,1])\n",
        "plt.xlabel('False Positive Rate')\n",
        "plt.ylabel('True Positive Rate')\n",
        "\n",
        "plt.grid()\n",
        "plt.show()"
      ]
    },
    {
      "cell_type": "markdown",
      "id": "7c57769b",
      "metadata": {
        "id": "7c57769b"
      },
      "source": [
        "**Вычисляем значение ROC-AUC метрики с помощью функции sklearn.metrics.roc_auc_score.**"
      ]
    },
    {
      "cell_type": "code",
      "execution_count": null,
      "id": "0491beca",
      "metadata": {
        "id": "0491beca",
        "outputId": "a801536c-a36f-43e1-b4e0-bb963fc9a25e"
      },
      "outputs": [
        {
          "data": {
            "text/plain": [
              "0.9029562126055241"
            ]
          },
          "execution_count": 16,
          "metadata": {},
          "output_type": "execute_result"
        }
      ],
      "source": [
        "roc_auc_score(Y_test, predictions[:, 1])"
      ]
    },
    {
      "cell_type": "markdown",
      "id": "2396ff94",
      "metadata": {
        "id": "2396ff94"
      },
      "source": [
        "**Посмотрим, что у нас получилось.**"
      ]
    },
    {
      "cell_type": "code",
      "execution_count": null,
      "id": "ebed3a07",
      "metadata": {
        "id": "ebed3a07"
      },
      "outputs": [],
      "source": [
        "tp = 0 # True positive\n",
        "fp = 0 # False positive\n",
        "fn = 0 # False negative\n",
        "tn = 0 # True negative\n",
        "\n",
        "predictions = model.predict_proba(X_test)\n",
        "for predicted_prob, actual in zip(predictions[:, 1], Y_test):\n",
        "    if predicted_prob >= 0.5:\n",
        "        predicted = 1\n",
        "    else:\n",
        "        predicted = 0\n",
        "\n",
        "    if predicted == 1:\n",
        "        if actual == 1:\n",
        "            tp += 1\n",
        "        else:\n",
        "            fp += 1\n",
        "\n",
        "    else:\n",
        "        if actual == 1:\n",
        "            fn += 1\n",
        "        else:\n",
        "            tn += 1"
      ]
    },
    {
      "cell_type": "code",
      "execution_count": null,
      "id": "f782baf5",
      "metadata": {
        "id": "f782baf5",
        "outputId": "679dc313-95c1-4be0-a746-edaeb87ff72d"
      },
      "outputs": [
        {
          "data": {
            "text/plain": [
              "(1009, 187, 167, 809)"
            ]
          },
          "execution_count": 18,
          "metadata": {},
          "output_type": "execute_result"
        }
      ],
      "source": [
        "tp, fp, fn, tn"
      ]
    },
    {
      "cell_type": "code",
      "execution_count": null,
      "id": "c1d54ca7",
      "metadata": {
        "id": "c1d54ca7",
        "outputId": "df89ec5c-d5e0-476f-9b21-d3270013cafc"
      },
      "outputs": [
        {
          "data": {
            "text/plain": [
              "0.8370165745856354"
            ]
          },
          "execution_count": 19,
          "metadata": {},
          "output_type": "execute_result"
        }
      ],
      "source": [
        "accuracy = (tp + tn) / (tp + fp + fn + tn)\n",
        "accuracy"
      ]
    },
    {
      "cell_type": "code",
      "execution_count": null,
      "id": "2ea074b4",
      "metadata": {
        "id": "2ea074b4",
        "outputId": "dcd5b2b4-32d5-4525-b270-207c944cab7e"
      },
      "outputs": [
        {
          "data": {
            "text/plain": [
              "0.8436454849498328"
            ]
          },
          "execution_count": 20,
          "metadata": {},
          "output_type": "execute_result"
        }
      ],
      "source": [
        "precision = tp / (tp + fp)\n",
        "precision"
      ]
    },
    {
      "cell_type": "code",
      "execution_count": null,
      "id": "37d4cc5b",
      "metadata": {
        "id": "37d4cc5b",
        "outputId": "3d0b81a2-42f9-4278-d544-e4b16f95901c"
      },
      "outputs": [
        {
          "data": {
            "text/plain": [
              "0.8579931972789115"
            ]
          },
          "execution_count": 21,
          "metadata": {},
          "output_type": "execute_result"
        }
      ],
      "source": [
        "TPR = tp / (tp + fn)\n",
        "TPR"
      ]
    },
    {
      "cell_type": "code",
      "execution_count": null,
      "id": "b3486a65",
      "metadata": {
        "id": "b3486a65",
        "outputId": "c18cdf4a-9ff0-4135-8395-ededed0ca783"
      },
      "outputs": [
        {
          "data": {
            "text/plain": [
              "0.18775100401606426"
            ]
          },
          "execution_count": 22,
          "metadata": {},
          "output_type": "execute_result"
        }
      ],
      "source": [
        "FPR = fp /(fp + tn)\n",
        "FPR"
      ]
    },
    {
      "cell_type": "markdown",
      "id": "2b952c2a",
      "metadata": {
        "id": "2b952c2a"
      },
      "source": [
        "**Неплохо.\n",
        "Реализуем подсчет метрик TPR, FPR «вручную»\n",
        "(заодно и *precision*)**"
      ]
    },
    {
      "cell_type": "code",
      "execution_count": null,
      "id": "95b04470",
      "metadata": {
        "id": "95b04470"
      },
      "outputs": [],
      "source": [
        "fprar = []\n",
        "tprar = []\n",
        "precision = []\n",
        "\n",
        "for thresh in np.linspace(0,0.99,100):\n",
        "    tp = 0 # True positive\n",
        "    fp = 0 # False positive\n",
        "    fn = 0 # False negative\n",
        "    tn = 0 # True negative\n",
        "    for predicted_prob, actual in zip(predictions[:, 1], Y_test):\n",
        "        if predicted_prob >= thresh:\n",
        "            predicted = 1\n",
        "        else:\n",
        "            predicted = 0\n",
        "\n",
        "        if predicted == 1:\n",
        "            if actual == 1:\n",
        "                tp += 1\n",
        "            else:\n",
        "                fp += 1\n",
        "\n",
        "        else:\n",
        "            if actual == 1:\n",
        "                fn += 1\n",
        "            else:\n",
        "                tn += 1\n",
        "\n",
        "\n",
        "    fp_r = fp / (fp + tn)\n",
        "    tp_r = tp / (tp + fn)\n",
        "    prec = tp / (tp + fp)\n",
        "\n",
        "    fprar.append(fp_r)\n",
        "    tprar.append(tp_r)\n",
        "    precision.append(prec)"
      ]
    },
    {
      "cell_type": "markdown",
      "id": "d11448ac",
      "metadata": {
        "id": "d11448ac"
      },
      "source": [
        "**Строим ROC-кривую с помощью вычисленных ранее метрик.**"
      ]
    },
    {
      "cell_type": "code",
      "execution_count": null,
      "id": "cf20d09a",
      "metadata": {
        "id": "cf20d09a",
        "outputId": "940def3c-36ab-4ea0-bf15-211c1556e3c9"
      },
      "outputs": [
        {
          "data": {
            "image/png": "[encoded data removed]",
            "text/plain": [
              "<Figure size 640x480 with 1 Axes>"
            ]
          },
          "metadata": {},
          "output_type": "display_data"
        }
      ],
      "source": [
        "plt.title('ROC-кривые')\n",
        "plt.plot(fprar, tprar,  'db', label='Без библиотеки')\n",
        "plt.plot(fpr, tpr, 'r', label='Библиотечная')\n",
        "plt.plot([0,1], [0,1], '#ff7f0e')\n",
        "\n",
        "plt.xlabel('False Positive Rate')\n",
        "plt.ylabel('True Positive Rate')\n",
        "\n",
        "plt.legend()\n",
        "plt.grid()\n",
        "plt.show()"
      ]
    },
    {
      "cell_type": "markdown",
      "id": "b15a696f",
      "metadata": {
        "id": "b15a696f"
      },
      "source": [
        "**Графики совпадают, у формул суть одна, вот если-бы не совпали, нужно было-бы искать причину.\n",
        "Строим график Precision-Recall**"
      ]
    },
    {
      "cell_type": "code",
      "execution_count": null,
      "id": "b89c05fe",
      "metadata": {
        "id": "b89c05fe",
        "outputId": "f03258f0-f99a-4265-d5c2-59b28144cc20"
      },
      "outputs": [
        {
          "data": {
            "image/png": "[encoded data removed]",
            "text/plain": [
              "<Figure size 640x480 with 1 Axes>"
            ]
          },
          "metadata": {},
          "output_type": "display_data"
        }
      ],
      "source": [
        "plt.title('Precision-Recall')\n",
        "plt.plot(tprar, precision)\n",
        "\n",
        "plt.xlabel('recall')\n",
        "plt.ylabel('precision')\n",
        "\n",
        "plt.grid()"
      ]
    },
    {
      "cell_type": "markdown",
      "id": "89ff83ef",
      "metadata": {
        "id": "89ff83ef"
      },
      "source": [
        "**Вычисляем значение ROC-AUC метрики**"
      ]
    },
    {
      "cell_type": "code",
      "execution_count": null,
      "id": "44e1149a",
      "metadata": {
        "id": "44e1149a",
        "outputId": "430af3c1-cd16-4e58-f042-341fb95ed2c9"
      },
      "outputs": [
        {
          "data": {
            "text/plain": [
              "0.9027560070212823"
            ]
          },
          "execution_count": 40,
          "metadata": {},
          "output_type": "execute_result"
        }
      ],
      "source": [
        "auc(fprar, tprar)"
      ]
    },
    {
      "cell_type": "markdown",
      "id": "2548b80f",
      "metadata": {
        "id": "2548b80f"
      },
      "source": [
        "**Модель, исходя из подсчитанных метрик, получилась хорошая. Если убрать виды спорта, получается хуже.\n",
        "(если государства - тоже)  \n",
        "Я политкорретен!**"
      ]
    },
    {
      "cell_type": "markdown",
      "id": "04d36e98",
      "metadata": {
        "id": "04d36e98"
      },
      "source": [
        "**[может ли ROC-кривая проходить ниже диагонали?](https://ru.wikipedia.org/wiki/ROC-%D0%BA%D1%80%D0%B8%D0%B2%D0%B0%D1%8F#:~:text=%D0%9F%D1%80%D0%B8%20%D1%82%D0%B5%D1%85%20%D0%BF%D0%BE%D1%80%D0%BE%D0%B3%D0%BE%D0%B2%D1%8B%D1%85%20t%2C%20%D0%B3%D0%B4%D0%B5%20ROC%2D%D0%BA%D1%80%D0%B8%D0%B2%D0%B0%D1%8F%20%D0%BD%D0%B8%D0%B6%D0%B5%20%D0%B4%D0%B8%D0%B0%D0%B3%D0%BE%D0%BD%D0%B0%D0%BB%D0%B8%201%E2%88%92Spe%20%3D%20Sen%2C%20%D0%BC%D0%BE%D0%B6%D0%BD%D0%BE%20%D0%B8%D0%BD%D0%B2%D0%B5%D1%80%D1%82%D0%B8%D1%80%D0%BE%D0%B2%D0%B0%D1%82%D1%8C%20%D0%BA%D1%80%D0%B8%D1%82%D0%B5%D1%80%D0%B8%D0%B9%20(%D0%B2%D1%81%D1%91%2C%20%D1%87%D1%82%D0%BE%20%D0%BC%D0%B5%D0%BD%D1%8C%D1%88%D0%B5%20t%2C%20%D0%BE%D0%B1%D1%8A%D1%8F%D0%B2%D0%B8%D1%82%D1%8C%20%D0%BF%D0%BE%D0%BB%D0%BE%D0%B6%D0%B8%D1%82%D0%B5%D0%BB%D1%8C%D0%BD%D1%8B%D0%BC)%2C%20%D0%B8%20%D0%BA%D0%BB%D0%B0%D1%81%D1%81%D0%B8%D1%84%D0%B8%D0%BA%D0%B0%D1%82%D0%BE%D1%80%20%D0%B1%D1%83%D0%B4%D0%B5%D1%82%20%D0%B4%D0%B5%D0%B9%D1%81%D1%82%D0%B2%D0%BE%D0%B2%D0%B0%D1%82%D1%8C%20%D0%BB%D1%83%D1%87%D1%88%D0%B5%2C%20%D1%87%D0%B5%D0%BC%20%D0%B8%D0%B7%D0%BD%D0%B0%D1%87%D0%B0%D0%BB%D1%8C%D0%BD%D0%BE%3A%20%D0%BF%D0%BE%D0%B2%D1%8B%D1%88%D0%B0%D0%B5%D1%82%D1%81%D1%8F%20%D0%B8%20%D1%87%D1%83%D0%B2%D1%81%D1%82%D0%B2%D0%B8%D1%82%D0%B5%D0%BB%D1%8C%D0%BD%D0%BE%D1%81%D1%82%D1%8C%2C%20%D0%B8%20%D1%81%D0%BF%D0%B5%D1%86%D0%B8%D1%84%D0%B8%D1%87%D0%BD%D0%BE%D1%81%D1%82%D1%8C.)  \n",
        "При тех пороговых t, где ROC-кривая ниже диагонали 1−Spe = Sen, можно инвертировать критерий (всё, что меньше t, объявить положительным), и классификатор будет действовать лучше, чем изначально: повышается и чувствительность, и специфичность.**"
      ]
    }
  ],
  "metadata": {
    "kernelspec": {
      "display_name": "Python 3 (ipykernel)",
      "language": "python",
      "name": "python3"
    },
    "language_info": {
      "codemirror_mode": {
        "name": "ipython",
        "version": 3
      },
      "file_extension": ".py",
      "mimetype": "text/x-python",
      "name": "python",
      "nbconvert_exporter": "python",
      "pygments_lexer": "ipython3",
      "version": "3.9.13"
    },
    "colab": {
      "provenance": [],
      "include_colab_link": true
    }
  },
  "nbformat": 4,
  "nbformat_minor": 5
}