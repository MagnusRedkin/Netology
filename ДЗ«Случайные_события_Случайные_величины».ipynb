{
  "cells": [
    {
      "cell_type": "markdown",
      "metadata": {
        "id": "view-in-github",
        "colab_type": "text"
      },
      "source": [
        "<a href=\"https://colab.research.google.com/github/MagnusRedkin/Netology/blob/main/%D0%94%D0%97%C2%AB%D0%A1%D0%BB%D1%83%D1%87%D0%B0%D0%B9%D0%BD%D1%8B%D0%B5_%D1%81%D0%BE%D0%B1%D1%8B%D1%82%D0%B8%D1%8F_%D0%A1%D0%BB%D1%83%D1%87%D0%B0%D0%B9%D0%BD%D1%8B%D0%B5_%D0%B2%D0%B5%D0%BB%D0%B8%D1%87%D0%B8%D0%BD%D1%8B%C2%BB.ipynb\" target=\"_parent\"><img src=\"https://colab.research.google.com/assets/colab-badge.svg\" alt=\"Open In Colab\"/></a>"
      ]
    },
    {
      "cell_type": "markdown",
      "metadata": {
        "id": "nXOA4pGqoi7p"
      },
      "source": [
        "## Домашнее задание к лекции «Случайные события. Случайные величины»\n",
        "Смоделировать игру против лотерейного автомата типа “777”. Игрок платит 1 руб., после чего выпадает случайное целое число, равномерно распределенное от 0 до 999. При некоторых значениях числа игрок получает выигрыш.\n",
        "* 777: 200 руб.\n",
        "* 999: 100 руб.\n",
        "* 555: 50 руб.\n",
        "* 333: 15 руб.\n",
        "* 111: 10 руб.\n",
        "* *77: 5 руб.\n",
        "* **7: 3 руб.\n",
        "* *00: 2 руб.\n",
        "* **0: 1 руб.\n",
        "### Вопросы:\n",
        "Выгодна ли игра игроку?\n",
        "Сколько в среднем приобретает или теряет игрок за одну игру?\n",
        "### Дополнительное задание повышенной сложности.\n",
        "Теоретически рассчитать средний выигрыш (проигрыш) и сравнить с результатами моделирования\n",
        "\n",
        "звездочка * – любая цифра"
      ]
    },
    {
      "cell_type": "code",
      "execution_count": null,
      "metadata": {
        "id": "03PXVXtEX8zK"
      },
      "outputs": [],
      "source": [
        "import numpy as np\n",
        "prize = {\n",
        "    777: 200,\n",
        "    999: 100,\n",
        "    555: 50,\n",
        "    333: 15,\n",
        "    111: 10\n",
        "}\n",
        "\n",
        "def prize_win(arg):\n",
        "    if arg % 100 == 0:\n",
        "        return 2\n",
        "    elif arg % 100 == 77:\n",
        "        return 5\n",
        "    elif arg % 10 == 0:\n",
        "        return 1\n",
        "    elif arg % 10 == 7:\n",
        "        return 3\n",
        "    return 0"
      ]
    },
    {
      "cell_type": "code",
      "execution_count": null,
      "metadata": {
        "id": "cV_uSDZGX8zL"
      },
      "outputs": [],
      "source": [
        "games_quantity = 1_000_000\n",
        "winning = 0\n",
        "for i in np.random.randint(0, 1000, games_quantity):\n",
        "    if i in prize:\n",
        "        winning += prize[i]\n",
        "    elif tail := prize_win(i):\n",
        "        winning += tail"
      ]
    },
    {
      "cell_type": "code",
      "execution_count": null,
      "metadata": {
        "id": "EZouarqYX8zM",
        "outputId": "597002b0-0e8f-41d1-e19a-4c1bb39a1dc4"
      },
      "outputs": [
        {
          "name": "stdout",
          "output_type": "stream",
          "text": [
            "Выигрш составил: -200690 рублей\n",
            "у Вас осталось: 0.79931 от первоначальной суммы\n"
          ]
        }
      ],
      "source": [
        "print('Выигрш составил:', winning - games_quantity, 'рублей')\n",
        "print('у Вас осталось:', winning/games_quantity, 'от первоначальной суммы')"
      ]
    },
    {
      "cell_type": "markdown",
      "metadata": {
        "id": "sVW9myHCX8zN"
      },
      "source": [
        "В среднем за одну игру игрок теряет 20 копеек. Игра выгодна, так как в других играх можно потерять больше чем поставил.\n",
        "### Найдём средний возможный выигрыш."
      ]
    },
    {
      "cell_type": "code",
      "execution_count": null,
      "metadata": {
        "id": "YQLNArYcX8zN",
        "outputId": "535c39f9-6b6f-4b20-d1f8-ffe7dd5c2da3"
      },
      "outputs": [
        {
          "data": {
            "text/plain": [
              "0.8"
            ]
          },
          "execution_count": 4,
          "metadata": {},
          "output_type": "execute_result"
        }
      ],
      "source": [
        "(1/1000*200       # число 777\n",
        " +1/1000*100      # число 999\n",
        " +1/1000*50       # число 555\n",
        " +1/1000*15       # число 333\n",
        " +1/1000*10       # число 111\n",
        " +1/100*2         # числа *00\n",
        " +9/1000*5        # числа *77, 9 на тысячу, так как 777 уже задействовано.\n",
        " +9/100*3         # числа **7  9 на сотню, так как *77 уже нет.\n",
        " +9/100*1)        # числа **0  9 на сотню, так как *00 кончились."
      ]
    },
    {
      "cell_type": "markdown",
      "source": [
        "Результат моделирования близок к матожиданию, хотя для миллиона результат мог быть и лучше. Покуда генераторы псевдослучайных чисел имеют свойство вырождаться, скорее всего мы это и наблюдаем."
      ],
      "metadata": {
        "id": "0mso4rZ3YFc9"
      }
    }
  ],
  "metadata": {
    "colab": {
      "provenance": [],
      "include_colab_link": true
    },
    "kernelspec": {
      "display_name": "Python 3 (ipykernel)",
      "language": "python",
      "name": "python3"
    },
    "language_info": {
      "codemirror_mode": {
        "name": "ipython",
        "version": 3
      },
      "file_extension": ".py",
      "mimetype": "text/x-python",
      "name": "python",
      "nbconvert_exporter": "python",
      "pygments_lexer": "ipython3",
      "version": "3.10.12"
    }
  },
  "nbformat": 4,
  "nbformat_minor": 0
}