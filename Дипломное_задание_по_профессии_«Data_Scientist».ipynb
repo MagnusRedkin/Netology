{
  "cells": [
    {
      "cell_type": "markdown",
      "metadata": {
        "id": "view-in-github",
        "colab_type": "text"
      },
      "source": [
        "<a href=\"https://colab.research.google.com/github/MagnusRedkin/Netology/blob/main/%D0%94%D0%B8%D0%BF%D0%BB%D0%BE%D0%BC%D0%BD%D0%BE%D0%B5_%D0%B7%D0%B0%D0%B4%D0%B0%D0%BD%D0%B8%D0%B5_%D0%BF%D0%BE_%D0%BF%D1%80%D0%BE%D1%84%D0%B5%D1%81%D1%81%D0%B8%D0%B8_%C2%ABData_Scientist%C2%BB.ipynb\" target=\"_parent\"><img src=\"https://colab.research.google.com/assets/colab-badge.svg\" alt=\"Open In Colab\"/></a>"
      ]
    },
    {
      "cell_type": "markdown",
      "metadata": {
        "id": "-hBNioKh6fH5"
      },
      "source": [
        "https://bit.ly/DIP-DSR-CP"
      ]
    },
    {
      "cell_type": "markdown",
      "metadata": {
        "id": "zFioMVP0F17y"
      },
      "source": [
        "## Описание задания\n",
        "\n",
        "Поздравляем! Вы попали на стажировку в одно из подразделений группы компаний, Вы — аналитик крупного агрегатора такси. Теперь перед вами стоит важная задача: самостоятельно провести исследование данных, проверить гипотезу о поведенческом предпочтении пользователей к определённому классу такси и сделать выводы, чтобы помочь компании стать лучшей на рынке. Успехов!"
      ]
    },
    {
      "cell_type": "markdown",
      "metadata": {
        "id": "Y4inXHT2CMEI"
      },
      "source": [
        "### Загрузите файл dip_hw_x_taxi.csv в pandas dataframe\n",
        "\n"
      ]
    },
    {
      "cell_type": "code",
      "execution_count": null,
      "metadata": {
        "colab": {
          "base_uri": "https://localhost:8080/",
          "height": 206
        },
        "id": "FlWtJcpBCXvg",
        "outputId": "b40ed17c-bbb2-4bb3-ee91-2e846900b50b"
      },
      "outputs": [
        {
          "data": {
            "text/html": [
              "<div>\n",
              "<style scoped>\n",
              "    .dataframe tbody tr th:only-of-type {\n",
              "        vertical-align: middle;\n",
              "    }\n",
              "\n",
              "    .dataframe tbody tr th {\n",
              "        vertical-align: top;\n",
              "    }\n",
              "\n",
              "    .dataframe thead th {\n",
              "        text-align: right;\n",
              "    }\n",
              "</style>\n",
              "<table border=\"1\" class=\"dataframe\">\n",
              "  <thead>\n",
              "    <tr style=\"text-align: right;\">\n",
              "      <th></th>\n",
              "      <th>order_gk</th>\n",
              "      <th>weekday_key</th>\n",
              "      <th>hour_key</th>\n",
              "      <th>distance_km</th>\n",
              "      <th>offer_class_group</th>\n",
              "      <th>driver_response</th>\n",
              "    </tr>\n",
              "  </thead>\n",
              "  <tbody>\n",
              "    <tr>\n",
              "      <th>0</th>\n",
              "      <td>412</td>\n",
              "      <td>7</td>\n",
              "      <td>23</td>\n",
              "      <td>53.114</td>\n",
              "      <td>Premium</td>\n",
              "      <td>1</td>\n",
              "    </tr>\n",
              "    <tr>\n",
              "      <th>1</th>\n",
              "      <td>436</td>\n",
              "      <td>3</td>\n",
              "      <td>10</td>\n",
              "      <td>5.781</td>\n",
              "      <td>Delivery</td>\n",
              "      <td>1</td>\n",
              "    </tr>\n",
              "    <tr>\n",
              "      <th>2</th>\n",
              "      <td>1327</td>\n",
              "      <td>6</td>\n",
              "      <td>19</td>\n",
              "      <td>16.200</td>\n",
              "      <td>Delivery</td>\n",
              "      <td>0</td>\n",
              "    </tr>\n",
              "    <tr>\n",
              "      <th>3</th>\n",
              "      <td>2013</td>\n",
              "      <td>2</td>\n",
              "      <td>2</td>\n",
              "      <td>13.732</td>\n",
              "      <td>Delivery</td>\n",
              "      <td>0</td>\n",
              "    </tr>\n",
              "    <tr>\n",
              "      <th>4</th>\n",
              "      <td>2241</td>\n",
              "      <td>6</td>\n",
              "      <td>3</td>\n",
              "      <td>20.436</td>\n",
              "      <td>Premium</td>\n",
              "      <td>1</td>\n",
              "    </tr>\n",
              "  </tbody>\n",
              "</table>\n",
              "</div>"
            ],
            "text/plain": [
              "   order_gk  weekday_key  hour_key  distance_km offer_class_group  \\\n",
              "0       412            7        23       53.114           Premium   \n",
              "1       436            3        10        5.781          Delivery   \n",
              "2      1327            6        19       16.200          Delivery   \n",
              "3      2013            2         2       13.732          Delivery   \n",
              "4      2241            6         3       20.436           Premium   \n",
              "\n",
              "   driver_response  \n",
              "0                1  \n",
              "1                1  \n",
              "2                0  \n",
              "3                0  \n",
              "4                1  "
            ]
          },
          "execution_count": 1,
          "metadata": {},
          "output_type": "execute_result"
        }
      ],
      "source": [
        "import pandas as pd\n",
        "\n",
        "df = pd.read_csv('https://u.netology.ru/backend/uploads/lms/attachments/files/data/51885/dip_hw_x_taxi.csv')\n",
        "df.head()"
      ]
    },
    {
      "cell_type": "markdown",
      "metadata": {
        "id": "CtmzyzYMCOWK"
      },
      "source": [
        "### Рассчитайте основные описательные статистики\n",
        "(среднее, минимум, 25-50-75-персентили, максимум)\n"
      ]
    },
    {
      "cell_type": "code",
      "execution_count": null,
      "metadata": {
        "colab": {
          "base_uri": "https://localhost:8080/",
          "height": 300
        },
        "id": "e5OAjlZxCOQS",
        "outputId": "e3714bb7-a57b-4333-95fc-619c09a38dcb"
      },
      "outputs": [
        {
          "data": {
            "text/html": [
              "<div>\n",
              "<style scoped>\n",
              "    .dataframe tbody tr th:only-of-type {\n",
              "        vertical-align: middle;\n",
              "    }\n",
              "\n",
              "    .dataframe tbody tr th {\n",
              "        vertical-align: top;\n",
              "    }\n",
              "\n",
              "    .dataframe thead th {\n",
              "        text-align: right;\n",
              "    }\n",
              "</style>\n",
              "<table border=\"1\" class=\"dataframe\">\n",
              "  <thead>\n",
              "    <tr style=\"text-align: right;\">\n",
              "      <th></th>\n",
              "      <th>order_gk</th>\n",
              "      <th>weekday_key</th>\n",
              "      <th>hour_key</th>\n",
              "      <th>distance_km</th>\n",
              "      <th>driver_response</th>\n",
              "    </tr>\n",
              "  </thead>\n",
              "  <tbody>\n",
              "    <tr>\n",
              "      <th>count</th>\n",
              "      <td>2000.000000</td>\n",
              "      <td>2000.000000</td>\n",
              "      <td>2000.000000</td>\n",
              "      <td>2000.000000</td>\n",
              "      <td>2000.000000</td>\n",
              "    </tr>\n",
              "    <tr>\n",
              "      <th>mean</th>\n",
              "      <td>462807.384000</td>\n",
              "      <td>4.044000</td>\n",
              "      <td>11.608500</td>\n",
              "      <td>26.275848</td>\n",
              "      <td>0.587000</td>\n",
              "    </tr>\n",
              "    <tr>\n",
              "      <th>std</th>\n",
              "      <td>270556.211847</td>\n",
              "      <td>2.007256</td>\n",
              "      <td>6.918465</td>\n",
              "      <td>18.876336</td>\n",
              "      <td>0.492496</td>\n",
              "    </tr>\n",
              "    <tr>\n",
              "      <th>min</th>\n",
              "      <td>412.000000</td>\n",
              "      <td>1.000000</td>\n",
              "      <td>0.000000</td>\n",
              "      <td>0.024000</td>\n",
              "      <td>0.000000</td>\n",
              "    </tr>\n",
              "    <tr>\n",
              "      <th>25%</th>\n",
              "      <td>227126.500000</td>\n",
              "      <td>2.000000</td>\n",
              "      <td>6.000000</td>\n",
              "      <td>12.177000</td>\n",
              "      <td>0.000000</td>\n",
              "    </tr>\n",
              "    <tr>\n",
              "      <th>50%</th>\n",
              "      <td>458637.000000</td>\n",
              "      <td>4.000000</td>\n",
              "      <td>12.000000</td>\n",
              "      <td>22.828500</td>\n",
              "      <td>1.000000</td>\n",
              "    </tr>\n",
              "    <tr>\n",
              "      <th>75%</th>\n",
              "      <td>709420.250000</td>\n",
              "      <td>6.000000</td>\n",
              "      <td>18.000000</td>\n",
              "      <td>36.434250</td>\n",
              "      <td>1.000000</td>\n",
              "    </tr>\n",
              "    <tr>\n",
              "      <th>max</th>\n",
              "      <td>919196.000000</td>\n",
              "      <td>7.000000</td>\n",
              "      <td>23.000000</td>\n",
              "      <td>138.950000</td>\n",
              "      <td>1.000000</td>\n",
              "    </tr>\n",
              "  </tbody>\n",
              "</table>\n",
              "</div>"
            ],
            "text/plain": [
              "            order_gk  weekday_key     hour_key  distance_km  driver_response\n",
              "count    2000.000000  2000.000000  2000.000000  2000.000000      2000.000000\n",
              "mean   462807.384000     4.044000    11.608500    26.275848         0.587000\n",
              "std    270556.211847     2.007256     6.918465    18.876336         0.492496\n",
              "min       412.000000     1.000000     0.000000     0.024000         0.000000\n",
              "25%    227126.500000     2.000000     6.000000    12.177000         0.000000\n",
              "50%    458637.000000     4.000000    12.000000    22.828500         1.000000\n",
              "75%    709420.250000     6.000000    18.000000    36.434250         1.000000\n",
              "max    919196.000000     7.000000    23.000000   138.950000         1.000000"
            ]
          },
          "execution_count": 2,
          "metadata": {},
          "output_type": "execute_result"
        }
      ],
      "source": [
        "df.describe()"
      ]
    },
    {
      "cell_type": "markdown",
      "metadata": {
        "id": "Fo7TvxCFCOJt"
      },
      "source": [
        "### Вычислите количество значений по классам такси\n",
        "\n"
      ]
    },
    {
      "cell_type": "code",
      "execution_count": null,
      "metadata": {
        "colab": {
          "base_uri": "https://localhost:8080/"
        },
        "id": "JHd5xeAXCjkD",
        "outputId": "5587f827-e603-4981-a716-85d5b6fd84a7"
      },
      "outputs": [
        {
          "data": {
            "text/plain": [
              "Premium     500\n",
              "Delivery    500\n",
              "Comfort     500\n",
              "Economy     500\n",
              "Name: offer_class_group, dtype: int64"
            ]
          },
          "execution_count": 3,
          "metadata": {},
          "output_type": "execute_result"
        }
      ],
      "source": [
        "df['offer_class_group'].value_counts()"
      ]
    },
    {
      "cell_type": "markdown",
      "metadata": {
        "id": "yC7YFvZfCOCG"
      },
      "source": [
        "### Визуализируйте распределение дистанций поездок\n",
        "\n"
      ]
    },
    {
      "cell_type": "code",
      "execution_count": null,
      "metadata": {
        "colab": {
          "base_uri": "https://localhost:8080/",
          "height": 430
        },
        "id": "_dpWasVpCkMK",
        "outputId": "9f1b89d1-c736-424c-9680-fe8d9891e87c"
      },
      "outputs": [
        {
          "data": {
            "image/png": "[encoded data removed]",
            "text/plain": [
              "<Figure size 640x480 with 1 Axes>"
            ]
          },
          "metadata": {},
          "output_type": "display_data"
        }
      ],
      "source": [
        "df['distance_km'].plot(kind='hist', bins=100);"
      ]
    },
    {
      "cell_type": "markdown",
      "metadata": {
        "id": "QMqrMoEOCkZO"
      },
      "source": [
        "### Визуализируйте распределения дистанций поездок, по каждому классу такси в отдельности, а также определите типы распределений для эконом-класса и комфорт-класса\n",
        "\n"
      ]
    },
    {
      "cell_type": "code",
      "execution_count": null,
      "metadata": {
        "id": "HGYthgJdDcn6"
      },
      "outputs": [],
      "source": [
        "import matplotlib.pyplot as plt"
      ]
    },
    {
      "cell_type": "code",
      "execution_count": null,
      "metadata": {
        "colab": {
          "base_uri": "https://localhost:8080/",
          "height": 1000
        },
        "id": "Z9D7uVfwCm2O",
        "outputId": "b8d369ba-f2c4-4001-c055-3be2af6239b9"
      },
      "outputs": [
        {
          "data": {
            "image/png": "[encoded data removed]",
            "text/plain": [
              "<Figure size 640x480 with 1 Axes>"
            ]
          },
          "metadata": {},
          "output_type": "display_data"
        },
        {
          "data": {
            "image/png": "[encoded data removed]",
            "text/plain": [
              "<Figure size 640x480 with 1 Axes>"
            ]
          },
          "metadata": {},
          "output_type": "display_data"
        },
        {
          "data": {
            "image/png": "[encoded data removed]",
            "text/plain": [
              "<Figure size 640x480 with 1 Axes>"
            ]
          },
          "metadata": {},
          "output_type": "display_data"
        },
        {
          "data": {
            "image/png": "[encoded data removed]",
            "text/plain": [
              "<Figure size 640x480 with 1 Axes>"
            ]
          },
          "metadata": {},
          "output_type": "display_data"
        }
      ],
      "source": [
        "for x in df['offer_class_group'].unique():\n",
        "    plt.figure()\n",
        "    df[df['offer_class_group'] == x]['distance_km'].plot(kind='hist', bins=100)\n",
        "    plt.title(x)"
      ]
    },
    {
      "cell_type": "markdown",
      "metadata": {
        "id": "HBuEGQFoC3P9"
      },
      "source": [
        "### Сформируйте выборки по эконом и комфорт-классам. Визуализируйте пересечение интервалов дистанций этих классов (примечание: поможет функция sns.distplot)\n",
        "\n"
      ]
    },
    {
      "cell_type": "code",
      "execution_count": null,
      "metadata": {
        "colab": {
          "base_uri": "https://localhost:8080/",
          "height": 506
        },
        "id": "xt68cBylErg6",
        "outputId": "b5d50eef-bdf2-42b7-a521-31b0c2d43463"
      },
      "outputs": [
        {
          "data": {
            "image/png": "[encoded data removed]",
            "text/plain": [
              "<Figure size 632.736x500 with 1 Axes>"
            ]
          },
          "metadata": {},
          "output_type": "display_data"
        }
      ],
      "source": [
        "import seaborn as sns\n",
        "sns.displot(data=df[df.offer_class_group.isin(['Economy', 'Comfort'])],\n",
        "            x='distance_km',\n",
        "            hue='offer_class_group',\n",
        "            kind='kde');"
      ]
    },
    {
      "cell_type": "markdown",
      "metadata": {
        "id": "FxbGwDYkC4YZ"
      },
      "source": [
        "### Проведите стат. тест (поможет: функция scipy.stats.ttest_ind), проверьте гипотезу, что дистанции поездок в комфорт-классе отличаются от дистанций поездок эконом-класса (примечание: H0 – выборки не отличаются, H1 – выборки отличны; уровень значимости = 5%)\n",
        "\n"
      ]
    },
    {
      "cell_type": "code",
      "execution_count": null,
      "metadata": {
        "id": "g_IvM9tIC6MT"
      },
      "outputs": [],
      "source": [
        "from scipy.stats import ttest_ind\n",
        "\n",
        "econ = df[df['offer_class_group'] == 'Economy']\n",
        "comf = df[df['offer_class_group'] == 'Comfort']"
      ]
    },
    {
      "cell_type": "code",
      "execution_count": null,
      "metadata": {
        "colab": {
          "base_uri": "https://localhost:8080/"
        },
        "id": "MJxsQOasFSVr",
        "outputId": "f7a4cb77-81fb-4804-f5e6-94f2194ac28b"
      },
      "outputs": [
        {
          "data": {
            "text/plain": [
              "(-3.1706426042389815, 0.0015673809987275479)"
            ]
          },
          "execution_count": 9,
          "metadata": {},
          "output_type": "execute_result"
        }
      ],
      "source": [
        "t, p_value = ttest_ind(econ['distance_km'], comf['distance_km'])\n",
        "t, p_value"
      ]
    },
    {
      "cell_type": "markdown",
      "metadata": {
        "id": "jVDaVwLjC6hT"
      },
      "source": [
        "### Сделайте выводы по результатам проведения стат. теста\n",
        "\n"
      ]
    },
    {
      "cell_type": "markdown",
      "metadata": {
        "id": "w3pEEdqDC8GZ"
      },
      "source": [
        "pvalue = 0.001, что меньше уровня значимости 0.05, это говорит о том, что нулевую гипотезу можем отклонить, то есть среднее двух распределений различны и это статистически значимо."
      ]
    },
    {
      "cell_type": "markdown",
      "metadata": {
        "id": "m-n0EMD5DEwt"
      },
      "source": [
        "### Вычислите средние выборок исследуемых классов, с учётом полученного результата проверки гипотез определите – какой из классов предпочитают на дальние поездки (эконом или комфорт)\n",
        "\n"
      ]
    },
    {
      "cell_type": "code",
      "execution_count": null,
      "metadata": {
        "colab": {
          "base_uri": "https://localhost:8080/"
        },
        "id": "iyzUvZ87DF3r",
        "outputId": "6503d3b0-5c9e-44a5-cbea-9f6d99221863"
      },
      "outputs": [
        {
          "data": {
            "text/plain": [
              "26.283097999999978"
            ]
          },
          "execution_count": 10,
          "metadata": {},
          "output_type": "execute_result"
        }
      ],
      "source": [
        "econ['distance_km'].mean()"
      ]
    },
    {
      "cell_type": "code",
      "execution_count": null,
      "metadata": {
        "colab": {
          "base_uri": "https://localhost:8080/"
        },
        "id": "lW4cEMFvFv9i",
        "outputId": "2737a0a4-c3f5-47ef-a6f3-2f6cd8d2854d"
      },
      "outputs": [
        {
          "data": {
            "text/plain": [
              "29.758915999999985"
            ]
          },
          "execution_count": 11,
          "metadata": {},
          "output_type": "execute_result"
        }
      ],
      "source": [
        "comf['distance_km'].mean()"
      ]
    },
    {
      "cell_type": "markdown",
      "metadata": {
        "id": "KZdd8uoEDGJO"
      },
      "source": [
        "## Дополнительное задание*\n",
        "\n",
        "Вы справились с исследованием данных! Ваша стажировка продолжается, в мире произошли непредвиденные события — пандемия COVID-19. Вам доверена срочная задача. Чтобы сформировать понимание о стратегии компании, необходимо определить возможные сценарии дальнейшего развития событий."
      ]
    },
    {
      "cell_type": "markdown",
      "metadata": {
        "id": "P8ziaVv-F7SQ"
      },
      "source": [
        "### Загрузите файл dip_hw_covid.csv в pandas dataframe\n",
        "\n"
      ]
    },
    {
      "cell_type": "code",
      "execution_count": null,
      "metadata": {
        "colab": {
          "base_uri": "https://localhost:8080/"
        },
        "id": "k3czmDUzHIL8",
        "outputId": "be32dadd-6613-4158-c0eb-a745c8fad177"
      },
      "outputs": [
        {
          "data": {
            "text/html": [
              "<div>\n",
              "<style scoped>\n",
              "    .dataframe tbody tr th:only-of-type {\n",
              "        vertical-align: middle;\n",
              "    }\n",
              "\n",
              "    .dataframe tbody tr th {\n",
              "        vertical-align: top;\n",
              "    }\n",
              "\n",
              "    .dataframe thead th {\n",
              "        text-align: right;\n",
              "    }\n",
              "</style>\n",
              "<table border=\"1\" class=\"dataframe\">\n",
              "  <thead>\n",
              "    <tr style=\"text-align: right;\">\n",
              "      <th></th>\n",
              "      <th>date</th>\n",
              "      <th>country</th>\n",
              "      <th>confirmed</th>\n",
              "      <th>deaths</th>\n",
              "    </tr>\n",
              "  </thead>\n",
              "  <tbody>\n",
              "    <tr>\n",
              "      <th>0</th>\n",
              "      <td>2020-01-22 00:00:00</td>\n",
              "      <td>Russia</td>\n",
              "      <td>0.0</td>\n",
              "      <td>0.0</td>\n",
              "    </tr>\n",
              "    <tr>\n",
              "      <th>1</th>\n",
              "      <td>2020-01-22 00:00:00</td>\n",
              "      <td>US</td>\n",
              "      <td>1.0</td>\n",
              "      <td>0.0</td>\n",
              "    </tr>\n",
              "    <tr>\n",
              "      <th>2</th>\n",
              "      <td>2020-01-23 00:00:00</td>\n",
              "      <td>Russia</td>\n",
              "      <td>0.0</td>\n",
              "      <td>0.0</td>\n",
              "    </tr>\n",
              "    <tr>\n",
              "      <th>3</th>\n",
              "      <td>2020-01-23 00:00:00</td>\n",
              "      <td>US</td>\n",
              "      <td>1.0</td>\n",
              "      <td>0.0</td>\n",
              "    </tr>\n",
              "    <tr>\n",
              "      <th>4</th>\n",
              "      <td>2020-01-24 00:00:00</td>\n",
              "      <td>Russia</td>\n",
              "      <td>0.0</td>\n",
              "      <td>0.0</td>\n",
              "    </tr>\n",
              "  </tbody>\n",
              "</table>\n",
              "</div>"
            ],
            "text/plain": [
              "                  date country  confirmed  deaths\n",
              "0  2020-01-22 00:00:00  Russia        0.0     0.0\n",
              "1  2020-01-22 00:00:00      US        1.0     0.0\n",
              "2  2020-01-23 00:00:00  Russia        0.0     0.0\n",
              "3  2020-01-23 00:00:00      US        1.0     0.0\n",
              "4  2020-01-24 00:00:00  Russia        0.0     0.0"
            ]
          },
          "execution_count": 12,
          "metadata": {},
          "output_type": "execute_result"
        }
      ],
      "source": [
        "df = pd.read_csv('https://u.netology.ru/backend/uploads/lms/attachments/files/data/51888/dip_hw_covid.csv')\n",
        "df.head()"
      ]
    },
    {
      "cell_type": "markdown",
      "metadata": {
        "id": "94-pajw6HGjV"
      },
      "source": [
        "### Исследуйте данные:\n",
        "\n",
        "- Рассчитайте коэффициент корреляции между заболеваемостью и смертностью\n",
        "\n",
        "\n"
      ]
    },
    {
      "cell_type": "code",
      "execution_count": null,
      "metadata": {
        "colab": {
          "base_uri": "https://localhost:8080/",
          "height": 167
        },
        "id": "BJPfLYk3HJ9f",
        "outputId": "8e263167-87ae-4352-8aa8-8e04207f083d"
      },
      "outputs": [
        {
          "data": {
            "text/html": [
              "<div>\n",
              "<style scoped>\n",
              "    .dataframe tbody tr th:only-of-type {\n",
              "        vertical-align: middle;\n",
              "    }\n",
              "\n",
              "    .dataframe tbody tr th {\n",
              "        vertical-align: top;\n",
              "    }\n",
              "\n",
              "    .dataframe thead th {\n",
              "        text-align: right;\n",
              "    }\n",
              "</style>\n",
              "<table border=\"1\" class=\"dataframe\">\n",
              "  <thead>\n",
              "    <tr style=\"text-align: right;\">\n",
              "      <th></th>\n",
              "      <th>confirmed</th>\n",
              "      <th>deaths</th>\n",
              "    </tr>\n",
              "  </thead>\n",
              "  <tbody>\n",
              "    <tr>\n",
              "      <th>confirmed</th>\n",
              "      <td>1.000000</td>\n",
              "      <td>0.989836</td>\n",
              "    </tr>\n",
              "    <tr>\n",
              "      <th>deaths</th>\n",
              "      <td>0.989836</td>\n",
              "      <td>1.000000</td>\n",
              "    </tr>\n",
              "  </tbody>\n",
              "</table>\n",
              "</div>"
            ],
            "text/plain": [
              "           confirmed    deaths\n",
              "confirmed   1.000000  0.989836\n",
              "deaths      0.989836  1.000000"
            ]
          },
          "execution_count": 13,
          "metadata": {},
          "output_type": "execute_result"
        }
      ],
      "source": [
        "df.corr()"
      ]
    },
    {
      "cell_type": "markdown",
      "metadata": {
        "id": "SXIuULF8Hy72"
      },
      "source": [
        "- Визуализируйте динамики заболеваемости и смертности по доступным странам в отдельности, сравните характер распространения"
      ]
    },
    {
      "cell_type": "code",
      "execution_count": null,
      "metadata": {
        "colab": {
          "base_uri": "https://localhost:8080/"
        },
        "id": "dbg0YF8EHznF",
        "outputId": "d89dd0ad-b2ed-48b2-e605-fd4df8dd8629"
      },
      "outputs": [
        {
          "data": {
            "text/plain": [
              "Russia    558\n",
              "US        558\n",
              "Name: country, dtype: int64"
            ]
          },
          "execution_count": 14,
          "metadata": {},
          "output_type": "execute_result"
        }
      ],
      "source": [
        "df['country'].value_counts()"
      ]
    },
    {
      "cell_type": "code",
      "execution_count": null,
      "metadata": {
        "colab": {
          "base_uri": "https://localhost:8080/",
          "height": 472
        },
        "id": "0Oe-NdN3IaHx",
        "outputId": "963e87e6-460d-4339-809b-b4b98cc0964a"
      },
      "outputs": [
        {
          "data": {
            "image/png": "[encoded data removed]",
            "text/plain": [
              "<Figure size 640x480 with 1 Axes>"
            ]
          },
          "metadata": {},
          "output_type": "display_data"
        }
      ],
      "source": [
        "rus = df[df['country'] == 'Russia']\n",
        "plt.plot(rus['confirmed'], label='confirmed')\n",
        "plt.plot(rus['deaths'], label='deaths')\n",
        "plt.legend()\n",
        "plt.title('Russia')\n",
        "plt.xlabel('days');"
      ]
    },
    {
      "cell_type": "code",
      "execution_count": null,
      "metadata": {
        "colab": {
          "base_uri": "https://localhost:8080/",
          "height": 472
        },
        "id": "OrDTFw_PIw47",
        "outputId": "4de2fbc1-c2af-4957-c7dd-40dd4955eaa8"
      },
      "outputs": [
        {
          "data": {
            "image/png": "[encoded data removed]",
            "text/plain": [
              "<Figure size 640x480 with 1 Axes>"
            ]
          },
          "metadata": {},
          "output_type": "display_data"
        }
      ],
      "source": [
        "us = df[df['country'] == 'US']\n",
        "plt.plot(us['confirmed'], label='confirmed')\n",
        "plt.plot(us['deaths'], label='deaths')\n",
        "plt.legend()\n",
        "plt.title('US')\n",
        "plt.xlabel('days');"
      ]
    },
    {
      "cell_type": "markdown",
      "metadata": {
        "id": "I7E2rOipHLh2"
      },
      "source": [
        "### Постройте модель линейной регрессии по смертям от заболеваемости\n",
        "и вычислите прогноз количества смертей в России для 25 000 000 случаев заражений\n",
        "\n",
        "примечание:\n",
        "- сформируйте выборку по России\n",
        "- выделите признак и целевую переменную [используем 100% данных для обучения]\n",
        "- постройте прогноз смертей для 25 000 000 заболевших [поможет метод predict]\n",
        "- сделайте выводы по полученному прогнозу\n",
        "\n"
      ]
    },
    {
      "cell_type": "code",
      "execution_count": null,
      "metadata": {
        "id": "2ehgY0SXHNSN"
      },
      "outputs": [],
      "source": [
        "X = rus[['confirmed']]\n",
        "y = rus['deaths']"
      ]
    },
    {
      "cell_type": "code",
      "execution_count": null,
      "metadata": {
        "colab": {
          "base_uri": "https://localhost:8080/",
          "height": 448
        },
        "id": "lrM-SQ89KJXJ",
        "outputId": "9ce86d1a-118f-4eaa-ea79-7c7e96f10e4f"
      },
      "outputs": [
        {
          "data": {
            "image/png": "[encoded data removed]",
            "text/plain": [
              "<Figure size 640x480 with 1 Axes>"
            ]
          },
          "metadata": {},
          "output_type": "display_data"
        }
      ],
      "source": [
        "plt.scatter(X, y, label='train data')\n",
        "plt.legend();"
      ]
    },
    {
      "cell_type": "code",
      "execution_count": null,
      "metadata": {
        "colab": {
          "base_uri": "https://localhost:8080/",
          "height": 75
        },
        "id": "PVi6z06vKIhI",
        "outputId": "c35461a6-8a69-4c90-f87d-cafe4d4bb128"
      },
      "outputs": [
        {
          "data": {
            "text/plain": [
              "LinearRegression()"
            ]
          },
          "execution_count": 19,
          "metadata": {},
          "output_type": "execute_result"
        }
      ],
      "source": [
        "from sklearn.linear_model import LinearRegression\n",
        "\n",
        "lr = LinearRegression()\n",
        "lr.fit(X, y)"
      ]
    },
    {
      "cell_type": "code",
      "execution_count": null,
      "metadata": {
        "colab": {
          "base_uri": "https://localhost:8080/"
        },
        "id": "6kGqGp84JCm4",
        "outputId": "20424ea5-9415-4c88-c6ba-a27fb0bf4ad7"
      },
      "outputs": [
        {
          "name": "stderr",
          "output_type": "stream",
          "text": [
            "D:\\Users\\Magnus\\anaconda3\\lib\\site-packages\\sklearn\\base.py:450: UserWarning: X does not have valid feature names, but LinearRegression was fitted with feature names\n",
            "  warnings.warn(\n"
          ]
        },
        {
          "data": {
            "text/plain": [
              "array([582420.3846451])"
            ]
          },
          "execution_count": 20,
          "metadata": {},
          "output_type": "execute_result"
        }
      ],
      "source": [
        "import numpy as np\n",
        "\n",
        "test_X = np.array([[25_000_000]])\n",
        "pred = lr.predict(test_X)\n",
        "pred"
      ]
    },
    {
      "cell_type": "code",
      "execution_count": null,
      "metadata": {
        "colab": {
          "base_uri": "https://localhost:8080/",
          "height": 448
        },
        "id": "UVTrQOvrJqel",
        "outputId": "b25b0463-ae74-44d3-c998-bc40c5643920"
      },
      "outputs": [
        {
          "data": {
            "image/png": "[encoded data removed]",
            "text/plain": [
              "<Figure size 640x480 with 1 Axes>"
            ]
          },
          "metadata": {},
          "output_type": "display_data"
        }
      ],
      "source": [
        "plt.scatter(X, y, label='train data')\n",
        "plt.scatter(test_X, pred, label='pred')\n",
        "plt.legend();"
      ]
    },
    {
      "cell_type": "code",
      "execution_count": null,
      "metadata": {
        "colab": {
          "base_uri": "https://localhost:8080/",
          "height": 448
        },
        "id": "TBNjHEpfJ8rc",
        "outputId": "487f694a-326e-4ef9-9aa6-197f4fc0b096"
      },
      "outputs": [
        {
          "data": {
            "image/png": "[encoded data removed]",
            "text/plain": [
              "<Figure size 640x480 with 1 Axes>"
            ]
          },
          "metadata": {},
          "output_type": "display_data"
        }
      ],
      "source": [
        "a = lr.coef_[0]\n",
        "b = lr.intercept_\n",
        "\n",
        "line_x = np.linspace(0, 25_000_000)\n",
        "line_y = a * line_x + b\n",
        "\n",
        "plt.scatter(X, y, label='train data');\n",
        "plt.scatter(test_X, pred, label='pred')\n",
        "plt.plot(line_x, line_y, c='r', label='linear reg')\n",
        "plt.legend();"
      ]
    },
    {
      "cell_type": "markdown",
      "metadata": {
        "id": "vrYC6J5XKso1"
      },
      "source": [
        "## Дополнительное задание**:\n",
        "\n",
        "Вы исследовали данные компании! Но у инфраструктурного отдела произошли неполадки, возникло подозрение о сбое работы логики записи состоявшихся поездок. Вам доверена задача проверить наличие ошибок в имеющихся данных, чтобы удостовериться в корректности сделанных выводов и помочь коллегам.\n"
      ]
    },
    {
      "cell_type": "markdown",
      "metadata": {
        "id": "DXusLsttLKuR"
      },
      "source": [
        "### Загрузите файл dip_db_check_taxi.csv (содержит случайный семпл данных заказанных поездок) в pandas dataframe\n",
        "\n",
        "проверьте предположение компании о нарушении работы базы данных (фантомном задвоении фиксации заказов такси)\n",
        "- для этого постройте коллаборативную фильтрацию по идентификаторам поездок для определения наиболее похожих/идентичных записей\n",
        "- после, удалите дубликаты получившихся пар и сделайте выводы о наличии задвоений и корректности работы базы.\n",
        "\n"
      ]
    },
    {
      "cell_type": "code",
      "execution_count": null,
      "metadata": {
        "colab": {
          "base_uri": "https://localhost:8080/",
          "height": 206
        },
        "id": "RnblKx41LW_r",
        "outputId": "4ffbca5d-f15b-42cf-ed8f-287d5b3f9eec"
      },
      "outputs": [
        {
          "data": {
            "text/html": [
              "<div>\n",
              "<style scoped>\n",
              "    .dataframe tbody tr th:only-of-type {\n",
              "        vertical-align: middle;\n",
              "    }\n",
              "\n",
              "    .dataframe tbody tr th {\n",
              "        vertical-align: top;\n",
              "    }\n",
              "\n",
              "    .dataframe thead th {\n",
              "        text-align: right;\n",
              "    }\n",
              "</style>\n",
              "<table border=\"1\" class=\"dataframe\">\n",
              "  <thead>\n",
              "    <tr style=\"text-align: right;\">\n",
              "      <th></th>\n",
              "      <th>order_gk</th>\n",
              "      <th>weekday_key</th>\n",
              "      <th>hour_key</th>\n",
              "      <th>distance_km</th>\n",
              "      <th>offer_class_group</th>\n",
              "    </tr>\n",
              "  </thead>\n",
              "  <tbody>\n",
              "    <tr>\n",
              "      <th>0</th>\n",
              "      <td>4957</td>\n",
              "      <td>3</td>\n",
              "      <td>27</td>\n",
              "      <td>14.239</td>\n",
              "      <td>1</td>\n",
              "    </tr>\n",
              "    <tr>\n",
              "      <th>1</th>\n",
              "      <td>9314</td>\n",
              "      <td>3</td>\n",
              "      <td>21</td>\n",
              "      <td>39.518</td>\n",
              "      <td>2</td>\n",
              "    </tr>\n",
              "    <tr>\n",
              "      <th>2</th>\n",
              "      <td>13922</td>\n",
              "      <td>2</td>\n",
              "      <td>21</td>\n",
              "      <td>17.203</td>\n",
              "      <td>2</td>\n",
              "    </tr>\n",
              "    <tr>\n",
              "      <th>3</th>\n",
              "      <td>37826</td>\n",
              "      <td>5</td>\n",
              "      <td>19</td>\n",
              "      <td>36.971</td>\n",
              "      <td>2</td>\n",
              "    </tr>\n",
              "    <tr>\n",
              "      <th>4</th>\n",
              "      <td>38936</td>\n",
              "      <td>2</td>\n",
              "      <td>19</td>\n",
              "      <td>49.634</td>\n",
              "      <td>2</td>\n",
              "    </tr>\n",
              "  </tbody>\n",
              "</table>\n",
              "</div>"
            ],
            "text/plain": [
              "   order_gk  weekday_key  hour_key  distance_km  offer_class_group\n",
              "0      4957            3        27       14.239                  1\n",
              "1      9314            3        21       39.518                  2\n",
              "2     13922            2        21       17.203                  2\n",
              "3     37826            5        19       36.971                  2\n",
              "4     38936            2        19       49.634                  2"
            ]
          },
          "execution_count": 23,
          "metadata": {},
          "output_type": "execute_result"
        }
      ],
      "source": [
        "df = pd.read_csv('https://u.netology.ru/backend/uploads/lms/attachments/files/data/52036/dip_db_check_taxi.csv')\n",
        "df.head()"
      ]
    },
    {
      "cell_type": "code",
      "execution_count": null,
      "metadata": {
        "colab": {
          "base_uri": "https://localhost:8080/"
        },
        "id": "sQKOiinbOiXs",
        "outputId": "0c2474e9-0321-4590-d733-e3d757d4fdc5"
      },
      "outputs": [
        {
          "data": {
            "text/plain": [
              "(100, 5)"
            ]
          },
          "execution_count": 24,
          "metadata": {},
          "output_type": "execute_result"
        }
      ],
      "source": [
        "df.shape"
      ]
    },
    {
      "cell_type": "code",
      "execution_count": null,
      "metadata": {
        "colab": {
          "base_uri": "https://localhost:8080/"
        },
        "id": "BV6cqcBjOjCv",
        "outputId": "2e54e861-8382-4cd0-bcf9-b07bf8ece4c8"
      },
      "outputs": [
        {
          "data": {
            "text/plain": [
              "4957      1\n",
              "549348    1\n",
              "635251    1\n",
              "626856    1\n",
              "620982    1\n",
              "         ..\n",
              "204791    1\n",
              "200303    1\n",
              "197454    1\n",
              "194882    1\n",
              "867363    1\n",
              "Name: order_gk, Length: 100, dtype: int64"
            ]
          },
          "execution_count": 25,
          "metadata": {},
          "output_type": "execute_result"
        }
      ],
      "source": [
        "df['order_gk'].value_counts()"
      ]
    },
    {
      "cell_type": "markdown",
      "metadata": {
        "id": "GlZGtFDrJNtk"
      },
      "source": [
        "**Все идентификаторы разные, значит ничего из них не получим, поэтому занесем в индекс.**"
      ]
    },
    {
      "cell_type": "code",
      "execution_count": null,
      "metadata": {
        "colab": {
          "base_uri": "https://localhost:8080/",
          "height": 237
        },
        "id": "r71Y1CQtPWgP",
        "outputId": "dd182a18-8147-4e27-fbb9-14557d0c1f6e"
      },
      "outputs": [
        {
          "data": {
            "text/html": [
              "<div>\n",
              "<style scoped>\n",
              "    .dataframe tbody tr th:only-of-type {\n",
              "        vertical-align: middle;\n",
              "    }\n",
              "\n",
              "    .dataframe tbody tr th {\n",
              "        vertical-align: top;\n",
              "    }\n",
              "\n",
              "    .dataframe thead th {\n",
              "        text-align: right;\n",
              "    }\n",
              "</style>\n",
              "<table border=\"1\" class=\"dataframe\">\n",
              "  <thead>\n",
              "    <tr style=\"text-align: right;\">\n",
              "      <th></th>\n",
              "      <th>weekday_key</th>\n",
              "      <th>hour_key</th>\n",
              "      <th>distance_km</th>\n",
              "      <th>offer_class_group</th>\n",
              "    </tr>\n",
              "    <tr>\n",
              "      <th>order_gk</th>\n",
              "      <th></th>\n",
              "      <th></th>\n",
              "      <th></th>\n",
              "      <th></th>\n",
              "    </tr>\n",
              "  </thead>\n",
              "  <tbody>\n",
              "    <tr>\n",
              "      <th>4957</th>\n",
              "      <td>3</td>\n",
              "      <td>27</td>\n",
              "      <td>14.239</td>\n",
              "      <td>1</td>\n",
              "    </tr>\n",
              "    <tr>\n",
              "      <th>9314</th>\n",
              "      <td>3</td>\n",
              "      <td>21</td>\n",
              "      <td>39.518</td>\n",
              "      <td>2</td>\n",
              "    </tr>\n",
              "    <tr>\n",
              "      <th>13922</th>\n",
              "      <td>2</td>\n",
              "      <td>21</td>\n",
              "      <td>17.203</td>\n",
              "      <td>2</td>\n",
              "    </tr>\n",
              "    <tr>\n",
              "      <th>37826</th>\n",
              "      <td>5</td>\n",
              "      <td>19</td>\n",
              "      <td>36.971</td>\n",
              "      <td>2</td>\n",
              "    </tr>\n",
              "    <tr>\n",
              "      <th>38936</th>\n",
              "      <td>2</td>\n",
              "      <td>19</td>\n",
              "      <td>49.634</td>\n",
              "      <td>2</td>\n",
              "    </tr>\n",
              "  </tbody>\n",
              "</table>\n",
              "</div>"
            ],
            "text/plain": [
              "          weekday_key  hour_key  distance_km  offer_class_group\n",
              "order_gk                                                       \n",
              "4957                3        27       14.239                  1\n",
              "9314                3        21       39.518                  2\n",
              "13922               2        21       17.203                  2\n",
              "37826               5        19       36.971                  2\n",
              "38936               2        19       49.634                  2"
            ]
          },
          "execution_count": 26,
          "metadata": {},
          "output_type": "execute_result"
        }
      ],
      "source": [
        "df = df.set_index('order_gk')\n",
        "df.head()"
      ]
    },
    {
      "cell_type": "markdown",
      "metadata": {
        "id": "OSQ79JOzJNtk"
      },
      "source": [
        "**Возьмём 5 бижайших соседей и обучим на эвклидовом расстоянии.**"
      ]
    },
    {
      "cell_type": "code",
      "execution_count": null,
      "metadata": {
        "colab": {
          "base_uri": "https://localhost:8080/",
          "height": 75
        },
        "id": "Js1vd6K3Ljeu",
        "outputId": "87d97dd0-67d3-43ea-c222-7a22c98129cd"
      },
      "outputs": [
        {
          "data": {
            "text/plain": [
              "NearestNeighbors(metric='euclidean')"
            ]
          },
          "execution_count": 27,
          "metadata": {},
          "output_type": "execute_result"
        }
      ],
      "source": [
        "from sklearn.neighbors import NearestNeighbors\n",
        "\n",
        "neigh = NearestNeighbors(n_neighbors=5, metric='euclidean')\n",
        "neigh.fit(df)"
      ]
    },
    {
      "cell_type": "markdown",
      "metadata": {
        "id": "J3jNSfbSJNtk"
      },
      "source": [
        "**Найдём самые ближние объекты**"
      ]
    },
    {
      "cell_type": "code",
      "execution_count": null,
      "metadata": {
        "id": "SBTwZmU2OR9n"
      },
      "outputs": [],
      "source": [
        "result = pd.DataFrame(columns=['target', 'closest_dist', 'closest_idx'])\n",
        "\n",
        "for idx in df.index:\n",
        "    res = neigh.kneighbors(df.loc[[idx]], return_distance=True)\n",
        "\n",
        "    result = pd.concat(\n",
        "        [result,\n",
        "         pd.DataFrame({\n",
        "              'target': [idx],\n",
        "              'closest_dist': [res[0][0][1]],\n",
        "              'closest_idx': [df.iloc[res[1][0][1]].name]\n",
        "          })\n",
        "         ]\n",
        "      )"
      ]
    },
    {
      "cell_type": "code",
      "execution_count": null,
      "metadata": {
        "colab": {
          "base_uri": "https://localhost:8080/",
          "height": 363
        },
        "id": "X83kJJ4ROeHo",
        "outputId": "cf6743e2-cbfb-49e5-83be-3e87e4bbe223"
      },
      "outputs": [
        {
          "data": {
            "text/html": [
              "<div>\n",
              "<style scoped>\n",
              "    .dataframe tbody tr th:only-of-type {\n",
              "        vertical-align: middle;\n",
              "    }\n",
              "\n",
              "    .dataframe tbody tr th {\n",
              "        vertical-align: top;\n",
              "    }\n",
              "\n",
              "    .dataframe thead th {\n",
              "        text-align: right;\n",
              "    }\n",
              "</style>\n",
              "<table border=\"1\" class=\"dataframe\">\n",
              "  <thead>\n",
              "    <tr style=\"text-align: right;\">\n",
              "      <th></th>\n",
              "      <th>target</th>\n",
              "      <th>closest_dist</th>\n",
              "      <th>closest_idx</th>\n",
              "    </tr>\n",
              "  </thead>\n",
              "  <tbody>\n",
              "    <tr>\n",
              "      <th>0</th>\n",
              "      <td>94794</td>\n",
              "      <td>0.033000</td>\n",
              "      <td>330292</td>\n",
              "    </tr>\n",
              "    <tr>\n",
              "      <th>0</th>\n",
              "      <td>330292</td>\n",
              "      <td>0.033000</td>\n",
              "      <td>94794</td>\n",
              "    </tr>\n",
              "    <tr>\n",
              "      <th>0</th>\n",
              "      <td>412671</td>\n",
              "      <td>1.092923</td>\n",
              "      <td>597863</td>\n",
              "    </tr>\n",
              "    <tr>\n",
              "      <th>0</th>\n",
              "      <td>597863</td>\n",
              "      <td>1.092923</td>\n",
              "      <td>412671</td>\n",
              "    </tr>\n",
              "    <tr>\n",
              "      <th>0</th>\n",
              "      <td>293849</td>\n",
              "      <td>1.441472</td>\n",
              "      <td>190596</td>\n",
              "    </tr>\n",
              "    <tr>\n",
              "      <th>0</th>\n",
              "      <td>190596</td>\n",
              "      <td>1.441472</td>\n",
              "      <td>293849</td>\n",
              "    </tr>\n",
              "    <tr>\n",
              "      <th>0</th>\n",
              "      <td>699904</td>\n",
              "      <td>1.448000</td>\n",
              "      <td>86889</td>\n",
              "    </tr>\n",
              "    <tr>\n",
              "      <th>0</th>\n",
              "      <td>86889</td>\n",
              "      <td>1.448000</td>\n",
              "      <td>699904</td>\n",
              "    </tr>\n",
              "    <tr>\n",
              "      <th>0</th>\n",
              "      <td>558065</td>\n",
              "      <td>1.460307</td>\n",
              "      <td>516190</td>\n",
              "    </tr>\n",
              "    <tr>\n",
              "      <th>0</th>\n",
              "      <td>516190</td>\n",
              "      <td>1.460307</td>\n",
              "      <td>558065</td>\n",
              "    </tr>\n",
              "  </tbody>\n",
              "</table>\n",
              "</div>"
            ],
            "text/plain": [
              "   target  closest_dist closest_idx\n",
              "0   94794      0.033000      330292\n",
              "0  330292      0.033000       94794\n",
              "0  412671      1.092923      597863\n",
              "0  597863      1.092923      412671\n",
              "0  293849      1.441472      190596\n",
              "0  190596      1.441472      293849\n",
              "0  699904      1.448000       86889\n",
              "0   86889      1.448000      699904\n",
              "0  558065      1.460307      516190\n",
              "0  516190      1.460307      558065"
            ]
          },
          "execution_count": 29,
          "metadata": {},
          "output_type": "execute_result"
        }
      ],
      "source": [
        "result.sort_values('closest_dist')[:10]"
      ]
    },
    {
      "cell_type": "markdown",
      "metadata": {
        "id": "csjCAC7pJNtm"
      },
      "source": [
        "**После сортировки получам пары объектов идущие подряд, рассмотрим их.**"
      ]
    },
    {
      "cell_type": "code",
      "execution_count": null,
      "metadata": {
        "colab": {
          "base_uri": "https://localhost:8080/"
        },
        "id": "3PhkZ63sQ11o",
        "outputId": "18ba26a2-daf0-40ed-a3b1-423515a6a01f"
      },
      "outputs": [
        {
          "name": "stdout",
          "output_type": "stream",
          "text": [
            "weekday_key           2.000\n",
            "hour_key             20.000\n",
            "distance_km          57.879\n",
            "offer_class_group     3.000\n",
            "Name: 94794, dtype: float64\n",
            "\n",
            "weekday_key           2.000\n",
            "hour_key             20.000\n",
            "distance_km          57.846\n",
            "offer_class_group     3.000\n",
            "Name: 330292, dtype: float64\n"
          ]
        }
      ],
      "source": [
        "print(f'{df.loc[94794]}\\n\\n{df.loc[330292]}')"
      ]
    },
    {
      "cell_type": "markdown",
      "metadata": {
        "id": "QrmXHWcmJNtm"
      },
      "source": [
        "**Эти два объекта очень похожи, скорее всего дубли, поэтому один удалим.**"
      ]
    },
    {
      "cell_type": "code",
      "execution_count": null,
      "metadata": {
        "colab": {
          "base_uri": "https://localhost:8080/"
        },
        "id": "qd7uyG51RbrC",
        "outputId": "ac09f0ca-aea2-4cd0-9079-e84752c1e291"
      },
      "outputs": [
        {
          "name": "stdout",
          "output_type": "stream",
          "text": [
            "weekday_key           3.000\n",
            "hour_key             21.000\n",
            "distance_km          22.122\n",
            "offer_class_group     3.000\n",
            "Name: 412671, dtype: float64\n",
            "\n",
            "weekday_key           3.000\n",
            "hour_key             20.000\n",
            "distance_km          22.563\n",
            "offer_class_group     3.000\n",
            "Name: 597863, dtype: float64\n"
          ]
        }
      ],
      "source": [
        "print(f'{df.loc[412671]}\\n\\n{df.loc[597863]}')"
      ]
    },
    {
      "cell_type": "markdown",
      "metadata": {
        "id": "_CsdGQ-sJNtm"
      },
      "source": [
        "**Это скорее всего объекты разные, разница в час. Приехал в одну сторону попросил подожать часок, дал на чай и вернулся обратно.**"
      ]
    },
    {
      "cell_type": "code",
      "execution_count": null,
      "metadata": {
        "colab": {
          "base_uri": "https://localhost:8080/"
        },
        "id": "rZajOQ9QRfl2",
        "outputId": "4783bd0a-bdb1-4d86-97e2-a30c6134595c"
      },
      "outputs": [
        {
          "name": "stdout",
          "output_type": "stream",
          "text": [
            "weekday_key           6.000\n",
            "hour_key             23.000\n",
            "distance_km          11.627\n",
            "offer_class_group     1.000\n",
            "Name: 293849, dtype: float64\n",
            "\n",
            "weekday_key           6.000\n",
            "hour_key             22.000\n",
            "distance_km          11.348\n",
            "offer_class_group     2.000\n",
            "Name: 190596, dtype: float64\n"
          ]
        }
      ],
      "source": [
        "print(f'{df.loc[293849]}\\n\\n{df.loc[190596]}')"
      ]
    },
    {
      "cell_type": "markdown",
      "metadata": {
        "id": "BUzL57B9JNtm"
      },
      "source": [
        "**Похоже, но машины разные, скорее всего была замена на автомобиль другого класса.**"
      ]
    },
    {
      "cell_type": "code",
      "execution_count": null,
      "metadata": {
        "colab": {
          "base_uri": "https://localhost:8080/"
        },
        "id": "_to--qFzUo7I",
        "outputId": "27083b6f-7f96-4d5f-8ae5-42288c8ce712"
      },
      "outputs": [
        {
          "name": "stdout",
          "output_type": "stream",
          "text": [
            "weekday_key           2.000\n",
            "hour_key             24.000\n",
            "distance_km          11.013\n",
            "offer_class_group     3.000\n",
            "Name: 699904, dtype: float64\n",
            "\n",
            "weekday_key           2.000\n",
            "hour_key             24.000\n",
            "distance_km           9.565\n",
            "offer_class_group     3.000\n",
            "Name: 86889, dtype: float64\n"
          ]
        }
      ],
      "source": [
        "print(f'{df.loc[699904]}\\n\\n{df.loc[86889]}')"
      ]
    },
    {
      "cell_type": "markdown",
      "metadata": {
        "id": "Z03oTjUtJNtn"
      },
      "source": [
        "**А здесь совпадение уже слишком мало. У остальных объектов расстояние ещё больше.**"
      ]
    }
  ],
  "metadata": {
    "colab": {
      "provenance": [],
      "include_colab_link": true
    },
    "kernelspec": {
      "display_name": "Python 3 (ipykernel)",
      "language": "python",
      "name": "python3"
    },
    "language_info": {
      "codemirror_mode": {
        "name": "ipython",
        "version": 3
      },
      "file_extension": ".py",
      "mimetype": "text/x-python",
      "name": "python",
      "nbconvert_exporter": "python",
      "pygments_lexer": "ipython3",
      "version": "3.9.13"
    }
  },
  "nbformat": 4,
  "nbformat_minor": 0
}